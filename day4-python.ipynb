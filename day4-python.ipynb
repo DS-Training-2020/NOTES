{
 "cells": [
  {
   "cell_type": "markdown",
   "id": "146247d2",
   "metadata": {},
   "source": [
    "![Intro](day4-intro.png)"
   ]
  },
  {
   "cell_type": "markdown",
   "id": "0470d555",
   "metadata": {},
   "source": [
    "![Intro](day4-outline.png)"
   ]
  },
  {
   "cell_type": "markdown",
   "id": "149ba92b-902e-4aad-921e-557d3a1fde76",
   "metadata": {},
   "source": [
    "![Quote](http://darlington.infinityfreeapp.com/images/quote6.png)"
   ]
  },
  {
   "cell_type": "markdown",
   "id": "7be5f741-5ef7-4c4c-918f-69936a10c797",
   "metadata": {},
   "source": [
    "# 1. File Handling in Python"
   ]
  },
  {
   "cell_type": "markdown",
   "id": "abc6ef3e-0414-489a-b863-2a2d0970eb0a",
   "metadata": {},
   "source": [
    "File handling in Python refers to *the process of working with files* on a computer's file system. Python provides built-in functions and modules to perform various operations on files, such as **reading from** and **writing to files**. These operations allow you to interact with files stored on your computer or network, enabling you to retrieve data from files, modify their contents, and create new files."
   ]
  },
  {
   "cell_type": "markdown",
   "id": "a4b63383-0ea3-4d02-aa1d-64c578c1bd1e",
   "metadata": {},
   "source": [
    "### 1.1 File Handling Modes"
   ]
  },
  {
   "cell_type": "markdown",
   "id": "14dada76-37ef-4525-a5fd-4242222ab6e8",
   "metadata": {},
   "source": [
    "When working with files in Python, you need to open the file in the appropriate mode. There are three modes available:\n",
    "\n",
    " - **Read mode (r)**: Opens the file for reading. You can read the file but cannot edit or delete its contents.\n",
    "   \n",
    " - **Write mode (w)**: Opens the file for writing. If the file already exists, all its content will be deleted, and the file will be opened for writing. If the file does not exist, a new file will be created.\n",
    "   \n",
    " - **Append mode (a)**: Opens the file for appending. It allows you to add new content to the end of the file without deleting the existing content. If the file does not exist, a new file will be created."
   ]
  },
  {
   "cell_type": "markdown",
   "id": "1776ed1c-a477-4db5-bad2-ef04ef1f4924",
   "metadata": {},
   "source": [
    "### 1.2 Opening a File"
   ]
  },
  {
   "cell_type": "markdown",
   "id": "66d5bb1d-be0b-4f7b-bbc3-33b061a0cbb1",
   "metadata": {},
   "source": [
    "The first step in working with files in Python is to open them. This is done using the **open()** function. This function requires two arguments: **the file name** or *file path* of the file you wish to open, **and the mode** in which you want to open it — either *read*, *write*, or *append mode*. If you don't provide a mode, the default is **read-only** (or *'read' mode*)."
   ]
  },
  {
   "cell_type": "markdown",
   "id": "6e8f9467-04d3-4da6-aaf7-5f5533ae3e3f",
   "metadata": {},
   "source": [
    "**NOTE:** It's important to note that, closing the file after reading or writing ensures proper resource management, data integrity, and prevents potential file corruption."
   ]
  },
  {
   "cell_type": "code",
   "execution_count": 2,
   "id": "587eedd5",
   "metadata": {},
   "outputs": [
    {
     "name": "stdout",
     "output_type": "stream",
     "text": [
      "Lorem ipsum dolor sit amet, \n",
      "consectetur adipiscing elit. Sed do eiusmod tempor \n",
      "incididunt ut labore et dolore magna aliqua. Ut enim ad minim veniam, \n",
      "quis nostrud exercitation New Hello World! in text mode\n"
     ]
    }
   ],
   "source": [
    "file =open(\"example.txt\", 'r')\n",
    "lines = file.read()\n",
    "print(lines)\n",
    "\n",
    "file.close()"
   ]
  },
  {
   "cell_type": "markdown",
   "id": "025ed9bf-2a33-4120-a9c2-557b2734b10d",
   "metadata": {},
   "source": [
    "**NOTE:** The code above opens a file in write mode, writes content to it, and then closes the file to ensure proper resource management, data integrity, and to prevent potential file corruption. Always remember to close files after writing to them to maintain good programming practices."
   ]
  },
  {
   "cell_type": "markdown",
   "id": "f9d6153b-2dc3-47b3-a91b-6aa5f1fba294",
   "metadata": {},
   "source": [
    "### 1.3 Reading from a File"
   ]
  },
  {
   "cell_type": "markdown",
   "id": "503ba7d7-a2b3-48b4-bda8-c43c85179885",
   "metadata": {},
   "source": [
    "Once a file is opened, you can read its contents using various methods like **read()**, **readline()**, or **readlines()**. Please note that in Python, you can't directly read a file without first opening it. Opening a file establishes a connection between your Python script and the file on disk, allowing you to perform operations such as reading, writing, or appending data to it."
   ]
  },
  {
   "cell_type": "markdown",
   "id": "940a6e26-5832-4578-afc8-f2f143d86b1b",
   "metadata": {},
   "source": [
    "#### The read() Method"
   ]
  },
  {
   "cell_type": "markdown",
   "id": "3d76dbb6-006d-42cf-a808-b2e396138da7",
   "metadata": {},
   "source": [
    "The **read()** method **reads the entire contents of a file** as a single string. It is suitable for reading small files or when you need the entire file content as a single string.\n"
   ]
  },
  {
   "cell_type": "code",
   "execution_count": 3,
   "id": "c263e1f9",
   "metadata": {},
   "outputs": [
    {
     "name": "stdout",
     "output_type": "stream",
     "text": [
      "Lorem ipsum dolor sit amet, \n",
      "consectetur adipiscing elit. Sed do eiusmod tempor \n",
      "incididunt ut labore et dolore magna aliqua. Ut enim ad minim veniam, \n",
      "quis nostrud exercitation New Hello World! in text mode\n"
     ]
    }
   ],
   "source": [
    "file =open(\"example.txt\", 'r')\n",
    "lines = file.read()\n",
    "print(lines)\n",
    "\n",
    "file.close()"
   ]
  },
  {
   "cell_type": "markdown",
   "id": "6749d817-1f66-437b-a387-253c403b85d2",
   "metadata": {},
   "source": [
    "In this example, **file.read()** reads the entire contents of the file \"**example.txt**\" and stores it in the variable **content**, and then closes the file."
   ]
  },
  {
   "cell_type": "markdown",
   "id": "c5e1c39c-38f9-4c51-ad50-de8e28b4ed34",
   "metadata": {},
   "source": [
    "#### The readline() Method"
   ]
  },
  {
   "cell_type": "markdown",
   "id": "677e150e-9542-4781-ae38-d5939157f91f",
   "metadata": {},
   "source": [
    "The **readline()** method **reads a single line from the file at a time**. It is useful for reading files line by line, especially when dealing with large files.\n"
   ]
  },
  {
   "cell_type": "code",
   "execution_count": 6,
   "id": "92ef2f1a",
   "metadata": {},
   "outputs": [
    {
     "name": "stdout",
     "output_type": "stream",
     "text": [
      "Lorem ipsum dolor sit amet, \n",
      "\n"
     ]
    }
   ],
   "source": [
    "file =open(\"example.txt\", 'r')\n",
    "lines = file.readline()\n",
    "print(lines)\n",
    "\n",
    "file.close()"
   ]
  },
  {
   "cell_type": "markdown",
   "id": "d2a36c7f-0576-45a2-b7c2-2c0f7377230a",
   "metadata": {},
   "source": [
    "In this example, **file.readline()** reads the first line of the file \"**example.txt**\" and stores it in the variable **line**, and then closes the file. Subsequent calls to *readline()* will read the next line, one after the other."
   ]
  },
  {
   "cell_type": "markdown",
   "id": "230430f5-d467-40db-bcf6-11c0bc92823a",
   "metadata": {},
   "source": [
    "#### The readlines() Method"
   ]
  },
  {
   "cell_type": "markdown",
   "id": "03e68442-0233-4ed7-861f-a5b064c7cc41",
   "metadata": {},
   "source": [
    "The **readlines()** method **reads all lines from the file** and returns them as **a list of strings**. It is ideal for reading all lines from a file into a list, enabling easy iteration and processing of each line."
   ]
  },
  {
   "cell_type": "code",
   "execution_count": 7,
   "id": "89df8b42",
   "metadata": {},
   "outputs": [
    {
     "name": "stdout",
     "output_type": "stream",
     "text": [
      "['Lorem ipsum dolor sit amet, \\n', 'consectetur adipiscing elit. Sed do eiusmod tempor \\n', 'incididunt ut labore et dolore magna aliqua. Ut enim ad minim veniam, \\n', 'quis nostrud exercitation New Hello World! in text mode']\n"
     ]
    }
   ],
   "source": [
    "file =open(\"example.txt\", 'r')\n",
    "lines = file.readlines()\n",
    "print(lines)\n",
    "\n",
    "file.close()"
   ]
  },
  {
   "cell_type": "markdown",
   "id": "8958195f-c334-456f-bbca-5224ac1fb137",
   "metadata": {},
   "source": [
    "In this example, **file.readlines()** reads all lines from the file \"**example.txt**\" and returns them as a list of strings stored in the variable **lines**. \n",
    "You can iterate over this list to process each line individually."
   ]
  },
  {
   "cell_type": "markdown",
   "id": "c4087507-676e-46b1-a907-ee4433a559e7",
   "metadata": {},
   "source": [
    "### 1.4 Writing to a File"
   ]
  },
  {
   "cell_type": "markdown",
   "id": "a528cf79-4709-48af-83a3-b42b9a54de4e",
   "metadata": {},
   "source": [
    "To write data to a file, you need to open the file in **write mode ('w')** or **append mode ('a')**. In write mode, the contents of the file are erased, and any existing data is overwritten. In append mode, new data is added to the end of the file without erasing the existing contents.\n",
    "\n",
    "You can use the **write()** and **writelines()** methods to write data to a file."
   ]
  },
  {
   "cell_type": "markdown",
   "id": "be24396f-29cc-4d6c-a5a2-d05de0edff84",
   "metadata": {},
   "source": [
    "#### The write() Method"
   ]
  },
  {
   "cell_type": "markdown",
   "id": "d04e924c-ae98-4130-b188-f574dda38e3a",
   "metadata": {},
   "source": [
    "The **write()** method takes a string as an argument and writes it to the file."
   ]
  },
  {
   "cell_type": "code",
   "execution_count": 8,
   "id": "aa0fabd7",
   "metadata": {},
   "outputs": [],
   "source": [
    "file = open(\"example-Copy1.txt\",\"w\")\n",
    "file.write(\"Hello world!\")\n",
    "file.close()"
   ]
  },
  {
   "cell_type": "code",
   "execution_count": 9,
   "id": "f39707a7",
   "metadata": {},
   "outputs": [],
   "source": [
    "file = open(\"glen.txt\",\"w\")\n",
    "file.write(\"Hello world! this is a new file\")\n",
    "file.close()"
   ]
  },
  {
   "cell_type": "markdown",
   "id": "f2fd3d10-2aed-43c0-811e-20fd62a4888b",
   "metadata": {},
   "source": [
    "#### The writelines() Method"
   ]
  },
  {
   "cell_type": "markdown",
   "id": "d1188e91-1fc9-4969-bd16-e76de10e4086",
   "metadata": {},
   "source": [
    "You can also use the **writelines()** method to write **a list of strings** to the file."
   ]
  },
  {
   "cell_type": "code",
   "execution_count": 10,
   "id": "9325ab8f",
   "metadata": {},
   "outputs": [],
   "source": [
    "file = open(\"test.txt\", 'w')\n",
    "list_to_write=['first line\\n', 'Second line\\n', 'Third line\\n', 'Fourth line\\n', 'Fifth line\\n']\n",
    "file.writelines(list_to_write)\n",
    "file.close()"
   ]
  },
  {
   "cell_type": "markdown",
   "id": "d2e7778c-e094-45ff-b57a-e6b64ec514f1",
   "metadata": {},
   "source": [
    "### 1.5 Closing a File"
   ]
  },
  {
   "cell_type": "markdown",
   "id": "9d7a90dd-fb3a-40fe-ba3f-e67eac187968",
   "metadata": {},
   "source": [
    "It's essential to close the file once you've finished working with it to free up system resources and ensure that all data is written to the file. You can use the **close()** method for this purpose."
   ]
  },
  {
   "cell_type": "markdown",
   "id": "7ab3230d-3d06-4f48-a5c5-8c07e02641ad",
   "metadata": {},
   "source": [
    "### 1.6 Using 'with' Statement"
   ]
  },
  {
   "cell_type": "markdown",
   "id": "50cfc0b1-f333-463e-b514-8571bd6752af",
   "metadata": {},
   "source": [
    "A more effective approach to handle files is by using the '**with**' statement. This ensures that the file is properly closed after the operations are performed, **even in the case of exceptions**."
   ]
  },
  {
   "cell_type": "markdown",
   "id": "5c5e085c-c2ab-4bee-a7e4-f42b3d50176a",
   "metadata": {},
   "source": [
    "**NOTE**: It's good practice to use the **with** statement to automatically handle the opening and closing of files."
   ]
  },
  {
   "cell_type": "code",
   "execution_count": 11,
   "id": "a308c3f0",
   "metadata": {},
   "outputs": [
    {
     "data": {
      "text/plain": [
       "'Lorem ipsum dolor sit amet, \\nconsectetur adipiscing elit. Sed do eiusmod tempor \\nincididunt ut labore et dolore magna aliqua. Ut enim ad minim veniam, \\nquis nostrud exercitation New Hello World! in text mode'"
      ]
     },
     "execution_count": 11,
     "metadata": {},
     "output_type": "execute_result"
    }
   ],
   "source": [
    "with open(\"example.txt\",\"r\") as file:\n",
    "    content = file.read()\n",
    "content"
   ]
  },
  {
   "cell_type": "code",
   "execution_count": 12,
   "id": "66e4a006",
   "metadata": {},
   "outputs": [
    {
     "data": {
      "text/plain": [
       "14"
      ]
     },
     "execution_count": 12,
     "metadata": {},
     "output_type": "execute_result"
    }
   ],
   "source": [
    "with open(\"example-Copy1.txt\", \"w\") as file:\n",
    "    content=file.write(\"Hello Operator\")\n",
    "content"
   ]
  },
  {
   "cell_type": "code",
   "execution_count": 14,
   "id": "0135772a",
   "metadata": {},
   "outputs": [
    {
     "data": {
      "text/plain": [
       "19"
      ]
     },
     "execution_count": 14,
     "metadata": {},
     "output_type": "execute_result"
    }
   ],
   "source": [
    "with open(\"example-Copy1.txt\", \"a\") as file:\n",
    "    content=file.write(\"\\nappended some text\")\n",
    "content"
   ]
  },
  {
   "cell_type": "markdown",
   "id": "c178d1f3-8b91-49ca-8e5c-06cbfcd78233",
   "metadata": {},
   "source": [
    "# 2. Understanding Python Libraries, Packages and Modules"
   ]
  },
  {
   "cell_type": "markdown",
   "id": "ba98851e-f61e-466f-b794-422c2e38caf7",
   "metadata": {},
   "source": [
    "Python offers a rich ecosystem of **libraries**, **packages**, and **modules** that greatly enhance its capabilities. These resources provide access to additional features, **expanding Python's functionality across various domains within computer science**. This diversity makes Python a highly versatile and powerful language, capable of addressing a broad spectrum of tasks and challenges in different fields."
   ]
  },
  {
   "cell_type": "markdown",
   "id": "839116c7-4da9-41cf-b9b6-eebaf4a97f67",
   "metadata": {},
   "source": [
    "### 2.1 Modules"
   ]
  },
  {
   "cell_type": "markdown",
   "id": "a97c56b0-2eac-4e64-a518-f5d5298ab900",
   "metadata": {},
   "source": [
    "A module in Python refers to **a standalone file** that contains various reusable components, such as functions and classes. These components can be **imported into your Python program to enhance its functionality**. Once imported, the functions and classes within the module become accessible for use within your program, allowing you to call any function within the module and utilize its capabilities."
   ]
  },
  {
   "cell_type": "code",
   "execution_count": null,
   "id": "aab9d807-8ef1-49cf-a8d0-207bdac47cef",
   "metadata": {},
   "outputs": [],
   "source": [
    "# Syntax\n",
    "import module_name"
   ]
  },
  {
   "cell_type": "markdown",
   "id": "677cf1dd-865a-4d69-9fd4-b8a86bc6af3c",
   "metadata": {},
   "source": [
    "### A Simple Python Program to Record User Login Information"
   ]
  },
  {
   "cell_type": "markdown",
   "id": "a087b5c1-f0b9-4132-8bd1-32e22a3c1336",
   "metadata": {},
   "source": [
    "This code will import a module called \"**module_name.py**\" together with it's content into your python program for additional functionality."
   ]
  },
  {
   "cell_type": "markdown",
   "id": "32373923-c51e-4d28-8e97-f2b433dcf61e",
   "metadata": {},
   "source": [
    "### 2.2 Packages"
   ]
  },
  {
   "cell_type": "markdown",
   "id": "3fed6453-2147-4e7a-a27a-5be6028fa95d",
   "metadata": {},
   "source": [
    "In Python, a package is **a special type of directory** that serves as a container for **a collection of modules**. These modules are grouped together within the package directory, along with *a special file* called **init.py**. This file is essential as *it marks the directory as a package*. The purpose of packages is to promote code reuse and organization. By grouping related modules together, packages provide a convenient way to organize and manage code within larger projects. This allows developers to easily access and utilize the functionality provided by the modules within the package.ts."
   ]
  },
  {
   "cell_type": "markdown",
   "id": "1ae799e3-80a7-4f3e-9486-a1baa9f94a7a",
   "metadata": {},
   "source": [
    "Python offers **a wide variety of packages**, each designed for specific purposes. These packages contribute to a robust ecosystem, providing developers with pre-built solutions that enhance efficiency and scalability in their projects."
   ]
  },
  {
   "cell_type": "code",
   "execution_count": null,
   "id": "9175c6d1-b0c5-404e-9b66-75dbd3fc3128",
   "metadata": {},
   "outputs": [],
   "source": [
    "# Syntax 1\n",
    "import package_name.module_name"
   ]
  },
  {
   "cell_type": "markdown",
   "id": "cb49872b-0e47-46d3-9678-bed88b6ddd01",
   "metadata": {},
   "source": [
    "or"
   ]
  },
  {
   "cell_type": "code",
   "execution_count": null,
   "id": "38645d07-4c26-4e67-ada7-c299e57e5eec",
   "metadata": {},
   "outputs": [],
   "source": [
    "# Syntax 2\n",
    "from package_name import module_name"
   ]
  },
  {
   "cell_type": "markdown",
   "id": "6745d3db-88c6-4323-b563-59f8e2d2f761",
   "metadata": {},
   "source": [
    "By using the **import** statement, you can incorporate **a specific module from a package** into your Python program, granting access to its functions, classes, and attributes. The **from ... import ...** syntax allows for more direct access to a module's components (functions, classes, and attributes), making it possible to directly use them without explicitly mentioning the package and module names as a prefix."
   ]
  },
  {
   "cell_type": "markdown",
   "id": "1b83ee9a-3265-4d52-9ab2-eabb0d188ddc",
   "metadata": {},
   "source": [
    "### 2.3 Libraries"
   ]
  },
  {
   "cell_type": "markdown",
   "id": "03d6f70d-a3f6-4619-947b-d30716c1912b",
   "metadata": {},
   "source": [
    "Python libraries are **collections of packages and modules** that provide a wide range of functionalities to extend the capabilities of Python programs. These libraries can include a variety of packages and modules, each consisting of reusable code such as *functions, classes, and variables*. By importing these libraries, or specific modules from them, developers can leverage pre-written code for tasks ranging from **data analysis** and **machine learning** to **web development** and **image processing**. This accelerates the development process and provides efficient solutions for a wide array of programming needs."
   ]
  },
  {
   "cell_type": "code",
   "execution_count": null,
   "id": "b84e0948-76ae-4e63-822b-b9bfeb763090",
   "metadata": {},
   "outputs": [],
   "source": [
    "# Syntax 1\n",
    "import library_name"
   ]
  },
  {
   "cell_type": "markdown",
   "id": "367ce58f-06ab-4d6a-9663-4173a6a14f8b",
   "metadata": {},
   "source": [
    "or"
   ]
  },
  {
   "cell_type": "code",
   "execution_count": null,
   "id": "7932867f-e6df-4a48-bb36-db294d9976f7",
   "metadata": {},
   "outputs": [],
   "source": [
    "# Syntax 2\n",
    "from library_name import package_name"
   ]
  },
  {
   "cell_type": "markdown",
   "id": "91da7e55-283c-4938-af9d-7b381ca2267d",
   "metadata": {},
   "source": [
    "or"
   ]
  },
  {
   "cell_type": "code",
   "execution_count": null,
   "id": "3620d7db-77e0-4627-a773-42359ca3a13b",
   "metadata": {},
   "outputs": [],
   "source": [
    "# Syntax 3\n",
    "from library_name import module_name"
   ]
  },
  {
   "cell_type": "markdown",
   "id": "44128101-a9cb-4f7f-a4f4-d2b56e1f9cb2",
   "metadata": {},
   "source": [
    "The first syntax imports **the entire library**, making all its packages and modules accessible within your Python program. This approach is useful when your program requires multiple functionalities from the library. **The second and third syntax options are more specific**. Syntax 2 imports a designated package (**package_name**) from the library (**library_name**), while Syntax 3 imports a particular module (**module_name**) from the library (**library_name**). These approaches allow for more **targeted imports**, reducing the program's *memory usage* and *improving clarity* by including only the necessary components. This can be particularly beneficial when you need specific functionalities from a library and want to avoid loading unnecessary modules"
   ]
  },
  {
   "cell_type": "markdown",
   "id": "1b9dd7e4-83a2-4bf8-8975-2463ba5f1716",
   "metadata": {},
   "source": [
    "### 2.4 Differences between Modules, Packages, and Libraries in Python"
   ]
  },
  {
   "cell_type": "markdown",
   "id": "b5f1d5be-e4e3-42e9-b023-85a1388b8df6",
   "metadata": {},
   "source": [
    "In Python, libraries, packages, and modules are essential components that extend the capabilities of Python *by allowing programmers to import and use additional functionality in their code*. Each of these components **serves a distinct purpose and operates at a different level** of the software development hierarchy, enabling efficient code organization, reuse, and distribution.\n",
    "\n",
    "The **primary purpose** of Python libraries, packages, and modules is to enhance code efficiency and organization by allowing developers to **reuse expertly crafted, pre-written code**, thereby preventing unnecessary duplication of work and promoting modularity."
   ]
  },
  {
   "cell_type": "markdown",
   "id": "805261e8-f2ac-42dc-afbd-b5d7bcfe94e1",
   "metadata": {},
   "source": [
    "![Libraries](http://darlington.infinityfreeapp.com/images/libraries-packages-modules7.png)"
   ]
  },
  {
   "cell_type": "markdown",
   "id": "427a228d-e2d1-4357-88fb-1f04247a4a78",
   "metadata": {},
   "source": [
    "### 2.5 Popular Python Libraries, Packages and Modules\n"
   ]
  },
  {
   "cell_type": "markdown",
   "id": "88a000a6-af75-4b61-84c1-42b9dc405ef2",
   "metadata": {},
   "source": [
    "#### random"
   ]
  },
  {
   "cell_type": "markdown",
   "id": "911c97e9-bcc4-425e-b6dc-e7f6876815c4",
   "metadata": {},
   "source": [
    "The random module is used to **generate random numbers** and perform random operations, such as shuffling a list."
   ]
  },
  {
   "cell_type": "code",
   "execution_count": 21,
   "id": "6cd3a680",
   "metadata": {},
   "outputs": [
    {
     "data": {
      "text/plain": [
       "10"
      ]
     },
     "execution_count": 21,
     "metadata": {},
     "output_type": "execute_result"
    }
   ],
   "source": [
    "import random as rm\n",
    "rm.randint(1,10)\n",
    "\n"
   ]
  },
  {
   "cell_type": "markdown",
   "id": "dc4354fd-213b-455d-a9a2-7a1899503c74",
   "metadata": {},
   "source": [
    "#### datetime"
   ]
  },
  {
   "cell_type": "code",
   "execution_count": null,
   "id": "e560e602",
   "metadata": {},
   "outputs": [],
   "source": [
    "import datetime\n"
   ]
  },
  {
   "cell_type": "markdown",
   "id": "e2f8f74a-ac98-4701-a98e-8d6dd5a1514c",
   "metadata": {},
   "source": [
    "The datetime module helps in creating and manipulating **dates and times**."
   ]
  },
  {
   "cell_type": "markdown",
   "id": "45903b54-b362-4b40-be42-27bf308aadef",
   "metadata": {},
   "source": [
    "#### math"
   ]
  },
  {
   "cell_type": "markdown",
   "id": "9094c982-db0e-4f0e-938b-68269d44b61e",
   "metadata": {},
   "source": [
    "The math module is used to **perform mathematical operations**, calculate trigonometric functions, round numbers, and more."
   ]
  },
  {
   "cell_type": "code",
   "execution_count": null,
   "id": "732e99be",
   "metadata": {},
   "outputs": [],
   "source": [
    "import math\n",
    "16**0.5\n",
    "\n",
    "math."
   ]
  },
  {
   "cell_type": "markdown",
   "id": "d7106be8-0a57-41fc-9a6f-f5beef94643f",
   "metadata": {},
   "source": [
    "#### pandas"
   ]
  },
  {
   "cell_type": "markdown",
   "id": "1f2989e0-45c4-4a37-b520-0b46ca773bb5",
   "metadata": {},
   "source": [
    "The pandas library is a powerful **data manipulation and analysis tool**. It provides data structures and functions to efficiently work with structured data, such as CSV files, Excel spreadsheets, SQL databases, and more."
   ]
  },
  {
   "cell_type": "code",
   "execution_count": 22,
   "id": "f4574a15",
   "metadata": {},
   "outputs": [
    {
     "name": "stdout",
     "output_type": "stream",
     "text": [
      "Defaulting to user installation because normal site-packages is not writeable\n",
      "Requirement already satisfied: pandas in c:\\programdata\\anaconda3\\lib\\site-packages (1.4.4)\n",
      "Requirement already satisfied: python-dateutil>=2.8.1 in c:\\programdata\\anaconda3\\lib\\site-packages (from pandas) (2.8.2)\n",
      "Requirement already satisfied: numpy>=1.18.5 in c:\\programdata\\anaconda3\\lib\\site-packages (from pandas) (1.21.5)\n",
      "Requirement already satisfied: pytz>=2020.1 in c:\\users\\glena\\appdata\\roaming\\python\\python39\\site-packages (from pandas) (2023.3.post1)\n",
      "Requirement already satisfied: six>=1.5 in c:\\programdata\\anaconda3\\lib\\site-packages (from python-dateutil>=2.8.1->pandas) (1.16.0)\n"
     ]
    }
   ],
   "source": [
    "! pip install pandas\n"
   ]
  },
  {
   "cell_type": "code",
   "execution_count": 30,
   "id": "2142096b-b80a-4e0a-b290-a04959c885bf",
   "metadata": {},
   "outputs": [
    {
     "data": {
      "text/html": [
       "<div>\n",
       "<style scoped>\n",
       "    .dataframe tbody tr th:only-of-type {\n",
       "        vertical-align: middle;\n",
       "    }\n",
       "\n",
       "    .dataframe tbody tr th {\n",
       "        vertical-align: top;\n",
       "    }\n",
       "\n",
       "    .dataframe thead th {\n",
       "        text-align: right;\n",
       "    }\n",
       "</style>\n",
       "<table border=\"1\" class=\"dataframe\">\n",
       "  <thead>\n",
       "    <tr style=\"text-align: right;\">\n",
       "      <th></th>\n",
       "      <th>age</th>\n",
       "      <th>job</th>\n",
       "      <th>marital</th>\n",
       "      <th>education</th>\n",
       "      <th>default</th>\n",
       "      <th>balance</th>\n",
       "      <th>housing</th>\n",
       "      <th>loan</th>\n",
       "      <th>contact</th>\n",
       "      <th>day</th>\n",
       "      <th>month</th>\n",
       "      <th>duration</th>\n",
       "      <th>campaign</th>\n",
       "      <th>pdays</th>\n",
       "      <th>previous</th>\n",
       "      <th>poutcome</th>\n",
       "      <th>y</th>\n",
       "    </tr>\n",
       "  </thead>\n",
       "  <tbody>\n",
       "    <tr>\n",
       "      <th>0</th>\n",
       "      <td>58</td>\n",
       "      <td>management</td>\n",
       "      <td>married</td>\n",
       "      <td>tertiary</td>\n",
       "      <td>no</td>\n",
       "      <td>2143</td>\n",
       "      <td>yes</td>\n",
       "      <td>no</td>\n",
       "      <td>unknown</td>\n",
       "      <td>5</td>\n",
       "      <td>may</td>\n",
       "      <td>261</td>\n",
       "      <td>1</td>\n",
       "      <td>-1</td>\n",
       "      <td>0</td>\n",
       "      <td>unknown</td>\n",
       "      <td>no</td>\n",
       "    </tr>\n",
       "    <tr>\n",
       "      <th>1</th>\n",
       "      <td>44</td>\n",
       "      <td>technician</td>\n",
       "      <td>single</td>\n",
       "      <td>secondary</td>\n",
       "      <td>no</td>\n",
       "      <td>29</td>\n",
       "      <td>yes</td>\n",
       "      <td>no</td>\n",
       "      <td>unknown</td>\n",
       "      <td>5</td>\n",
       "      <td>may</td>\n",
       "      <td>151</td>\n",
       "      <td>1</td>\n",
       "      <td>-1</td>\n",
       "      <td>0</td>\n",
       "      <td>unknown</td>\n",
       "      <td>no</td>\n",
       "    </tr>\n",
       "    <tr>\n",
       "      <th>2</th>\n",
       "      <td>33</td>\n",
       "      <td>entrepreneur</td>\n",
       "      <td>married</td>\n",
       "      <td>secondary</td>\n",
       "      <td>no</td>\n",
       "      <td>2</td>\n",
       "      <td>yes</td>\n",
       "      <td>yes</td>\n",
       "      <td>unknown</td>\n",
       "      <td>5</td>\n",
       "      <td>may</td>\n",
       "      <td>76</td>\n",
       "      <td>1</td>\n",
       "      <td>-1</td>\n",
       "      <td>0</td>\n",
       "      <td>unknown</td>\n",
       "      <td>no</td>\n",
       "    </tr>\n",
       "    <tr>\n",
       "      <th>3</th>\n",
       "      <td>47</td>\n",
       "      <td>blue-collar</td>\n",
       "      <td>married</td>\n",
       "      <td>unknown</td>\n",
       "      <td>no</td>\n",
       "      <td>1506</td>\n",
       "      <td>yes</td>\n",
       "      <td>no</td>\n",
       "      <td>unknown</td>\n",
       "      <td>5</td>\n",
       "      <td>may</td>\n",
       "      <td>92</td>\n",
       "      <td>1</td>\n",
       "      <td>-1</td>\n",
       "      <td>0</td>\n",
       "      <td>unknown</td>\n",
       "      <td>no</td>\n",
       "    </tr>\n",
       "    <tr>\n",
       "      <th>4</th>\n",
       "      <td>33</td>\n",
       "      <td>unknown</td>\n",
       "      <td>single</td>\n",
       "      <td>unknown</td>\n",
       "      <td>no</td>\n",
       "      <td>1</td>\n",
       "      <td>no</td>\n",
       "      <td>no</td>\n",
       "      <td>unknown</td>\n",
       "      <td>5</td>\n",
       "      <td>may</td>\n",
       "      <td>198</td>\n",
       "      <td>1</td>\n",
       "      <td>-1</td>\n",
       "      <td>0</td>\n",
       "      <td>unknown</td>\n",
       "      <td>no</td>\n",
       "    </tr>\n",
       "    <tr>\n",
       "      <th>...</th>\n",
       "      <td>...</td>\n",
       "      <td>...</td>\n",
       "      <td>...</td>\n",
       "      <td>...</td>\n",
       "      <td>...</td>\n",
       "      <td>...</td>\n",
       "      <td>...</td>\n",
       "      <td>...</td>\n",
       "      <td>...</td>\n",
       "      <td>...</td>\n",
       "      <td>...</td>\n",
       "      <td>...</td>\n",
       "      <td>...</td>\n",
       "      <td>...</td>\n",
       "      <td>...</td>\n",
       "      <td>...</td>\n",
       "      <td>...</td>\n",
       "    </tr>\n",
       "    <tr>\n",
       "      <th>45206</th>\n",
       "      <td>51</td>\n",
       "      <td>technician</td>\n",
       "      <td>married</td>\n",
       "      <td>tertiary</td>\n",
       "      <td>no</td>\n",
       "      <td>825</td>\n",
       "      <td>no</td>\n",
       "      <td>no</td>\n",
       "      <td>cellular</td>\n",
       "      <td>17</td>\n",
       "      <td>nov</td>\n",
       "      <td>977</td>\n",
       "      <td>3</td>\n",
       "      <td>-1</td>\n",
       "      <td>0</td>\n",
       "      <td>unknown</td>\n",
       "      <td>yes</td>\n",
       "    </tr>\n",
       "    <tr>\n",
       "      <th>45207</th>\n",
       "      <td>71</td>\n",
       "      <td>retired</td>\n",
       "      <td>divorced</td>\n",
       "      <td>primary</td>\n",
       "      <td>no</td>\n",
       "      <td>1729</td>\n",
       "      <td>no</td>\n",
       "      <td>no</td>\n",
       "      <td>cellular</td>\n",
       "      <td>17</td>\n",
       "      <td>nov</td>\n",
       "      <td>456</td>\n",
       "      <td>2</td>\n",
       "      <td>-1</td>\n",
       "      <td>0</td>\n",
       "      <td>unknown</td>\n",
       "      <td>yes</td>\n",
       "    </tr>\n",
       "    <tr>\n",
       "      <th>45208</th>\n",
       "      <td>72</td>\n",
       "      <td>retired</td>\n",
       "      <td>married</td>\n",
       "      <td>secondary</td>\n",
       "      <td>no</td>\n",
       "      <td>5715</td>\n",
       "      <td>no</td>\n",
       "      <td>no</td>\n",
       "      <td>cellular</td>\n",
       "      <td>17</td>\n",
       "      <td>nov</td>\n",
       "      <td>1127</td>\n",
       "      <td>5</td>\n",
       "      <td>184</td>\n",
       "      <td>3</td>\n",
       "      <td>success</td>\n",
       "      <td>yes</td>\n",
       "    </tr>\n",
       "    <tr>\n",
       "      <th>45209</th>\n",
       "      <td>57</td>\n",
       "      <td>blue-collar</td>\n",
       "      <td>married</td>\n",
       "      <td>secondary</td>\n",
       "      <td>no</td>\n",
       "      <td>668</td>\n",
       "      <td>no</td>\n",
       "      <td>no</td>\n",
       "      <td>telephone</td>\n",
       "      <td>17</td>\n",
       "      <td>nov</td>\n",
       "      <td>508</td>\n",
       "      <td>4</td>\n",
       "      <td>-1</td>\n",
       "      <td>0</td>\n",
       "      <td>unknown</td>\n",
       "      <td>no</td>\n",
       "    </tr>\n",
       "    <tr>\n",
       "      <th>45210</th>\n",
       "      <td>37</td>\n",
       "      <td>entrepreneur</td>\n",
       "      <td>married</td>\n",
       "      <td>secondary</td>\n",
       "      <td>no</td>\n",
       "      <td>2971</td>\n",
       "      <td>no</td>\n",
       "      <td>no</td>\n",
       "      <td>cellular</td>\n",
       "      <td>17</td>\n",
       "      <td>nov</td>\n",
       "      <td>361</td>\n",
       "      <td>2</td>\n",
       "      <td>188</td>\n",
       "      <td>11</td>\n",
       "      <td>other</td>\n",
       "      <td>no</td>\n",
       "    </tr>\n",
       "  </tbody>\n",
       "</table>\n",
       "<p>45211 rows × 17 columns</p>\n",
       "</div>"
      ],
      "text/plain": [
       "       age           job   marital  education default  balance housing loan  \\\n",
       "0       58    management   married   tertiary      no     2143     yes   no   \n",
       "1       44    technician    single  secondary      no       29     yes   no   \n",
       "2       33  entrepreneur   married  secondary      no        2     yes  yes   \n",
       "3       47   blue-collar   married    unknown      no     1506     yes   no   \n",
       "4       33       unknown    single    unknown      no        1      no   no   \n",
       "...    ...           ...       ...        ...     ...      ...     ...  ...   \n",
       "45206   51    technician   married   tertiary      no      825      no   no   \n",
       "45207   71       retired  divorced    primary      no     1729      no   no   \n",
       "45208   72       retired   married  secondary      no     5715      no   no   \n",
       "45209   57   blue-collar   married  secondary      no      668      no   no   \n",
       "45210   37  entrepreneur   married  secondary      no     2971      no   no   \n",
       "\n",
       "         contact  day month  duration  campaign  pdays  previous poutcome    y  \n",
       "0        unknown    5   may       261         1     -1         0  unknown   no  \n",
       "1        unknown    5   may       151         1     -1         0  unknown   no  \n",
       "2        unknown    5   may        76         1     -1         0  unknown   no  \n",
       "3        unknown    5   may        92         1     -1         0  unknown   no  \n",
       "4        unknown    5   may       198         1     -1         0  unknown   no  \n",
       "...          ...  ...   ...       ...       ...    ...       ...      ...  ...  \n",
       "45206   cellular   17   nov       977         3     -1         0  unknown  yes  \n",
       "45207   cellular   17   nov       456         2     -1         0  unknown  yes  \n",
       "45208   cellular   17   nov      1127         5    184         3  success  yes  \n",
       "45209  telephone   17   nov       508         4     -1         0  unknown   no  \n",
       "45210   cellular   17   nov       361         2    188        11    other   no  \n",
       "\n",
       "[45211 rows x 17 columns]"
      ]
     },
     "execution_count": 30,
     "metadata": {},
     "output_type": "execute_result"
    }
   ],
   "source": [
    "# Example - Reading data from a CSV file using pandas\n",
    "import pandas as pd\n",
    "data = pd.read_csv(\"train.csv\",sep=';')\n",
    "df = pd.DataFrame(data)\n",
    "df\n"
   ]
  },
  {
   "cell_type": "code",
   "execution_count": null,
   "id": "230caac7-9e9a-49e6-9551-e9b363fa0f37",
   "metadata": {},
   "outputs": [],
   "source": []
  },
  {
   "cell_type": "code",
   "execution_count": 31,
   "id": "8a8239b1",
   "metadata": {},
   "outputs": [
    {
     "data": {
      "text/plain": [
       "(45211, 17)"
      ]
     },
     "execution_count": 31,
     "metadata": {},
     "output_type": "execute_result"
    }
   ],
   "source": [
    "df.shape"
   ]
  },
  {
   "cell_type": "code",
   "execution_count": 33,
   "id": "1ad7c555",
   "metadata": {},
   "outputs": [
    {
     "data": {
      "text/html": [
       "<div>\n",
       "<style scoped>\n",
       "    .dataframe tbody tr th:only-of-type {\n",
       "        vertical-align: middle;\n",
       "    }\n",
       "\n",
       "    .dataframe tbody tr th {\n",
       "        vertical-align: top;\n",
       "    }\n",
       "\n",
       "    .dataframe thead th {\n",
       "        text-align: right;\n",
       "    }\n",
       "</style>\n",
       "<table border=\"1\" class=\"dataframe\">\n",
       "  <thead>\n",
       "    <tr style=\"text-align: right;\">\n",
       "      <th></th>\n",
       "      <th>count</th>\n",
       "      <th>mean</th>\n",
       "      <th>std</th>\n",
       "      <th>min</th>\n",
       "      <th>25%</th>\n",
       "      <th>50%</th>\n",
       "      <th>75%</th>\n",
       "      <th>max</th>\n",
       "    </tr>\n",
       "  </thead>\n",
       "  <tbody>\n",
       "    <tr>\n",
       "      <th>age</th>\n",
       "      <td>45211.0</td>\n",
       "      <td>40.936210</td>\n",
       "      <td>10.618762</td>\n",
       "      <td>18.0</td>\n",
       "      <td>33.0</td>\n",
       "      <td>39.0</td>\n",
       "      <td>48.0</td>\n",
       "      <td>95.0</td>\n",
       "    </tr>\n",
       "    <tr>\n",
       "      <th>balance</th>\n",
       "      <td>45211.0</td>\n",
       "      <td>1362.272058</td>\n",
       "      <td>3044.765829</td>\n",
       "      <td>-8019.0</td>\n",
       "      <td>72.0</td>\n",
       "      <td>448.0</td>\n",
       "      <td>1428.0</td>\n",
       "      <td>102127.0</td>\n",
       "    </tr>\n",
       "    <tr>\n",
       "      <th>day</th>\n",
       "      <td>45211.0</td>\n",
       "      <td>15.806419</td>\n",
       "      <td>8.322476</td>\n",
       "      <td>1.0</td>\n",
       "      <td>8.0</td>\n",
       "      <td>16.0</td>\n",
       "      <td>21.0</td>\n",
       "      <td>31.0</td>\n",
       "    </tr>\n",
       "    <tr>\n",
       "      <th>duration</th>\n",
       "      <td>45211.0</td>\n",
       "      <td>258.163080</td>\n",
       "      <td>257.527812</td>\n",
       "      <td>0.0</td>\n",
       "      <td>103.0</td>\n",
       "      <td>180.0</td>\n",
       "      <td>319.0</td>\n",
       "      <td>4918.0</td>\n",
       "    </tr>\n",
       "    <tr>\n",
       "      <th>campaign</th>\n",
       "      <td>45211.0</td>\n",
       "      <td>2.763841</td>\n",
       "      <td>3.098021</td>\n",
       "      <td>1.0</td>\n",
       "      <td>1.0</td>\n",
       "      <td>2.0</td>\n",
       "      <td>3.0</td>\n",
       "      <td>63.0</td>\n",
       "    </tr>\n",
       "    <tr>\n",
       "      <th>pdays</th>\n",
       "      <td>45211.0</td>\n",
       "      <td>40.197828</td>\n",
       "      <td>100.128746</td>\n",
       "      <td>-1.0</td>\n",
       "      <td>-1.0</td>\n",
       "      <td>-1.0</td>\n",
       "      <td>-1.0</td>\n",
       "      <td>871.0</td>\n",
       "    </tr>\n",
       "    <tr>\n",
       "      <th>previous</th>\n",
       "      <td>45211.0</td>\n",
       "      <td>0.580323</td>\n",
       "      <td>2.303441</td>\n",
       "      <td>0.0</td>\n",
       "      <td>0.0</td>\n",
       "      <td>0.0</td>\n",
       "      <td>0.0</td>\n",
       "      <td>275.0</td>\n",
       "    </tr>\n",
       "  </tbody>\n",
       "</table>\n",
       "</div>"
      ],
      "text/plain": [
       "            count         mean          std     min    25%    50%     75%  \\\n",
       "age       45211.0    40.936210    10.618762    18.0   33.0   39.0    48.0   \n",
       "balance   45211.0  1362.272058  3044.765829 -8019.0   72.0  448.0  1428.0   \n",
       "day       45211.0    15.806419     8.322476     1.0    8.0   16.0    21.0   \n",
       "duration  45211.0   258.163080   257.527812     0.0  103.0  180.0   319.0   \n",
       "campaign  45211.0     2.763841     3.098021     1.0    1.0    2.0     3.0   \n",
       "pdays     45211.0    40.197828   100.128746    -1.0   -1.0   -1.0    -1.0   \n",
       "previous  45211.0     0.580323     2.303441     0.0    0.0    0.0     0.0   \n",
       "\n",
       "               max  \n",
       "age           95.0  \n",
       "balance   102127.0  \n",
       "day           31.0  \n",
       "duration    4918.0  \n",
       "campaign      63.0  \n",
       "pdays        871.0  \n",
       "previous     275.0  "
      ]
     },
     "execution_count": 33,
     "metadata": {},
     "output_type": "execute_result"
    }
   ],
   "source": [
    "df.describe().T"
   ]
  },
  {
   "cell_type": "code",
   "execution_count": 34,
   "id": "4d8ddb7b",
   "metadata": {},
   "outputs": [
    {
     "name": "stdout",
     "output_type": "stream",
     "text": [
      "<class 'pandas.core.frame.DataFrame'>\n",
      "RangeIndex: 45211 entries, 0 to 45210\n",
      "Data columns (total 17 columns):\n",
      " #   Column     Non-Null Count  Dtype \n",
      "---  ------     --------------  ----- \n",
      " 0   age        45211 non-null  int64 \n",
      " 1   job        45211 non-null  object\n",
      " 2   marital    45211 non-null  object\n",
      " 3   education  45211 non-null  object\n",
      " 4   default    45211 non-null  object\n",
      " 5   balance    45211 non-null  int64 \n",
      " 6   housing    45211 non-null  object\n",
      " 7   loan       45211 non-null  object\n",
      " 8   contact    45211 non-null  object\n",
      " 9   day        45211 non-null  int64 \n",
      " 10  month      45211 non-null  object\n",
      " 11  duration   45211 non-null  int64 \n",
      " 12  campaign   45211 non-null  int64 \n",
      " 13  pdays      45211 non-null  int64 \n",
      " 14  previous   45211 non-null  int64 \n",
      " 15  poutcome   45211 non-null  object\n",
      " 16  y          45211 non-null  object\n",
      "dtypes: int64(7), object(10)\n",
      "memory usage: 5.9+ MB\n"
     ]
    }
   ],
   "source": [
    "df.info()"
   ]
  },
  {
   "cell_type": "markdown",
   "id": "59b56721-4896-48f9-b07c-6c030f5dd632",
   "metadata": {},
   "source": [
    "### 2.6 Installing Libraries and Packages"
   ]
  },
  {
   "cell_type": "markdown",
   "id": "6f1480af-17e7-4756-b0d1-7bc98dc6f563",
   "metadata": {},
   "source": [
    "Python comes with numerous packages and modules in its standard library **by default**. However, for any extra libraries or packages, you can easily install them using **pip**. Pip is a **package installer for Python** that simplifies the process of managing and installing external libraries."
   ]
  },
  {
   "cell_type": "markdown",
   "id": "ef054e56-432a-4c31-a8c1-a858014b1203",
   "metadata": {},
   "source": [
    "#### Python's Standard Library"
   ]
  },
  {
   "cell_type": "markdown",
   "id": "0096bddb-eab6-49ba-a084-cd19015e404f",
   "metadata": {},
   "source": [
    "Python's standard library is a comprehensive collection of modules and packages **that come bundled with the Python programming language**. These modules provide a wide range of functionalities, making them readily available for developers to use without requiring separate installations. The standard library covers diverse areas such as *file I/O*, *networking*, *data structures*, *regular expressions*, *mathematics*, *cryptography*, and more."
   ]
  },
  {
   "cell_type": "markdown",
   "id": "b526ae73-0234-4631-b601-5fca1e29c875",
   "metadata": {},
   "source": [
    "#### Installing Libraries and Packages Using Terminal / Command Prompt"
   ]
  },
  {
   "cell_type": "markdown",
   "id": "8883e32f-645d-4511-8063-53480357791f",
   "metadata": {},
   "source": [
    "To install a package, use the **pip install** command followed by the library or package name. "
   ]
  },
  {
   "cell_type": "code",
   "execution_count": null,
   "id": "c70fd4a1-0168-4242-b5cd-44620dfb0e25",
   "metadata": {},
   "outputs": [],
   "source": [
    "# Example\n",
    "pip install pandas"
   ]
  },
  {
   "cell_type": "markdown",
   "id": "6e383055-d991-4e83-91ab-f1250b371f0b",
   "metadata": {},
   "source": [
    "#### Installing Libraries and Packages Using Jupyter Notebooks"
   ]
  },
  {
   "cell_type": "markdown",
   "id": "d64e1950-62e5-4f58-a7ab-44b278e184ac",
   "metadata": {},
   "source": [
    "To install a package in a Jupyter Notebook, employ the **!pip install** command, specifying the name of the library or package you want to install."
   ]
  },
  {
   "cell_type": "code",
   "execution_count": null,
   "id": "6595210e-f492-443a-9a70-087fc152ce30",
   "metadata": {},
   "outputs": [],
   "source": [
    "# Example\n",
    "!pip install numpy"
   ]
  },
  {
   "cell_type": "code",
   "execution_count": 39,
   "id": "2cbf889b",
   "metadata": {},
   "outputs": [
    {
     "data": {
      "text/plain": [
       "array([ 1,  2,  3,  4,  5,  6,  7,  8,  9, 10])"
      ]
     },
     "execution_count": 39,
     "metadata": {},
     "output_type": "execute_result"
    }
   ],
   "source": [
    "import numpy as np\n",
    "digit = np.array(np.arange(10))\n",
    "digit +1"
   ]
  },
  {
   "cell_type": "markdown",
   "id": "806e12f0-e0b3-48cd-8c37-66353b82a019",
   "metadata": {},
   "source": [
    "### 2.7 Importing Libraries, Packages and Modules"
   ]
  },
  {
   "cell_type": "code",
   "execution_count": 37,
   "id": "db766499",
   "metadata": {},
   "outputs": [],
   "source": [
    "np.array?"
   ]
  },
  {
   "cell_type": "markdown",
   "id": "02727e88-f729-47b3-abf9-3476f9d1ae1b",
   "metadata": {},
   "source": [
    "When working with Python, importing libraries, packages, and modules is an important step to bring in external code and make it accessible within your Python script or program. By importing them, you can leverage the **existing code** and avoid reinventing the wheel."
   ]
  },
  {
   "cell_type": "markdown",
   "id": "ffaa62f6-68a0-4694-8797-c89211873746",
   "metadata": {},
   "source": [
    "#### Importing Entire Libraries or Packages"
   ]
  },
  {
   "cell_type": "markdown",
   "id": "34f55f25-49a5-440d-a505-617756daa240",
   "metadata": {},
   "source": [
    "To import an entire *library* or *package*, use the **import** keyword followed by the *library name* or *package name*."
   ]
  },
  {
   "cell_type": "code",
   "execution_count": null,
   "id": "9504510e-3f6b-412c-955a-f63ba094ab41",
   "metadata": {},
   "outputs": [],
   "source": [
    "# Syntax\n",
    "import library_name"
   ]
  },
  {
   "cell_type": "markdown",
   "id": "f2759aff-69c7-49d6-bd85-337df69cd8a2",
   "metadata": {},
   "source": [
    "#### Importing Specific Modules from Libraries or Packages"
   ]
  },
  {
   "cell_type": "markdown",
   "id": "46b716a2-2b5c-41b1-84d1-2b6220bf6170",
   "metadata": {},
   "source": [
    "To import specific items from a *library* or *package*, use the **from** keyword.\n"
   ]
  },
  {
   "cell_type": "code",
   "execution_count": null,
   "id": "0662f6bc-b03e-45dc-8a94-496ebba16fb3",
   "metadata": {},
   "outputs": [],
   "source": [
    "# Syntax\n",
    "from library_name import module_name"
   ]
  },
  {
   "cell_type": "markdown",
   "id": "d6456eea-51c8-4cd8-a2f2-a4e8343635b5",
   "metadata": {},
   "source": [
    "#### Using Aliases"
   ]
  },
  {
   "cell_type": "markdown",
   "id": "b57c7ff7-01c6-4234-99f7-559055947210",
   "metadata": {},
   "source": [
    "You can use aliases **to simplify** long library or module names."
   ]
  },
  {
   "cell_type": "code",
   "execution_count": null,
   "id": "ba50faf6-403c-445c-92c9-782faa638189",
   "metadata": {},
   "outputs": [],
   "source": [
    "# Example\n",
    "import numpy as np"
   ]
  },
  {
   "cell_type": "markdown",
   "id": "9e0fe9f0-c47e-4b16-938c-e02e1df52824",
   "metadata": {},
   "source": [
    "# 7. Practice Exercises"
   ]
  },
  {
   "cell_type": "markdown",
   "id": "d552252c-02b0-4d7f-a54f-dff22b3634ea",
   "metadata": {},
   "source": [
    "#### Exercise 1:"
   ]
  },
  {
   "cell_type": "markdown",
   "id": "440fa8ca-4f84-489e-9e26-6a1b11657076",
   "metadata": {},
   "source": [
    "Write a Python program that reads and displays the user login information from the log file (*user_log.txt*) created previously. The log file contains entries with the date, time, username, and password."
   ]
  },
  {
   "cell_type": "code",
   "execution_count": null,
   "id": "b3cbd709-46ae-485f-a11e-192dbfeb4dd2",
   "metadata": {},
   "outputs": [],
   "source": [
    "# Answer Exercise 1 Here\n"
   ]
  },
  {
   "cell_type": "markdown",
   "id": "94e7c25d-7b0e-48e0-9df2-88a60aa350b8",
   "metadata": {},
   "source": [
    "#### Exercise 2:"
   ]
  },
  {
   "cell_type": "markdown",
   "id": "dc78efe5-8c05-4c92-b289-6e665e4540e5",
   "metadata": {},
   "source": [
    "Write a Python program that uses the datetime module to print the current date and time in the format \"DD-MM-YYYY HH:MM:SS\"."
   ]
  },
  {
   "cell_type": "code",
   "execution_count": null,
   "id": "8e4a3477-7bc8-4501-84a7-bf5ccb25c9b0",
   "metadata": {},
   "outputs": [],
   "source": [
    "# Answer Exercise 2 Here\n"
   ]
  },
  {
   "cell_type": "markdown",
   "id": "0e553330-e663-4ebd-a06c-d4ff758e1a0b",
   "metadata": {},
   "source": [
    "![Quote](http://darlington.infinityfreeapp.com/images/quote7.png)"
   ]
  },
  {
   "cell_type": "markdown",
   "id": "c9222354-c095-4ea4-8dd7-e2758e25d479",
   "metadata": {},
   "source": [
    "# 1. Introduction"
   ]
  },
  {
   "cell_type": "markdown",
   "id": "7c43a124-ce76-47e7-8309-ccb46a887dfd",
   "metadata": {},
   "source": [
    "Welcome to another insightful lesson in our Python Essentials course! In this important session, we will explore the basics of **using Python for data analysis**. Python, due to its simplicity and powerful libraries, stands out as the preferred language for data analysis worldwide. As data analysis has become increasingly important in various fields and industries, both individuals and organizations rely heavily on Python to make well-informed decisions based on data. By the end of this lesson, you'll gain valuable knowledge that will empower you and enhance your proficiency in this essential skill."
   ]
  },
  {
   "cell_type": "markdown",
   "id": "bec454a7-219c-4f44-8972-3b39e5e234a3",
   "metadata": {},
   "source": [
    "# 2. What is Data Analysis?"
   ]
  },
  {
   "cell_type": "markdown",
   "id": "a4075f73-d750-41f4-9534-ac867ef8d13f",
   "metadata": {},
   "source": [
    "Data analysis is the systematic process of **extracting valuable insights and knowledge from raw data**. In today's data-driven world, organizations across various sectors such as *business*, *finance*, *healthcare*, *marketing*, and *research* heavily depend on it to make informed decisions. By analyzing data, organizations and individuals can effectively solve real-world problems, identify emerging trends, detect anomalies, make accurate predictions, and optimize their business processes."
   ]
  },
  {
   "cell_type": "markdown",
   "id": "9f088f3d-f22f-4aa1-815d-01cf4da3212e",
   "metadata": {},
   "source": [
    "# 3. Python Libraries for Data Analysis"
   ]
  },
  {
   "cell_type": "markdown",
   "id": "bbc314cb-e8ee-4ec2-adfe-81c34188cec1",
   "metadata": {},
   "source": [
    "Python offers a wide range of libraries, such as **Pandas**, **NumPy**, and **Matplotlib**, for data analysis. These libraries provide powerful tools and functions to efficiently manipulate, clean, visualize, and analyze data."
   ]
  },
  {
   "cell_type": "markdown",
   "id": "7e161611-5f3c-46f2-9093-5e9c15e5246c",
   "metadata": {},
   "source": [
    "### 3.2 NumPy"
   ]
  },
  {
   "cell_type": "markdown",
   "id": "f98f1a19-59bc-476f-9951-28d298286d7a",
   "metadata": {},
   "source": [
    "NumPy (**Numerical Python**) is a powerful Python library used for **working with arrays and performing mathematical operations** on them."
   ]
  },
  {
   "cell_type": "markdown",
   "id": "8431100c-3b75-4304-adfe-4e9098b49e21",
   "metadata": {},
   "source": [
    "#### Using NumPy"
   ]
  },
  {
   "cell_type": "markdown",
   "id": "85fb5fb1-bec3-438f-8e56-0f8154cc89e6",
   "metadata": {},
   "source": [
    "**Install NumPy**: Before using NumPy, you need to install it. You can install NumPy using the following command:"
   ]
  },
  {
   "cell_type": "code",
   "execution_count": null,
   "id": "984c4330-2549-4720-86b0-10cf0220265c",
   "metadata": {},
   "outputs": [],
   "source": [
    "# Installing numpy using Jupyter notebook\n",
    "!pip install numpy"
   ]
  },
  {
   "cell_type": "markdown",
   "id": "5af8b857-6fda-4e92-acc3-8cc04ed9b7e5",
   "metadata": {},
   "source": [
    "**Import NumPy**: Once NumPy is installed, you can import it into your Python program using the import statement. It is common practice to import NumPy with the alias **np** for better readability."
   ]
  },
  {
   "cell_type": "code",
   "execution_count": null,
   "id": "656ad8eb-7668-4a00-b8f7-058b53e8e3ec",
   "metadata": {},
   "outputs": [],
   "source": [
    "# Importing numpy library\n",
    "import numpy as np"
   ]
  },
  {
   "cell_type": "markdown",
   "id": "1ee8bf4a-4fba-451f-919d-d168e32d9f69",
   "metadata": {},
   "source": [
    "**Performing Operations**: NumPy offers a wide range of functions and methods for efficiently performing various numerical operations on arrays, including data from your CSV file. With NumPy, we can effortlessly analyze our sales data, perform calculations, and tackle a variety of numerical tasks with ease."
   ]
  },
  {
   "cell_type": "markdown",
   "id": "bc37820a-009c-46d8-8bf0-4feb0390e8fd",
   "metadata": {},
   "source": [
    "### 3.3 Matplotlib"
   ]
  },
  {
   "cell_type": "markdown",
   "id": "402d6adf-4763-4729-8afe-dbc7305ebeb1",
   "metadata": {},
   "source": [
    "Matplotlib is a **plotting and visualization library** that enables you to create a wide variety of static, animated, and interactive visualizations in Python. With Matplotlib, you can generate plots, histograms, scatterplots, and more to explore and communicate your data effectively."
   ]
  },
  {
   "cell_type": "markdown",
   "id": "10c7b7b7-bc37-4b3e-b44e-e45d32d7b49e",
   "metadata": {},
   "source": [
    "#### Using Matplotlib"
   ]
  },
  {
   "cell_type": "markdown",
   "id": "b8e0b376-3812-4605-a1ed-c796e6e734cc",
   "metadata": {},
   "source": [
    "**Install Matplotlib**: Before you can use Matplotlib, you need to install it by running the following command:"
   ]
  },
  {
   "cell_type": "code",
   "execution_count": null,
   "id": "6ab52d5d-7674-429d-9571-62eb38870329",
   "metadata": {},
   "outputs": [],
   "source": [
    "# Installing matplotlib using Jupyter notebook\n",
    "!pip install matplotlib"
   ]
  },
  {
   "cell_type": "markdown",
   "id": "eb4af0e5-64d6-4ea9-aa0d-bd00b09223a8",
   "metadata": {},
   "source": [
    "**Import Matplotlib and Pandas**: In your Jupyter notebook, **import Matplotlib and Pandas together**. Specifically, import the **pyplot module** from Matplotlib for this visualization. Use the following code:"
   ]
  },
  {
   "cell_type": "code",
   "execution_count": 40,
   "id": "519cd0b4-a0fb-43f1-9b81-9af09ed2f258",
   "metadata": {},
   "outputs": [],
   "source": [
    "# Importing pandas and matplotlib library\n",
    "import pandas as pd\n",
    "import matplotlib.pyplot as plt\n",
    "from matplotlib import pyplot as plt"
   ]
  },
  {
   "cell_type": "code",
   "execution_count": 42,
   "id": "6e0a7ee6",
   "metadata": {
    "scrolled": true
   },
   "outputs": [
    {
     "data": {
      "image/png": "[encoded data removed]",
      "text/plain": [
       "<Figure size 640x480 with 1 Axes>"
      ]
     },
     "metadata": {},
     "output_type": "display_data"
    }
   ],
   "source": [
    "x = [1, 2, 3, 4, 5]\n",
    "y = [2, 4, 6, 8, 10]\n",
    "plt.plot(x,y)\n",
    "plt.xlabel(\"X-axis\")\n",
    "plt.ylabel(\"Y-axis\")\n",
    "plt.title(\"Basic line plot\")\n",
    "plt.show()"
   ]
  },
  {
   "cell_type": "code",
   "execution_count": 47,
   "id": "d0cae81c",
   "metadata": {},
   "outputs": [
    {
     "data": {
      "image/png": "[encoded data removed]",
      "text/plain": [
       "<Figure size 640x480 with 1 Axes>"
      ]
     },
     "metadata": {},
     "output_type": "display_data"
    }
   ],
   "source": [
    "plt.scatter(x,y,color = \"green\", marker=\"o\")\n",
    "plt.xlabel(\"X-axis\")\n",
    "plt.ylabel(\"Y-axis\")\n",
    "plt.title(\"Basic scatter plot\")\n",
    "plt.grid(True)\n",
    "plt.show()"
   ]
  },
  {
   "cell_type": "markdown",
   "id": "a0855a51",
   "metadata": {},
   "source": [
    "At the core of the NumPy package, is the ndarray object. This encapsulates n-dimensional arrays of homogeneous data types, with many operations being performed in compiled code for performance. There are several important differences between NumPy arrays and the standard Python sequences:\n",
    "\n",
    "- NumPy arrays have a fixed size at creation, unlike Python lists (which can grow dynamically). Changing the size of an ndarray will create a new array and delete the original.\n",
    "\n",
    "- The elements in a NumPy array are all required to be of the same data type, and thus will be the same size in memory. The exception: one can have arrays of (Python, including NumPy) objects, thereby allowing for arrays of different sized elements.\n",
    "\n",
    "- NumPy arrays facilitate advanced mathematical and other types of operations on large numbers of data. Typically, such operations are executed more efficiently and with less code than is possible using Python’s built-in sequences.\n",
    "\n",
    "A growing plethora of scientific and mathematical Python-based packages are using NumPy arrays; though these typically support Python-sequence input, they convert such input to NumPy arrays prior to processing, and they often output NumPy arrays. In other words, in order to efficiently use much (perhaps even most) of today’s scientific/mathematical Python-based software, just knowing how to use Python’s built-in sequence types is insufficient - one also needs to know how to use NumPy arrays."
   ]
  },
  {
   "cell_type": "markdown",
   "id": "c67e1dd5",
   "metadata": {},
   "source": [
    "Compound Interest"
   ]
  },
  {
   "cell_type": "markdown",
   "id": "299fee14",
   "metadata": {},
   "source": [
    "Currency Conversion"
   ]
  }
 ],
 "metadata": {
  "kernelspec": {
   "display_name": "Python 3 (ipykernel)",
   "language": "python",
   "name": "python3"
  },
  "language_info": {
   "codemirror_mode": {
    "name": "ipython",
    "version": 3
   },
   "file_extension": ".py",
   "mimetype": "text/x-python",
   "name": "python",
   "nbconvert_exporter": "python",
   "pygments_lexer": "ipython3",
   "version": "3.9.13"
  }
 },
 "nbformat": 4,
 "nbformat_minor": 5
}
