{
 "cells": [
  {
   "cell_type": "markdown",
   "id": "99a53e87",
   "metadata": {},
   "source": [
    "![day2-intro.png](day2-intro.png)"
   ]
  },
  {
   "cell_type": "markdown",
   "id": "58e47761",
   "metadata": {},
   "source": [
    "![day2-outline.png](day2-outline.png)"
   ]
  },
  {
   "cell_type": "markdown",
   "id": "c8cc88d0-f0b0-4aff-811a-fe3005c7f4e0",
   "metadata": {},
   "source": [
    "![Quote](http://darlington.infinityfreeapp.com/images/quote3.png)"
   ]
  },
  {
   "cell_type": "markdown",
   "id": "ef356f95-619f-40ba-a6c4-b9f6ce223830",
   "metadata": {},
   "source": [
    "# 1. Boolean Expressions"
   ]
  },
  {
   "cell_type": "markdown",
   "id": "02e16d2f-46c4-41b7-bcc7-275cd2d3672d",
   "metadata": {},
   "source": [
    "A boolean expression is an expression that evaluates to either ***True*** or ***False***."
   ]
  },
  {
   "cell_type": "markdown",
   "id": "43cf0e68-631c-42e0-b7ee-b9438db09aeb",
   "metadata": {},
   "source": [
    "These expressions are crucial for *decision-making*, *controlling the flow of a program*, and *implementing conditional statements*."
   ]
  },
  {
   "cell_type": "markdown",
   "id": "b4fa3d3f-99b2-4182-a815-18af141943e0",
   "metadata": {},
   "source": [
    "The output of a boolean expression is of the ***bool*** data type. In Python, the bool data type represents Boolean values, which are binary and can only be **True or False**, also represented as **1 or 0**."
   ]
  },
  {
   "cell_type": "markdown",
   "id": "cf2a85bc-f8ec-4094-bda7-41fbba274aeb",
   "metadata": {},
   "source": [
    "Boolean expressions are commonly used in comparisons and often involve the use of comparison operators."
   ]
  },
  {
   "cell_type": "markdown",
   "id": "8a7ee453-086e-46f7-93f6-4b653b6cadf7",
   "metadata": {},
   "source": [
    "### 1.1 Creating Boolean Variables in Python"
   ]
  },
  {
   "cell_type": "markdown",
   "id": "81db2008-9756-45ee-be93-56004c41b04c",
   "metadata": {},
   "source": [
    "In Python, you can create a **bool** variable by assigning it to either ***True*** or ***False***."
   ]
  },
  {
   "cell_type": "markdown",
   "id": "49272996-0bce-43bc-b7a5-8b2c1ec9d655",
   "metadata": {},
   "source": [
    "# 2. Understanding Conditional Logic"
   ]
  },
  {
   "cell_type": "markdown",
   "id": "e184ec95-c23e-4e25-8fec-be6d80ff5b98",
   "metadata": {},
   "source": [
    "Conditional logic allows a program to make decisions and execute different code blocks based on certain conditions. These conditions are typically expressed as Boolean expressions, which evaluate to either ***True*** or ***False***. \n",
    "\n",
    "Without conditional logic, programs would follow a linear flow and lack the ability to make intelligent decisions."
   ]
  },
  {
   "cell_type": "markdown",
   "id": "c9527db4-3452-4cbf-b1c8-4b59190764ba",
   "metadata": {},
   "source": [
    "![ConditionalLogic](http://darlington.infinityfreeapp.com/images/conditional-logic.jpg)"
   ]
  },
  {
   "cell_type": "markdown",
   "id": "23f10528-c4a3-49d5-ad52-e6e7e93895dd",
   "metadata": {},
   "source": [
    "# 3. Conditional Statements"
   ]
  },
  {
   "cell_type": "markdown",
   "id": "e8dec7b9-a10b-4d6a-b112-397800d38daa",
   "metadata": {},
   "source": [
    "Conditional statements are essential for decision-making and directing the flow of program execution based on whether a condition is true or false. The most commonly used conditional statement in Python is the **if statement**, which allows you to specify a block of code to be executed **if a condition is true**. Other conditional statements in Python include **if-else**, **elif**, and **nested if**."
   ]
  },
  {
   "cell_type": "markdown",
   "id": "b1a0cb47-2112-41ce-a6a3-b79a7bc01b3f",
   "metadata": {},
   "source": [
    "### 3.1 If Statements"
   ]
  },
  {
   "cell_type": "markdown",
   "id": "ffa25917-a72c-49fd-a9ed-83f5e7725d23",
   "metadata": {},
   "source": [
    "The if statement is used to check a condition. **If the condition is true, the block of code inside the if statement is executed**. If the condition is false, the block of code is skipped, and the program moves on to the next set of instructions."
   ]
  },
  {
   "cell_type": "code",
   "execution_count": null,
   "id": "0ccfb2aa-96db-486d-ad58-ea494f247e6b",
   "metadata": {},
   "outputs": [],
   "source": [
    "# Syntax\n",
    "if condition:\n",
    "    # code to be executed if the condition is true"
   ]
  },
  {
   "cell_type": "markdown",
   "id": "68b043b2-0c1e-48c3-9358-dedb90381450",
   "metadata": {},
   "source": [
    "Note the indented block above. In Python, **indentation is crucial** for defining the block of code to be executed. The indented code under an if statement is considered part of that statement's block. The standard convention is to **use four spaces** for each level of indentation. This practice ensures clarity and structure in your code, making it easier to understand and maintain."
   ]
  },
  {
   "cell_type": "code",
   "execution_count": null,
   "id": "07d06f96-d9e9-4146-bbdf-b3be69bb20e2",
   "metadata": {},
   "outputs": [],
   "source": [
    "# Caution: Indent Your Code Properly\n",
    "if condition:\n",
    "    # This code is part of the if statement block because it is indented\n",
    "    # More indented code\n",
    "    \n",
    "# This code is not part of the if statement block because it is not indented"
   ]
  },
  {
   "cell_type": "markdown",
   "id": "2c4c4333-8f3f-4d23-b04e-1cccd7558138",
   "metadata": {},
   "source": [
    "#### Example: Voter Eligibility Check Using If Statement"
   ]
  },
  {
   "cell_type": "markdown",
   "id": "a15e6561-b74d-45e5-9bcb-c49807b25f88",
   "metadata": {},
   "source": [
    "### 3.2 If-Else Statements\n"
   ]
  },
  {
   "cell_type": "markdown",
   "id": "0f3ab66d-d5fc-4743-9fa7-542cc73ad36c",
   "metadata": {},
   "source": [
    "In addition to the basic if statement, Python provides the if-else statement, which **allows you to specify an alternative block of code** to be executed **when the condition is false**. This is useful when you want to perform different actions based on whether the condition is true or false."
   ]
  },
  {
   "cell_type": "code",
   "execution_count": null,
   "id": "2df7e626-fda4-4149-9758-fdc29dac671f",
   "metadata": {},
   "outputs": [],
   "source": [
    "# Syntax\n",
    "if condition:\n",
    "    # code to be executed if the condition is true\n",
    "else:\n",
    "    # code to be executed if the condition is false"
   ]
  },
  {
   "cell_type": "markdown",
   "id": "e23c1530-5b3b-40b7-8943-86f53263aa02",
   "metadata": {},
   "source": [
    "Similar to the if statement, indentation is crucial in defining the blocks of code. The indented code under the if block is executed when the condition is true, while the indented code under the else block is executed when the condition is false."
   ]
  },
  {
   "cell_type": "markdown",
   "id": "60ffbfe8-3bce-4934-b137-368c40092a60",
   "metadata": {},
   "source": [
    "#### Example: Odd or Even Number Check Using If-Else Statement"
   ]
  },
  {
   "cell_type": "markdown",
   "id": "32d05233-5c92-4b73-8b4b-80ded51b41ee",
   "metadata": {},
   "source": [
    "### 3.3 If-Elif-Else Statements"
   ]
  },
  {
   "cell_type": "markdown",
   "id": "924a87ff-a7f8-4c59-b3fb-267aba21f9d5",
   "metadata": {},
   "source": [
    "The if-elif-else statement in Python allows you to handle multiple conditions in a structured manner. It is useful when you have **more than two possible outcomes based on different conditions**. The statement is evaluated from top to bottom, and the block of code corresponding to the first true condition is executed. If none of the conditions is true, the code within the else block (if provided) is executed."
   ]
  },
  {
   "cell_type": "code",
   "execution_count": null,
   "id": "a9c96b5f-2e10-44d4-9458-ec3ed21b9f9f",
   "metadata": {},
   "outputs": [],
   "source": [
    "# Syntax\n",
    "if condition1:\n",
    "    # code to be executed if condition1 is true\n",
    "elif condition2:\n",
    "    # code to be executed if condition1 is false and condition2 is true\n",
    "elif condition3:\n",
    "    # code to be executed if condition1 and condition2 are false, and condition3 is true\n",
    "# ...\n",
    "else:\n",
    "    # code to be executed if none of the above conditions are true"
   ]
  },
  {
   "cell_type": "markdown",
   "id": "9213837d-6052-4efe-a866-369fd2234d84",
   "metadata": {},
   "source": [
    "**NOTE:** It's worth noting that in Python, **elif** is the equivalent of **else if**, providing a way to test multiple conditions sequentially after an initial if statement."
   ]
  },
  {
   "cell_type": "markdown",
   "id": "1b661d71-8e72-4d51-b967-29ebe26a719d",
   "metadata": {},
   "source": [
    "#### Example: System Using If-Elif-Else Statement"
   ]
  },
  {
   "cell_type": "markdown",
   "id": "bf1e59a7-f419-40ca-84aa-b6ee7238a3b3",
   "metadata": {},
   "source": [
    "# 4. Combining Conditionals with Logical Operators"
   ]
  },
  {
   "cell_type": "markdown",
   "id": "abd246c8-b715-4c42-9b8d-9fc759cc1946",
   "metadata": {},
   "source": [
    "In Python, logical operators allow you to **combine multiple conditions within a single statement**. This enables you to create more complex decision-making structures in your code. The commonly used logical operators are **and**, **or**, and **not**."
   ]
  },
  {
   "cell_type": "markdown",
   "id": "9f065bc1-1b32-4005-8e2f-a95f958df262",
   "metadata": {},
   "source": [
    "### 4.1 Using the 'and' Operator"
   ]
  },
  {
   "cell_type": "markdown",
   "id": "78c40ca9-5fc3-42a8-b4b8-b8d92f9ec16d",
   "metadata": {},
   "source": [
    "The **and** operator **combines two conditions**, and the resulting compound condition is true **only if both individual conditions are true**."
   ]
  },
  {
   "cell_type": "code",
   "execution_count": null,
   "id": "4cd2edeb-581d-40b4-a48d-9c9ee4dc6fcc",
   "metadata": {},
   "outputs": [],
   "source": [
    "# Syntax\n",
    "if condition1 and condition2:\n",
    "    # code to be executed if both condition1 and condition2 are true\n",
    "else:\n",
    "    # code to be executed if at least one of the conditions is false"
   ]
  },
  {
   "cell_type": "markdown",
   "id": "6f70a5e9-9419-440e-84a0-956ac97f8247",
   "metadata": {},
   "source": [
    "#### Example: Checking Both Age and Citizenship for Voting Eligibility"
   ]
  },
  {
   "cell_type": "markdown",
   "id": "69d3279a-ff85-41bf-8e66-b6903d6813f1",
   "metadata": {},
   "source": [
    "### 4.2 Using the 'or' Operator"
   ]
  },
  {
   "cell_type": "markdown",
   "id": "17b2dde1-c7f2-4aad-acb5-2243146ad8cb",
   "metadata": {},
   "source": [
    "The **or** operator combines two conditions, and the resulting compound condition is true **if at least one of the individual conditions is true**."
   ]
  },
  {
   "cell_type": "code",
   "execution_count": null,
   "id": "7a9c97b4-c771-4f74-b1f2-44d5268ca012",
   "metadata": {},
   "outputs": [],
   "source": [
    "# Syntax\n",
    "if condition1 or condition2:\n",
    "    # code to be executed if at least one of condition1 or condition2 is true\n",
    "else:\n",
    "    # code to be executed if both conditions are false"
   ]
  },
  {
   "cell_type": "markdown",
   "id": "4f043f3d-338a-4c0a-89bd-b3c6b34ba1c6",
   "metadata": {},
   "source": [
    "#### Example: Checking for Discount Eligibility based on Membership or Purchase Amount"
   ]
  },
  {
   "cell_type": "markdown",
   "id": "986ec4ef-dd21-4bab-bbf5-36e8d0320d4e",
   "metadata": {},
   "source": [
    "# 5. Negating Conditions with the 'not' Logical Operator"
   ]
  },
  {
   "cell_type": "markdown",
   "id": "495da3e6-1437-41bb-bfd8-366ac1075e7d",
   "metadata": {},
   "source": [
    "The **not** operator is a unary operator that negates the result of a single condition. **If the condition is true, 'not' makes it false, and vice versa**.\n",
    "\n",
    "*A unary operator is an operator that performs operations on a single operand to produce a new value.*"
   ]
  },
  {
   "cell_type": "code",
   "execution_count": null,
   "id": "14ff6ff8-4434-41fa-84ec-69ec111c9f99",
   "metadata": {},
   "outputs": [],
   "source": [
    "# Syntax\n",
    "if not condition:\n",
    "    # code to be executed if the condition is false\n",
    "else:\n",
    "    # code to be executed if the condition is true"
   ]
  },
  {
   "cell_type": "markdown",
   "id": "c63f475e-df67-4f77-a8ec-b0397e488a65",
   "metadata": {},
   "source": [
    "#### Example: Checking for Ineligibility using the 'not' Operator"
   ]
  },
  {
   "cell_type": "markdown",
   "id": "7c1cee91-8919-4099-95d8-3d6a4dcc57aa",
   "metadata": {},
   "source": [
    "# 6. Nesting Conditionals for Complex Decision-Making"
   ]
  },
  {
   "cell_type": "markdown",
   "id": "baf2b3a2-5c65-4bfc-8789-81b935904351",
   "metadata": {},
   "source": [
    "In Python, nesting conditionals involves **placing one or more conditional statements inside another**. This technique allows you to create more intricate decision-making structures by evaluating multiple conditions in a hierarchical manner. Nesting can be applied to if statements, if-else statements, and if-elif-else statements."
   ]
  },
  {
   "cell_type": "markdown",
   "id": "fd8176ff-13cb-4391-a5e7-5d7e2af870b5",
   "metadata": {},
   "source": [
    "### 6.1 Nesting If Statements"
   ]
  },
  {
   "cell_type": "markdown",
   "id": "2fb23b33-f867-4a51-9405-9eccc2f81b8c",
   "metadata": {},
   "source": [
    "Nesting if statements involves placing one if statement inside another. **Each nested if statement is evaluated only if the outer condition is true**."
   ]
  },
  {
   "cell_type": "code",
   "execution_count": null,
   "id": "fccbda1b-d08f-4311-acdd-3a351d20f170",
   "metadata": {},
   "outputs": [],
   "source": [
    "# Syntax\n",
    "if outer_condition:\n",
    "    # code for outer condition\n",
    "    if inner_condition:\n",
    "        # code for inner condition\n",
    "    else:\n",
    "        # code if inner condition is false\n",
    "else:\n",
    "    # code if outer condition is false"
   ]
  },
  {
   "cell_type": "markdown",
   "id": "b02c176f-3801-4404-8860-4cf7e48c2457",
   "metadata": {},
   "source": [
    "#### Example: Checking Both Age and Permission for Access"
   ]
  },
  {
   "cell_type": "markdown",
   "id": "eea2c98e-6aeb-44f8-b9d9-50f11b6c1c02",
   "metadata": {},
   "source": [
    "# 7. Practice Exercises"
   ]
  },
  {
   "cell_type": "markdown",
   "id": "b3bcc542-e84e-4bd3-b504-d77a9dbfb8ec",
   "metadata": {},
   "source": [
    "#### Exercise 1:"
   ]
  },
  {
   "cell_type": "markdown",
   "id": "9f311431-b056-44d6-ad9d-e336b543cda4",
   "metadata": {},
   "source": [
    "Write a Python program to determine whether the year 2024 is a leap year. Output either '**2024 is a leap year!**' or '**2024 is not a leap year!**' based on the condition that leap years are divisible by 4."
   ]
  },
  {
   "cell_type": "markdown",
   "id": "509d99dd-4837-4559-94cb-de02f10bd170",
   "metadata": {},
   "source": [
    "#### Exercise 2:"
   ]
  },
  {
   "cell_type": "markdown",
   "id": "87555d7c-10f7-4571-8a71-ac4002c88d16",
   "metadata": {},
   "source": [
    "Given a specific day of the week, such as Wednesday, write a Python program to determine whether it is a weekday or a weekend day. Consider Monday to Friday as weekdays and Saturday and Sunday as weekends. Print an error message for invalid input."
   ]
  },
  {
   "cell_type": "markdown",
   "id": "fa01165f-95f8-4402-a51a-eed33560318b",
   "metadata": {},
   "source": [
    "#### Exercise 3:"
   ]
  },
  {
   "cell_type": "markdown",
   "id": "4c55e6e9-d645-44d5-b8a3-b2f02b479c0f",
   "metadata": {},
   "source": [
    "Write a Python program to simulate a simple password authentication system. Set a password (\"MyPass@247\") and an age (25). Check if the password has more than 8 characters using the len() function. If it does, check if the user is 18 or older. If both conditions are true, print \"Access granted.\" If the age is below 18, print \"You must be 18 or older to access.\" If both conditions are false, print \"Access Denied!\""
   ]
  },
  {
   "cell_type": "code",
   "execution_count": null,
   "id": "be9bc73d-92e2-4de8-bbd3-b88813d335c1",
   "metadata": {},
   "outputs": [],
   "source": [
    "# Answer Exercise 3 Here\n"
   ]
  },
  {
   "cell_type": "markdown",
   "id": "d5346ab1-e4f8-4350-9a7f-1de91f2c600d",
   "metadata": {},
   "source": [
    "![Quote](http://darlington.infinityfreeapp.com/images/quote4.png)"
   ]
  },
  {
   "cell_type": "markdown",
   "id": "c6592a1c-7d47-4121-88f0-fb660c3de105",
   "metadata": {},
   "source": [
    "# 5. Loops in Python"
   ]
  },
  {
   "cell_type": "markdown",
   "id": "fdc40951-7287-4930-86bb-5676f828517d",
   "metadata": {},
   "source": [
    "Loops are powerful tools in programming that allow you to **automate repetitive tasks**. Instead of writing the same block of code multiple times, loops are used to automatically execute the code repeatedly until a specific condition is met. This makes it easier to handle repetitive tasks and reduces redundancy in your code, ultimately enhancing its readability.\n",
    "\n",
    "In Python, there are two main types of loops: **for loops** and **while loops**. These loops provide *different ways to control the repetition of code* based on specific conditions."
   ]
  },
  {
   "cell_type": "markdown",
   "id": "5ee4d9dc-bf26-4e95-bc0a-8d27ffad65b7",
   "metadata": {},
   "source": [
    "### 5.1 For Loops"
   ]
  },
  {
   "cell_type": "markdown",
   "id": "3d6acd27-7b64-490e-a208-170c8a97f61b",
   "metadata": {},
   "source": [
    "A **for loop** is used to iterate over a sequence (such as a **list, tuple, set, string, or range**). Its primary purpose is to execute a specific block of code **for each element in the sequence**."
   ]
  },
  {
   "cell_type": "code",
   "execution_count": null,
   "id": "b4a86fcc-a54d-450e-ba38-fd4411356c52",
   "metadata": {},
   "outputs": [],
   "source": [
    "# Syntax\n",
    "for variable in sequence:\n",
    "    # code block to be executed for each element"
   ]
  },
  {
   "cell_type": "markdown",
   "id": "b0c3ef6d-1c4d-49ad-909d-fc52f735bd72",
   "metadata": {},
   "source": [
    "#### Using Range() in For Loop"
   ]
  },
  {
   "cell_type": "markdown",
   "id": "77aa3d9f-4da9-4895-89fe-cf4a4479378a",
   "metadata": {},
   "source": [
    "The **range()** function is often used together with for loops **to generate a sequence of numbers**."
   ]
  },
  {
   "cell_type": "markdown",
   "id": "4f234c86-b289-414e-947c-23691a1d3b6f",
   "metadata": {},
   "source": [
    "Instead of iterating over a list, tuple, or set, there are situations where you may want to perform an iteration **a specific number of times**. In such cases, the **range()** function is used in conjunction with a for loop. It's important to note that the specified number you provide in the **range()** function **will start from 0** and go up to (but not including) that number."
   ]
  },
  {
   "cell_type": "markdown",
   "id": "90eebe97-e634-4ce7-b442-02fa9be2e02c",
   "metadata": {},
   "source": [
    "### 5.2 While Loops"
   ]
  },
  {
   "cell_type": "markdown",
   "id": "11769ba8-4468-4c62-b5da-3b6c768ac732",
   "metadata": {},
   "source": [
    "A **while loop** is used to repeatedly execute a block of code **as long as a specified condition is true**."
   ]
  },
  {
   "cell_type": "code",
   "execution_count": null,
   "id": "52eac21c-978b-4bd9-b01c-3e30e7f3e1d4",
   "metadata": {},
   "outputs": [],
   "source": [
    "# Syntax\n",
    "while condition:\n",
    "    # code block to be executed as long as the condition is True"
   ]
  },
  {
   "cell_type": "markdown",
   "id": "a9fd61d9-3293-4047-aac4-294d6d4db1df",
   "metadata": {},
   "source": [
    "# 6. Practice Exercises"
   ]
  },
  {
   "cell_type": "markdown",
   "id": "d64abf86-7b75-4383-ae26-ee71db803536",
   "metadata": {},
   "source": [
    "#### Exercise 1:"
   ]
  },
  {
   "cell_type": "markdown",
   "id": "5336e510-834a-4020-b3ba-cf8bc411c2f8",
   "metadata": {},
   "source": [
    "Write a Python program to create a list of your favorite countries and then print each country on a new line."
   ]
  },
  {
   "cell_type": "markdown",
   "id": "4f5e39f7-642c-40e5-91e2-e2393c352005",
   "metadata": {},
   "source": [
    "#### Exercise 2:"
   ]
  },
  {
   "cell_type": "markdown",
   "id": "b8e2da59-6a02-481e-8365-c5960fed79aa",
   "metadata": {},
   "source": [
    "Write a Python program that removes duplicates from the list of numbers provided below and prints a new list with unique elements. Include comments to explain each step of the process."
   ]
  },
  {
   "cell_type": "markdown",
   "id": "d23bc189-be5d-4b03-8f2b-2cff77a43176",
   "metadata": {},
   "source": [
    "#### Exercise 3:"
   ]
  },
  {
   "cell_type": "markdown",
   "id": "e9941b87-5553-4434-a3c8-ff8c53d40812",
   "metadata": {},
   "source": [
    "Write a Python program that adds \"TypeScript\" to the set below, and then checks to confirm if \"TypeScript\" is in the set."
   ]
  }
 ],
 "metadata": {
  "kernelspec": {
   "display_name": "Python 3 (ipykernel)",
   "language": "python",
   "name": "python3"
  },
  "language_info": {
   "codemirror_mode": {
    "name": "ipython",
    "version": 3
   },
   "file_extension": ".py",
   "mimetype": "text/x-python",
   "name": "python",
   "nbconvert_exporter": "python",
   "pygments_lexer": "ipython3",
   "version": "3.9.13"
  }
 },
 "nbformat": 4,
 "nbformat_minor": 5
}
