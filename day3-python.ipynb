{
 "cells": [
  {
   "cell_type": "markdown",
   "id": "0691ace6-cec9-4a61-8b41-fc7dfa993b6d",
   "metadata": {},
   "source": [
    "![Quote](http://darlington.infinityfreeapp.com/images/quote5.png)"
   ]
  },
  {
   "cell_type": "markdown",
   "id": "7cbd3dbf-b178-4825-b374-beab8951d364",
   "metadata": {},
   "source": [
    "#  Creating and Using Functions in Python\n"
   ]
  },
  {
   "cell_type": "code",
   "execution_count": 1,
   "id": "fd1e292f",
   "metadata": {},
   "outputs": [
    {
     "name": "stdout",
     "output_type": "stream",
     "text": [
      "['ArithmeticError', 'AssertionError', 'AttributeError', 'BaseException', 'BlockingIOError', 'BrokenPipeError', 'BufferError', 'BytesWarning', 'ChildProcessError', 'ConnectionAbortedError', 'ConnectionError', 'ConnectionRefusedError', 'ConnectionResetError', 'DeprecationWarning', 'EOFError', 'Ellipsis', 'EnvironmentError', 'Exception', 'False', 'FileExistsError', 'FileNotFoundError', 'FloatingPointError', 'FutureWarning', 'GeneratorExit', 'IOError', 'ImportError', 'ImportWarning', 'IndentationError', 'IndexError', 'InterruptedError', 'IsADirectoryError', 'KeyError', 'KeyboardInterrupt', 'LookupError', 'MemoryError', 'ModuleNotFoundError', 'NameError', 'None', 'NotADirectoryError', 'NotImplemented', 'NotImplementedError', 'OSError', 'OverflowError', 'PendingDeprecationWarning', 'PermissionError', 'ProcessLookupError', 'RecursionError', 'ReferenceError', 'ResourceWarning', 'RuntimeError', 'RuntimeWarning', 'StopAsyncIteration', 'StopIteration', 'SyntaxError', 'SyntaxWarning', 'SystemError', 'SystemExit', 'TabError', 'TimeoutError', 'True', 'TypeError', 'UnboundLocalError', 'UnicodeDecodeError', 'UnicodeEncodeError', 'UnicodeError', 'UnicodeTranslateError', 'UnicodeWarning', 'UserWarning', 'ValueError', 'Warning', 'WindowsError', 'ZeroDivisionError', '__IPYTHON__', '__build_class__', '__debug__', '__doc__', '__import__', '__loader__', '__name__', '__package__', '__spec__', 'abs', 'all', 'any', 'ascii', 'bin', 'bool', 'breakpoint', 'bytearray', 'bytes', 'callable', 'chr', 'classmethod', 'compile', 'complex', 'copyright', 'credits', 'delattr', 'dict', 'dir', 'display', 'divmod', 'enumerate', 'eval', 'exec', 'execfile', 'filter', 'float', 'format', 'frozenset', 'get_ipython', 'getattr', 'globals', 'hasattr', 'hash', 'help', 'hex', 'id', 'input', 'int', 'isinstance', 'issubclass', 'iter', 'len', 'license', 'list', 'locals', 'map', 'max', 'memoryview', 'min', 'next', 'object', 'oct', 'open', 'ord', 'pow', 'print', 'property', 'range', 'repr', 'reversed', 'round', 'runfile', 'set', 'setattr', 'slice', 'sorted', 'staticmethod', 'str', 'sum', 'super', 'tuple', 'type', 'vars', 'zip']\n"
     ]
    }
   ],
   "source": [
    "print(dir(__builtins__))\n"
   ]
  },
  {
   "cell_type": "markdown",
   "id": "c41fd0f0-d8ee-4de1-a742-611dba2c77ff",
   "metadata": {},
   "source": [
    "In Python, a function is **a reusable block of code designed to perform a specific task or set of tasks**. Functions are created as separate components of a program and activated when conditions are met or explicitly called within the code. Functions are a fundamental building block in Python programming, and using functions promotes code reusability, modularity, and simplicity."
   ]
  },
  {
   "cell_type": "code",
   "execution_count": null,
   "id": "b01f5f6f-a752-4326-b3f1-c3f8d0d20150",
   "metadata": {},
   "outputs": [],
   "source": [
    "# Syntax\n",
    "def function_name(parameters):\n",
    "    \"\"\"\n",
    "    Optional Docstring: Description of the function.\n",
    "    \"\"\"\n",
    "    # Code block for the function\n",
    "    # ..."
   ]
  },
  {
   "cell_type": "code",
   "execution_count": null,
   "id": "08089e0b",
   "metadata": {},
   "outputs": [],
   "source": []
  },
  {
   "cell_type": "markdown",
   "id": "65caab26-e50f-479b-be14-00ffc8346581",
   "metadata": {},
   "source": [
    "A function is a block of code defined to perform a specific task. However, **this function doesn't execute immediately upon definition**. Instead, it waits until you **explicitly call the function** within your code. Moreover, functions are designed to be reusable components, meaning they can be called multiple times throughout the program's execution.\n",
    "\n",
    "Using functions is a strategic approach to writing programs. It encourages clarity, organization, and ease of maintenance, making the codebase more manageable and scalable."
   ]
  },
  {
   "cell_type": "markdown",
   "id": "6be8a86f-0abb-4e2e-9fad-8242be533c1d",
   "metadata": {},
   "source": [
    "### 6.1 Creating a Function"
   ]
  },
  {
   "cell_type": "markdown",
   "id": "f02d11b3-b976-48d8-80db-c3b532f92f9b",
   "metadata": {},
   "source": [
    "To create a function in Python, you use the **def** keyword followed by the **function name and parentheses**. Any input parameters or arguments should be placed within these parentheses. The function body is indented and contains the code to be executed when the function is called."
   ]
  },
  {
   "cell_type": "markdown",
   "id": "3b8c9a2c-0003-42e4-ad4f-147685a7aad8",
   "metadata": {},
   "source": [
    "### 6.2 Calling a Function"
   ]
  },
  {
   "cell_type": "markdown",
   "id": "9548caf6-b9aa-4216-9aff-7fe009ec61eb",
   "metadata": {},
   "source": [
    "Once a function is defined, **you can call it by using its name followed by parentheses ( )**. If the function requires any arguments, you can provide them within the parentheses."
   ]
  },
  {
   "cell_type": "code",
   "execution_count": 2,
   "id": "0d6c4557",
   "metadata": {},
   "outputs": [],
   "source": [
    "def greeting():\n",
    "    print(\"Welcome to Python!\")"
   ]
  },
  {
   "cell_type": "code",
   "execution_count": 7,
   "id": "79811f66",
   "metadata": {},
   "outputs": [],
   "source": [
    "def greet(name):\n",
    "    print(f\"Hello {name}!, Welcome to Python! \")"
   ]
  },
  {
   "cell_type": "code",
   "execution_count": 15,
   "id": "9e00378a",
   "metadata": {},
   "outputs": [],
   "source": [
    "def add_numbers(a,b):\n",
    "    sums =a+b\n",
    "    print(sums)"
   ]
  },
  {
   "cell_type": "code",
   "execution_count": 12,
   "id": "eab745e1",
   "metadata": {},
   "outputs": [
    {
     "name": "stdout",
     "output_type": "stream",
     "text": [
      "Welcome to Python!\n"
     ]
    }
   ],
   "source": [
    "greeting()"
   ]
  },
  {
   "cell_type": "code",
   "execution_count": 14,
   "id": "61254660",
   "metadata": {},
   "outputs": [
    {
     "name": "stdout",
     "output_type": "stream",
     "text": [
      "Hello Glen!, Welcome to Python! \n"
     ]
    }
   ],
   "source": [
    "greet(\"Glen\")"
   ]
  },
  {
   "cell_type": "code",
   "execution_count": 16,
   "id": "1f82990b",
   "metadata": {},
   "outputs": [
    {
     "name": "stdout",
     "output_type": "stream",
     "text": [
      "13\n"
     ]
    }
   ],
   "source": [
    "add_numbers(6,7)"
   ]
  },
  {
   "cell_type": "markdown",
   "id": "3ae7b8aa-5586-448b-bc54-c74a7c2e881c",
   "metadata": {},
   "source": [
    "### 6.3 Function Parameters and Arguments"
   ]
  },
  {
   "cell_type": "markdown",
   "id": "7c5c8974-0a2f-4dbe-a927-79c3dd7b9995",
   "metadata": {},
   "source": [
    "Parameters are **variables that are used to define a function** and receive input values. Arguments are **the actual values passed to the function** when it is called."
   ]
  },
  {
   "cell_type": "markdown",
   "id": "3950e4b3-4838-4966-89d0-c432952f0ad5",
   "metadata": {},
   "source": [
    "### 6.4 Returning Values from a Function"
   ]
  },
  {
   "cell_type": "markdown",
   "id": "3b5555ec-c7a6-44eb-ba53-6bd2bf5c4d3a",
   "metadata": {},
   "source": [
    "Functions can return values using the **return** statement. In Python, the return statement is used in a function **to specify the value or values that the function should output**. When a function encounters a return statement, it immediately stops executing, and the specified value is sent **back to the caller**. This returned value can then be assigned to a variable or used in expressions."
   ]
  },
  {
   "cell_type": "markdown",
   "id": "612f79ea-3e09-410e-aea3-f859e6332327",
   "metadata": {},
   "source": [
    "The return statement is an essential component of any function in Python. **It allows the function to communicate information back to the caller**. Without the return statement, a function would not be able to provide any output or result to the code that called it. Some functions may opt to **print values directly to the console** instead of returning them, which is useful for displaying information but does not allow the calling code to use these values for further operations."
   ]
  },
  {
   "cell_type": "code",
   "execution_count": 25,
   "id": "5de5fb15",
   "metadata": {},
   "outputs": [
    {
     "ename": "IndentationError",
     "evalue": "unindent does not match any outer indentation level (<tokenize>, line 5)",
     "output_type": "error",
     "traceback": [
      "\u001b[1;36m  File \u001b[1;32m\"<tokenize>\"\u001b[1;36m, line \u001b[1;32m5\u001b[0m\n\u001b[1;33m    return x*y\u001b[0m\n\u001b[1;37m    ^\u001b[0m\n\u001b[1;31mIndentationError\u001b[0m\u001b[1;31m:\u001b[0m unindent does not match any outer indentation level\n"
     ]
    }
   ],
   "source": [
    "def multiply(x, y):\n",
    "     \"\"\"\n",
    "    Multiplies two numbers and returns the result.\n",
    "    \"\"\"\n",
    "    return x*y\n",
    "multiply(3, 2) +7\n"
   ]
  },
  {
   "cell_type": "code",
   "execution_count": 19,
   "id": "be40c109",
   "metadata": {},
   "outputs": [
    {
     "name": "stdout",
     "output_type": "stream",
     "text": [
      "6\n"
     ]
    },
    {
     "ename": "TypeError",
     "evalue": "unsupported operand type(s) for +: 'NoneType' and 'int'",
     "output_type": "error",
     "traceback": [
      "\u001b[1;31m---------------------------------------------------------------------------\u001b[0m",
      "\u001b[1;31mTypeError\u001b[0m                                 Traceback (most recent call last)",
      "\u001b[1;32m~\\AppData\\Local\\Temp\\ipykernel_37188\\1827793302.py\u001b[0m in \u001b[0;36m<module>\u001b[1;34m\u001b[0m\n\u001b[0;32m      4\u001b[0m \u001b[1;33m\u001b[0m\u001b[0m\n\u001b[0;32m      5\u001b[0m \u001b[0mproduct_result\u001b[0m \u001b[1;33m=\u001b[0m \u001b[0mmultiply\u001b[0m\u001b[1;33m(\u001b[0m\u001b[1;36m3\u001b[0m\u001b[1;33m,\u001b[0m \u001b[1;36m2\u001b[0m\u001b[1;33m)\u001b[0m\u001b[1;33m\u001b[0m\u001b[1;33m\u001b[0m\u001b[0m\n\u001b[1;32m----> 6\u001b[1;33m \u001b[0mproduct_result\u001b[0m \u001b[1;33m+\u001b[0m \u001b[1;36m7\u001b[0m\u001b[1;33m\u001b[0m\u001b[1;33m\u001b[0m\u001b[0m\n\u001b[0m",
      "\u001b[1;31mTypeError\u001b[0m: unsupported operand type(s) for +: 'NoneType' and 'int'"
     ]
    }
   ],
   "source": [
    "def multiply(x, y):\n",
    "    ansr = x*y\n",
    "    print(ansr)\n",
    "\n",
    "product_result = multiply(3, 2)\n",
    "product_result + 7"
   ]
  },
  {
   "cell_type": "markdown",
   "id": "f40c779e-c165-4b1b-ad32-4682285ddd86",
   "metadata": {},
   "source": [
    "### 6.4 Function Documentation"
   ]
  },
  {
   "cell_type": "markdown",
   "id": "5e0747d5-fe9f-4483-96bd-c558f66ee650",
   "metadata": {},
   "source": [
    "It's good practice to include documentation for your functions. This helps other programmers understand how to use your functions correctly. You can add documentation **using docstrings**, which are enclosed in triple quotes."
   ]
  },
  {
   "cell_type": "code",
   "execution_count": 29,
   "id": "169c8f40",
   "metadata": {},
   "outputs": [],
   "source": [
    "def multiply(x, y):\n",
    "    \"\"\"\n",
    "        Multiplies two numbers and returns the result.\n",
    "    \"\"\"\n",
    "    return x*y\n"
   ]
  },
  {
   "cell_type": "code",
   "execution_count": 30,
   "id": "f467b39b",
   "metadata": {},
   "outputs": [
    {
     "name": "stdout",
     "output_type": "stream",
     "text": [
      "Help on function multiply in module __main__:\n",
      "\n",
      "multiply(x, y)\n",
      "    Multiplies two numbers and returns the result.\n",
      "\n"
     ]
    }
   ],
   "source": [
    "help(multiply)"
   ]
  },
  {
   "cell_type": "code",
   "execution_count": 31,
   "id": "1ea0748e",
   "metadata": {},
   "outputs": [
    {
     "data": {
      "text/plain": [
       "'\\n        Multiplies two numbers and returns the result.\\n    '"
      ]
     },
     "execution_count": 31,
     "metadata": {},
     "output_type": "execute_result"
    }
   ],
   "source": [
    "multiply.__doc__"
   ]
  },
  {
   "cell_type": "markdown",
   "id": "2964af45-695c-4ed8-b50e-ed3e2c09e75a",
   "metadata": {},
   "source": [
    "# 7. Practice Exercises"
   ]
  },
  {
   "cell_type": "markdown",
   "id": "288e4606-ad6d-4480-9558-0caa1b449999",
   "metadata": {},
   "source": [
    "#### Exercise 1:"
   ]
  },
  {
   "cell_type": "markdown",
   "id": "52a5606e-1691-4b15-9af1-5cf297436ecd",
   "metadata": {},
   "source": [
    "Write a Python function that asks the user to enter their name and prints a greeting message including their name when the function is called. For example, if the user enters \"Team\", the program should print \"*Hello, Team!*\"."
   ]
  },
  {
   "cell_type": "code",
   "execution_count": null,
   "id": "5d9de0ac-fc7f-42a2-9469-84104722b21b",
   "metadata": {},
   "outputs": [],
   "source": [
    "# Answer Exercise 1 Here\n"
   ]
  },
  {
   "cell_type": "markdown",
   "id": "acea8a16-a6d7-4b56-b422-09cc355ba2e1",
   "metadata": {},
   "source": [
    "#### Exercise 2:"
   ]
  },
  {
   "cell_type": "markdown",
   "id": "89eeeea1-5b3b-4835-9fb8-2f91ca883f99",
   "metadata": {},
   "source": [
    "Create a function that asks the user for two numbers, adds them together, and prints the result. Ensure the program handles the case where the user does not enter a valid number."
   ]
  },
  {
   "cell_type": "code",
   "execution_count": null,
   "id": "2ce93e09-00e3-4397-be8f-47bc93ff6b0d",
   "metadata": {},
   "outputs": [],
   "source": [
    "# Answer Exercise 2 Here\n"
   ]
  },
  {
   "cell_type": "markdown",
   "id": "f129a060",
   "metadata": {},
   "source": [
    "##### create and reference variables variables using the appropriate scope "
   ]
  },
  {
   "cell_type": "code",
   "execution_count": null,
   "id": "0bacc4be",
   "metadata": {},
   "outputs": [],
   "source": []
  },
  {
   "cell_type": "markdown",
   "id": "4b757aa7",
   "metadata": {},
   "source": [
    "##### Global Variables within a Function"
   ]
  },
  {
   "cell_type": "markdown",
   "id": "34c9051d",
   "metadata": {},
   "source": [
    "##### Modifying Global Variables within a Function"
   ]
  },
  {
   "cell_type": "code",
   "execution_count": null,
   "id": "92c4a3e0",
   "metadata": {},
   "outputs": [],
   "source": []
  },
  {
   "cell_type": "markdown",
   "id": "34c191d1",
   "metadata": {},
   "source": [
    "##### define lamda expressions to quickly create anonymous functions"
   ]
  },
  {
   "cell_type": "markdown",
   "id": "41ec0637",
   "metadata": {},
   "source": [
    "Lambda expressions in Python allow you to create anonymous functions quickly. They are often used for short, simple functions where defining a full function using the def keyword would be unnecessary overhead. Lambda expressions consist of the keyword lambda, followed by one or more arguments, a colon :, and an expression to evaluate. "
   ]
  },
  {
   "cell_type": "code",
   "execution_count": 3,
   "id": "ce7a525e",
   "metadata": {},
   "outputs": [],
   "source": [
    "def add(x,y):\n",
    "    return x*y"
   ]
  },
  {
   "cell_type": "code",
   "execution_count": 4,
   "id": "d903c4d5",
   "metadata": {},
   "outputs": [
    {
     "data": {
      "text/plain": [
       "12"
      ]
     },
     "execution_count": 4,
     "metadata": {},
     "output_type": "execute_result"
    }
   ],
   "source": [
    "add(2,6)"
   ]
  },
  {
   "cell_type": "code",
   "execution_count": 5,
   "id": "f48393e7",
   "metadata": {},
   "outputs": [],
   "source": [
    "add1 =lambda x,y: x+y"
   ]
  },
  {
   "cell_type": "code",
   "execution_count": 6,
   "id": "638a69e3",
   "metadata": {},
   "outputs": [
    {
     "data": {
      "text/plain": [
       "8"
      ]
     },
     "execution_count": 6,
     "metadata": {},
     "output_type": "execute_result"
    }
   ],
   "source": [
    "add1(2,6)"
   ]
  },
  {
   "cell_type": "code",
   "execution_count": 7,
   "id": "2ef749ef",
   "metadata": {},
   "outputs": [],
   "source": [
    "def is_even(x):\n",
    "    return x % 2 ==0"
   ]
  },
  {
   "cell_type": "code",
   "execution_count": 9,
   "id": "fa793d3c",
   "metadata": {},
   "outputs": [
    {
     "data": {
      "text/plain": [
       "True"
      ]
     },
     "execution_count": 9,
     "metadata": {},
     "output_type": "execute_result"
    }
   ],
   "source": [
    "is_even(2)"
   ]
  },
  {
   "cell_type": "code",
   "execution_count": 10,
   "id": "c6a27d1f",
   "metadata": {},
   "outputs": [],
   "source": [
    "even =lambda x : x%2==0"
   ]
  },
  {
   "cell_type": "code",
   "execution_count": null,
   "id": "82adf983",
   "metadata": {},
   "outputs": [],
   "source": [
    "ss"
   ]
  }
 ],
 "metadata": {
  "kernelspec": {
   "display_name": "Python 3 (ipykernel)",
   "language": "python",
   "name": "python3"
  },
  "language_info": {
   "codemirror_mode": {
    "name": "ipython",
    "version": 3
   },
   "file_extension": ".py",
   "mimetype": "text/x-python",
   "name": "python",
   "nbconvert_exporter": "python",
   "pygments_lexer": "ipython3",
   "version": "3.9.13"
  }
 },
 "nbformat": 4,
 "nbformat_minor": 5
}
