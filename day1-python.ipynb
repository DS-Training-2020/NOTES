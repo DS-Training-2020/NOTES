{
 "cells": [
  {
   "cell_type": "code",
   "execution_count": 16,
   "id": "04de1fbd",
   "metadata": {},
   "outputs": [],
   "source": [
    "greet =\"It's Hello world\""
   ]
  },
  {
   "cell_type": "code",
   "execution_count": 2,
   "id": "58beca87",
   "metadata": {},
   "outputs": [
    {
     "data": {
      "text/plain": [
       "\"It's Hello world\""
      ]
     },
     "execution_count": 2,
     "metadata": {},
     "output_type": "execute_result"
    }
   ],
   "source": [
    "greet"
   ]
  },
  {
   "cell_type": "markdown",
   "id": "dfeb2a94",
   "metadata": {},
   "source": [
    "![Intro](day1-p1.png)"
   ]
  },
  {
   "cell_type": "markdown",
   "id": "d1990def",
   "metadata": {},
   "source": [
    "#### https://github.com/DS-Training-2020/NOTES"
   ]
  },
  {
   "cell_type": "markdown",
   "id": "51b4093a",
   "metadata": {},
   "source": [
    "![Intro](day1-p2.png)"
   ]
  },
  {
   "cell_type": "markdown",
   "id": "e0217361-2072-4829-aeab-f6c975dc62fd",
   "metadata": {},
   "source": [
    "![Quote](http://darlington.infinityfreeapp.com/images/quote1.png)"
   ]
  },
  {
   "cell_type": "markdown",
   "id": "4c83dc69-672e-4f64-b5c6-8692e4aa26d6",
   "metadata": {},
   "source": [
    "# 1. Introduction to Python Programming Language"
   ]
  },
  {
   "cell_type": "markdown",
   "id": "aac726e4-310f-4f3b-9c7e-bec5a1ea90a0",
   "metadata": {},
   "source": [
    "## 1.1 What is Python?\n"
   ]
  },
  {
   "cell_type": "markdown",
   "id": "c1ff2f4f-1b96-4ac6-8661-663d205d0ad0",
   "metadata": {},
   "source": [
    "Python is a versatile programming language that finds applications across various industries, including the insurance sector.\n",
    "Python is a high-level programming language known for its **ease of use and flexibility**. It is a versatile, easy-to-learn, and the most popular programming language in the world today. Python is widely used in various domains such as *data science, insurance, web development, artificial intelligence, cybersecurity*, and *more*.\n",
    "\n",
    "#### Usefulness of Python:\n",
    "\n",
    "Readability and Simplicity\n",
    "\n",
    "Wide Range of Libraries and Frameworks\n",
    "\n",
    "Data Analysis and Visualization\n",
    "\n",
    "Machine Learning and Artificial Intelligence\n",
    "\n",
    "#### Value in Insurance:\n",
    "\n",
    "Data Analysis and Actuarial Modeling (policyholders, claims, risk assessment, and financial modeling...)\n",
    "\n",
    "Predictive Modeling and Underwriting (predict claim frequencies and severities...)\n",
    "\n",
    "Fraud Detection (fraudulent claims)\n",
    "\n",
    "Customer Analytics and Personalization (customer preferences, behavior, and needs...)\n",
    "\n",
    "Automation and Efficiency (policy administration, claims processing, and customer service...)\n",
    "\n",
    "\n",
    "In this lesson, we will explore the basics of Python, including installation, and get started with Juoyter Notebooks for interactive Python programming."
   ]
  },
  {
   "cell_type": "markdown",
   "id": "f5b8b02a-2789-4cd3-8c01-43e7c9123769",
   "metadata": {},
   "source": [
    "# 2. Installing Python\n"
   ]
  },
  {
   "cell_type": "markdown",
   "id": "10dd1b0c-6d1e-4275-9dbc-2fe26d30ded6",
   "metadata": {},
   "source": [
    "Installing Python is a simple process that works on various operating systems, including Windows, macOS, Linux, and more. To install Python, follow the step-by-step guide below:"
   ]
  },
  {
   "cell_type": "markdown",
   "id": "40afe92d-9ae7-4fc6-a838-97a5b8b042fe",
   "metadata": {},
   "source": [
    "### 2.1 Windows:"
   ]
  },
  {
   "cell_type": "markdown",
   "id": "d219428a-14bd-4739-be38-7fd16ac60247",
   "metadata": {},
   "source": [
    "1. Visit the official Python website at **https://www.python.org/downloads/**. On the website, click on the \"Downloads\" tab, select Windows, and choose the latest version of Python for Windows to download.\n",
    "2. Locate the downloaded installer (***.exe***) and run it. The installation wizard will guide you through the process.\n",
    "3. During the installation, make sure to check the box that says \"Add Python to PATH.\" This will add Python to the system environment variables, allowing you to run Python from the command line.\n",
    "4. To verify the installation, open your command prompt and type ***python --version***. This will display the version of Python installed, indicating that the installation was successful."
   ]
  },
  {
   "cell_type": "markdown",
   "id": "eb2ac7b0-8d75-4bf8-b4cd-62f28aae216b",
   "metadata": {},
   "source": [
    "### 2.2 Mac OS:"
   ]
  },
  {
   "cell_type": "markdown",
   "id": "85ce6d4b-e518-4d41-be98-a649b0243982",
   "metadata": {},
   "source": [
    "1. Visit the official Python website at **https://www.python.org/downloads/**. On the website, click on the \"Downloads\" tab, select macOS, and choose the latest version of Python for macOS and download the installer package.\n",
    "2. Double-click on the downloaded (***.pkg***) file to run the installer. Follow the installation prompts.\n",
    "3. After installation, open a terminal and verify Python installation by typing ***python3 --version***. This will display the version of Python installed, confirming that Python was installed and working properly."
   ]
  },
  {
   "cell_type": "markdown",
   "id": "c95c4c70-face-48a3-9c80-7b791bddd516",
   "metadata": {},
   "source": [
    "### 2.3 Linux:"
   ]
  },
  {
   "cell_type": "markdown",
   "id": "21058678-4c10-4d40-b624-863c8a199447",
   "metadata": {},
   "source": [
    "To install Python on a Linux system, you can use the package manager that is designed for your particular distribution. If you are using Ubuntu or its variants, such as Kali Linux, open the terminal and enter the command \"***sudo apt-get install python3***.\" For Fedora, CentOS, or RHEL, use the command \"***sudo dnf install python3***.\" Make sure to adapt the command to match your specific Linux distribution for a smooth installation process."
   ]
  },
  {
   "cell_type": "markdown",
   "id": "7faf3ed0-01e0-4a64-9385-f2581e40f216",
   "metadata": {},
   "source": [
    "# 3. Introduction to Jupyter Notebooks"
   ]
  },
  {
   "cell_type": "markdown",
   "id": "c57bb942-fc20-431b-bdb1-66ac56dde1af",
   "metadata": {},
   "source": [
    "![Intro](http://darlington.infinityfreeapp.com/images/lab_logo_3.png)"
   ]
  },
  {
   "cell_type": "markdown",
   "id": "eb97586e-f336-4006-8a2d-b29642edfd2c",
   "metadata": {},
   "source": [
    "\n",
    "Jupyter Notebook, on the other hand, is a widely-used web-based *interactive computing environment* for tasks such as ***data analysis***, ***data visualization***, ***machine learning***, and other *scientific computing tasks*.\n",
    "\n",
    "Python developers use Jupyter Notebook to make coding easier and more collaborative. With its interactive features, they can write, test, and debug code seamlessly. The platform's user-friendly environment, combining code, visualizations, and documentation, supports quick and efficient development. It's a go-to tool for Python developers, promoting teamwork and making it simple to share their work with others."
   ]
  },
  {
   "cell_type": "markdown",
   "id": "de41f144",
   "metadata": {},
   "source": [
    "![VS Code](vscode.png)"
   ]
  },
  {
   "cell_type": "markdown",
   "id": "853ad7be",
   "metadata": {},
   "source": [
    "\n",
    "Visual Studio Code (VS Code) is a free and open-source code editor developed by Microsoft. It is widely used by developers for various programming tasks including coding, debugging, and version control.\n",
    "It is a versatile and powerful code editor that caters to the needs of individual developers as well as teams working on a wide range of software development projects. Its rich feature set, extensibility, and cross-platform support have contributed to its popularity among developers worldwide."
   ]
  },
  {
   "cell_type": "markdown",
   "id": "e4532c6a-e086-437b-85ab-613f5a750248",
   "metadata": {},
   "source": [
    "# 4. Understanding Variables"
   ]
  },
  {
   "cell_type": "markdown",
   "id": "5ec246c7-e340-4aef-b789-d7e4d837a717",
   "metadata": {},
   "source": [
    "In programming, ***a variable is a container for storing data values***. In Python, a variable is created the moment you assign a value to it for the first time. Unlike some other programming languages, Python does not require the explicit declaration of variables; the interpreter automatically detects the data type based on the assigned value."
   ]
  },
  {
   "cell_type": "markdown",
   "id": "29043553-6c72-4e50-8dc6-880289f0dafc",
   "metadata": {},
   "source": [
    "### 4.1 Naming Conventions"
   ]
  },
  {
   "cell_type": "markdown",
   "id": "d7767e8b-d6f0-47c9-8083-26034c30c592",
   "metadata": {},
   "source": [
    "In order to ensure clean and easily understandable code, it is important to adhere to a consistent and meaningful structure when naming variables. Here are some recommended naming conventions for variables in Python:\n",
    "\n",
    "- **Variable names can only contain letters, numbers, and underscores**\n",
    "- **Variable names cannot start with a number**\n",
    "- **Variable names are case-sensitive (age and Age are different variables)**\n",
    "- **Use snake case notation for multiple word variables (e.g., my_variable)**\n",
    "- **Use descriptive names that convey the purpose of the variable**\n",
    "- **It is recommended to use lower case letters for variable names**"
   ]
  },
  {
   "cell_type": "code",
   "execution_count": 17,
   "id": "73d6dd9b",
   "metadata": {},
   "outputs": [
    {
     "data": {
      "text/plain": [
       "True"
      ]
     },
     "execution_count": 17,
     "metadata": {},
     "output_type": "execute_result"
    }
   ],
   "source": [
    "\"a\" == \"a\""
   ]
  },
  {
   "cell_type": "code",
   "execution_count": 4,
   "id": "5d429b9e",
   "metadata": {},
   "outputs": [],
   "source": [
    "age = 12\n",
    "name = \"John\"\n",
    "height = 5.9\n",
    "is_student = True"
   ]
  },
  {
   "cell_type": "code",
   "execution_count": 5,
   "id": "03097cb2",
   "metadata": {},
   "outputs": [
    {
     "data": {
      "text/plain": [
       "bool"
      ]
     },
     "execution_count": 5,
     "metadata": {},
     "output_type": "execute_result"
    }
   ],
   "source": [
    "type(is_student)"
   ]
  },
  {
   "cell_type": "markdown",
   "id": "87fe8df5-1fb0-4629-833e-eea94af24080",
   "metadata": {},
   "source": [
    "### 4.2 Data Types"
   ]
  },
  {
   "cell_type": "markdown",
   "id": "25ae731d-2e25-4d86-86ad-b7b75d289019",
   "metadata": {},
   "source": [
    "Python supports various data types. The most common ones include:\n"
   ]
  },
  {
   "cell_type": "markdown",
   "id": "8266d050-d715-43a4-94da-9cdcbc21c542",
   "metadata": {},
   "source": [
    "- **int**: *Integers (e.g., 5, -10)*\n",
    "- **float**: *Floating-point numbers (e.g., 3.14, -0.5)*\n",
    "- **str**: *Strings (e.g., \"Hello, World!\")*\n",
    "- **bool**: *Boolean (True or False)*"
   ]
  },
  {
   "cell_type": "markdown",
   "id": "5302e003-7458-439d-809d-05f969190427",
   "metadata": {},
   "source": [
    "### 4.3 Printing Variables"
   ]
  },
  {
   "cell_type": "code",
   "execution_count": 6,
   "id": "1b6b85ba",
   "metadata": {},
   "outputs": [
    {
     "data": {
      "text/plain": [
       "12"
      ]
     },
     "execution_count": 6,
     "metadata": {},
     "output_type": "execute_result"
    }
   ],
   "source": [
    "age"
   ]
  },
  {
   "cell_type": "code",
   "execution_count": null,
   "id": "b7efdac1",
   "metadata": {},
   "outputs": [],
   "source": []
  },
  {
   "cell_type": "markdown",
   "id": "ea2088eb-4e8c-4027-b9bc-ff50b1d11bec",
   "metadata": {},
   "source": [
    "To display the value of a variable, use the **print()** function.\n"
   ]
  },
  {
   "cell_type": "code",
   "execution_count": 7,
   "id": "2b688f87-0b03-4272-a565-c9055ee125ad",
   "metadata": {},
   "outputs": [
    {
     "name": "stdout",
     "output_type": "stream",
     "text": [
      "This is your age:  12\n"
     ]
    }
   ],
   "source": [
    "# Print the value of the age variable\n",
    "\n",
    "print(\"This is your age: \",age)"
   ]
  },
  {
   "cell_type": "code",
   "execution_count": 8,
   "id": "8f045895-ab4d-431c-b122-4eee6f3f0617",
   "metadata": {},
   "outputs": [],
   "source": [
    "# Displaying the age with an informative label\n"
   ]
  },
  {
   "cell_type": "code",
   "execution_count": 9,
   "id": "19cc5eae-ee74-4c52-85d6-67a54dea85e8",
   "metadata": {},
   "outputs": [],
   "source": [
    "# Exercise: Display the name variable with an informative label\n"
   ]
  },
  {
   "cell_type": "markdown",
   "id": "44467c91-e4bd-45bf-a930-dda52337b472",
   "metadata": {},
   "source": [
    "### 4.4 Changing Variable Values"
   ]
  },
  {
   "cell_type": "markdown",
   "id": "ea929ca8",
   "metadata": {},
   "source": [
    "age = 35\n",
    "age"
   ]
  },
  {
   "cell_type": "markdown",
   "id": "e8878b67-8b3a-480f-bb85-3399a6581939",
   "metadata": {},
   "source": [
    "Variables can be reassigned new values.\n"
   ]
  },
  {
   "cell_type": "markdown",
   "id": "1defe749-de1b-4ff8-bad5-ecc5ab5d3b1c",
   "metadata": {},
   "source": [
    "# 5. Numbers and Mathematical Operations"
   ]
  },
  {
   "cell_type": "markdown",
   "id": "c092990a-6749-4951-a27a-7cb527248550",
   "metadata": {},
   "source": [
    "Python supports various types of numbers, but the most common ones are:\n",
    "- Integers (***int***): *Whole numbers without any decimal point.*\n",
    "- Floats (***float***): *Numbers with decimal points. **Remember, floats are also called floating-point numbers.***"
   ]
  },
  {
   "cell_type": "code",
   "execution_count": 19,
   "id": "07aec0b5",
   "metadata": {},
   "outputs": [
    {
     "data": {
      "text/plain": [
       "5"
      ]
     },
     "execution_count": 19,
     "metadata": {},
     "output_type": "execute_result"
    }
   ],
   "source": [
    "integer_number = 5\n",
    "float_number = 3.14\n",
    "integer_number"
   ]
  },
  {
   "cell_type": "markdown",
   "id": "e37b614e-1645-4da4-a76f-ae31a7d14012",
   "metadata": {},
   "source": [
    "Python also provides a wide range of mathematical operations, including arithmetic, comparison, logical operations, and more.\n"
   ]
  },
  {
   "cell_type": "markdown",
   "id": "dcbff248-0db7-4a34-9ad0-66cad26b275e",
   "metadata": {},
   "source": [
    "### 5.1 Arithmetic Operations"
   ]
  },
  {
   "cell_type": "markdown",
   "id": "2016553a-9ba3-4da4-96c0-4914a185641e",
   "metadata": {},
   "source": [
    "Arithmetic operations are fundamental to any programming language, including Python. In Python, arithmetic operations are used to perform mathematical calculations using arithmetic operators such as *addition*, *subtraction*, *multiplication*, *division*, *exponentiation* and *modulus*. Here are some examples of arithmetic operations in Python:"
   ]
  },
  {
   "cell_type": "markdown",
   "id": "7df833d7-6bce-4117-a9b4-766da23a2c64",
   "metadata": {},
   "source": [
    "#### Addition"
   ]
  },
  {
   "cell_type": "code",
   "execution_count": 20,
   "id": "46ed5ebd",
   "metadata": {},
   "outputs": [
    {
     "data": {
      "text/plain": [
       "16"
      ]
     },
     "execution_count": 20,
     "metadata": {},
     "output_type": "execute_result"
    }
   ],
   "source": [
    "result = 7+9\n",
    "result"
   ]
  },
  {
   "cell_type": "markdown",
   "id": "4c63d059-9edf-418f-81f4-cb2df075d512",
   "metadata": {},
   "source": [
    "#### Subtraction"
   ]
  },
  {
   "cell_type": "code",
   "execution_count": 1,
   "id": "4dd7829e",
   "metadata": {},
   "outputs": [
    {
     "data": {
      "text/plain": [
       "1"
      ]
     },
     "execution_count": 1,
     "metadata": {},
     "output_type": "execute_result"
    }
   ],
   "source": [
    "5-4"
   ]
  },
  {
   "cell_type": "code",
   "execution_count": 2,
   "id": "8d449695",
   "metadata": {},
   "outputs": [
    {
     "data": {
      "text/plain": [
       "1"
      ]
     },
     "execution_count": 2,
     "metadata": {},
     "output_type": "execute_result"
    }
   ],
   "source": [
    "result = 5-4\n",
    "result"
   ]
  },
  {
   "cell_type": "markdown",
   "id": "93e4a956-ef00-4d9f-a87a-e185c5e239c2",
   "metadata": {},
   "source": [
    "#### Multiplication"
   ]
  },
  {
   "cell_type": "code",
   "execution_count": 3,
   "id": "9b76a109",
   "metadata": {},
   "outputs": [
    {
     "data": {
      "text/plain": [
       "20"
      ]
     },
     "execution_count": 3,
     "metadata": {},
     "output_type": "execute_result"
    }
   ],
   "source": [
    "5 * 4"
   ]
  },
  {
   "cell_type": "code",
   "execution_count": 4,
   "id": "56174d42",
   "metadata": {},
   "outputs": [
    {
     "data": {
      "text/plain": [
       "20"
      ]
     },
     "execution_count": 4,
     "metadata": {},
     "output_type": "execute_result"
    }
   ],
   "source": [
    "result = 5*4\n",
    "result"
   ]
  },
  {
   "cell_type": "markdown",
   "id": "cc628858-4a94-46da-87ab-0bc0c87e9810",
   "metadata": {},
   "source": [
    "#### Division"
   ]
  },
  {
   "cell_type": "code",
   "execution_count": 11,
   "id": "e29689ba",
   "metadata": {},
   "outputs": [
    {
     "data": {
      "text/plain": [
       "2.0"
      ]
     },
     "execution_count": 11,
     "metadata": {},
     "output_type": "execute_result"
    }
   ],
   "source": [
    "10/5"
   ]
  },
  {
   "cell_type": "code",
   "execution_count": 12,
   "id": "ad3a5d8f",
   "metadata": {},
   "outputs": [
    {
     "data": {
      "text/plain": [
       "2"
      ]
     },
     "execution_count": 12,
     "metadata": {},
     "output_type": "execute_result"
    }
   ],
   "source": [
    "10//5"
   ]
  },
  {
   "cell_type": "markdown",
   "id": "4041d34b-92d9-4d83-9ac5-b727891b2603",
   "metadata": {},
   "source": [
    "#### Exponentiation"
   ]
  },
  {
   "cell_type": "code",
   "execution_count": 13,
   "id": "e8c04763",
   "metadata": {},
   "outputs": [
    {
     "data": {
      "text/plain": [
       "512"
      ]
     },
     "execution_count": 13,
     "metadata": {},
     "output_type": "execute_result"
    }
   ],
   "source": [
    "2**9"
   ]
  },
  {
   "cell_type": "markdown",
   "id": "093306c9-6f74-4e7e-b981-43d866e97c77",
   "metadata": {},
   "source": [
    "#### Modulus"
   ]
  },
  {
   "cell_type": "code",
   "execution_count": 14,
   "id": "f91cde75",
   "metadata": {},
   "outputs": [
    {
     "data": {
      "text/plain": [
       "1"
      ]
     },
     "execution_count": 14,
     "metadata": {},
     "output_type": "execute_result"
    }
   ],
   "source": [
    "10 % 3"
   ]
  },
  {
   "cell_type": "markdown",
   "id": "b13bf671",
   "metadata": {},
   "source": [
    "### "
   ]
  },
  {
   "cell_type": "markdown",
   "id": "699e0291-614f-4c35-9486-2898ea383263",
   "metadata": {},
   "source": [
    "### 5.2 Comparison Operations"
   ]
  },
  {
   "cell_type": "markdown",
   "id": "3fe4595a-318c-4704-aa5b-e821f57ac39e",
   "metadata": {},
   "source": [
    "Comparison operations are used to compare two values and determine the relationship between them. Python supports several comparison operators:"
   ]
  },
  {
   "cell_type": "markdown",
   "id": "9366b5c5-a3bd-41e9-9cdc-d35c4d78d43e",
   "metadata": {},
   "source": [
    "- **Equal to** (*==*)\n",
    "- **Not equal to** (*!=*)\n",
    "- **Less than** (*<*)\n",
    "- **Greater than** (*>*)\n",
    "- **Less than or equal to** (*<=*)\n",
    "- **Greater than or equal to** (*>=*)"
   ]
  },
  {
   "cell_type": "code",
   "execution_count": 23,
   "id": "3abe1d27",
   "metadata": {},
   "outputs": [
    {
     "data": {
      "text/plain": [
       "True"
      ]
     },
     "execution_count": 23,
     "metadata": {},
     "output_type": "execute_result"
    }
   ],
   "source": [
    "a>= b"
   ]
  },
  {
   "cell_type": "markdown",
   "id": "944c2337-56a5-4ebb-8bf0-c5806f177d48",
   "metadata": {},
   "source": [
    "#### Equal to (==)"
   ]
  },
  {
   "cell_type": "code",
   "execution_count": 15,
   "id": "76b78265",
   "metadata": {},
   "outputs": [
    {
     "data": {
      "text/plain": [
       "True"
      ]
     },
     "execution_count": 15,
     "metadata": {},
     "output_type": "execute_result"
    }
   ],
   "source": [
    "a= 5\n",
    "b =5\n",
    "a == b"
   ]
  },
  {
   "cell_type": "markdown",
   "id": "929d3418-8ff3-4407-b36b-21d175130afa",
   "metadata": {},
   "source": [
    "#### Not equal to (!=)"
   ]
  },
  {
   "cell_type": "code",
   "execution_count": 16,
   "id": "b48af214",
   "metadata": {},
   "outputs": [
    {
     "data": {
      "text/plain": [
       "False"
      ]
     },
     "execution_count": 16,
     "metadata": {},
     "output_type": "execute_result"
    }
   ],
   "source": [
    "a!= b"
   ]
  },
  {
   "cell_type": "markdown",
   "id": "3fb25764-4f59-42cf-8e25-59a179553d82",
   "metadata": {},
   "source": [
    "#### Less than (<)"
   ]
  },
  {
   "cell_type": "code",
   "execution_count": 17,
   "id": "bc79e2dc",
   "metadata": {},
   "outputs": [
    {
     "data": {
      "text/plain": [
       "False"
      ]
     },
     "execution_count": 17,
     "metadata": {},
     "output_type": "execute_result"
    }
   ],
   "source": [
    "a<b"
   ]
  },
  {
   "cell_type": "markdown",
   "id": "ba0f76ff-74ed-4262-8b04-dee5dc75d18a",
   "metadata": {},
   "source": [
    "#### Greater than (>)"
   ]
  },
  {
   "cell_type": "code",
   "execution_count": 18,
   "id": "6f6e7eeb",
   "metadata": {},
   "outputs": [
    {
     "data": {
      "text/plain": [
       "False"
      ]
     },
     "execution_count": 18,
     "metadata": {},
     "output_type": "execute_result"
    }
   ],
   "source": [
    "a>b"
   ]
  },
  {
   "cell_type": "markdown",
   "id": "730cb70f-3d5c-49af-8e04-b8712f0837db",
   "metadata": {},
   "source": [
    "#### Less than or equal to (<=)"
   ]
  },
  {
   "cell_type": "code",
   "execution_count": 19,
   "id": "06581a7d",
   "metadata": {},
   "outputs": [
    {
     "data": {
      "text/plain": [
       "True"
      ]
     },
     "execution_count": 19,
     "metadata": {},
     "output_type": "execute_result"
    }
   ],
   "source": [
    "a<=b"
   ]
  },
  {
   "cell_type": "markdown",
   "id": "505d172c-9517-4091-a27c-955a17ab1cd2",
   "metadata": {},
   "source": [
    "#### Greater than or equal to (>=)"
   ]
  },
  {
   "cell_type": "code",
   "execution_count": 20,
   "id": "0d66f8dd",
   "metadata": {},
   "outputs": [
    {
     "data": {
      "text/plain": [
       "True"
      ]
     },
     "execution_count": 20,
     "metadata": {},
     "output_type": "execute_result"
    }
   ],
   "source": [
    "a>=b"
   ]
  },
  {
   "cell_type": "markdown",
   "id": "2cc69526-fe97-47db-ab88-e1be55279348",
   "metadata": {},
   "source": [
    "# 6. Practice Exercises"
   ]
  },
  {
   "cell_type": "markdown",
   "id": "73f6f3cf-bb18-4a5a-bc9a-4e5b9ff379fb",
   "metadata": {},
   "source": [
    "#### Exercise :"
   ]
  },
  {
   "cell_type": "markdown",
   "id": "47ed3c0b-f011-491b-8cfa-574c4f8b24a8",
   "metadata": {},
   "source": [
    "Write a Python program that calculates the approximate total years of sleep a person has had in their entire life, assuming the person is 60 years old and sleeps for 8 hours daily. Print the result in the format: \"A 60-year-old person has slept for approximately x years throughout their life."
   ]
  },
  {
   "cell_type": "code",
   "execution_count": 10,
   "id": "936f6f02-0611-4af3-bb62-78f447274447",
   "metadata": {},
   "outputs": [],
   "source": [
    "# Answer Exercise 1 Here\n",
    "\n",
    "# Define age and daily_hours_of_sleep variables\n",
    "# Calculate total hours of sleep in entire life - total_hours_of_sleep = age * 365 * daily_hours_of_sleep\n",
    "# Convert hours to years - total_years_of_sleep = total_hours_of_sleep / 24 / 365\n",
    "# Print the result\n"
   ]
  },
  {
   "cell_type": "markdown",
   "id": "452269d3",
   "metadata": {},
   "source": [
    "### age =60\n",
    "daily_hours_of_sleep = 10\n",
    "total_hours_of_sleep = age * 365 * daily_hours_of_sleep\n",
    "total_years_of_sleep = total_hours_of_sleep / 24 / 365\n",
    "print(f\"A 60-year-old person has slept for approximately {total_years_of_sleep} years throughout their life\")"
   ]
  },
  {
   "cell_type": "markdown",
   "id": "6c83da0b",
   "metadata": {},
   "source": [
    "![day1-p3.png](day1-p3.png)"
   ]
  },
  {
   "cell_type": "markdown",
   "id": "4f315387",
   "metadata": {},
   "source": [
    "![day1-p4.png](day1-p4.png)"
   ]
  },
  {
   "cell_type": "markdown",
   "id": "f9972220-de2e-42d3-bb39-6a9e7b6c5a91",
   "metadata": {},
   "source": [
    "![Quote](http://darlington.infinityfreeapp.com/images/quote2.png)"
   ]
  },
  {
   "cell_type": "markdown",
   "id": "933ee60b-2476-4784-a254-c6d091a7b93b",
   "metadata": {},
   "source": [
    "# 1. Understanding the Basics of Strings in Python"
   ]
  },
  {
   "cell_type": "markdown",
   "id": "f53ac238-efe6-44e6-be71-55e528a77bbb",
   "metadata": {},
   "source": [
    "Welcome to another exciting lesson in our Python Essentials course! In this lesson, we'll start by exploring the fundamentals of strings in Python."
   ]
  },
  {
   "cell_type": "markdown",
   "id": "93768e52-893d-48e1-9e61-acd8a96021d6",
   "metadata": {},
   "source": [
    "### 1.1 What is a String?"
   ]
  },
  {
   "cell_type": "markdown",
   "id": "6a308a65-c4bc-497c-878f-cc207fde04fe",
   "metadata": {},
   "source": [
    "A string is simply **a sequence of characters**. These characters can include *letters*, *numbers*, *symbols*, and *spaces*. For example, \"hello,\" \"Python123,\" and \"!\" are all strings. In Python, strings are *data types*. They are represented as '**str**' and enclosed in either single quotes (' ') or double quotes (\" \")."
   ]
  },
  {
   "cell_type": "code",
   "execution_count": 26,
   "id": "ba39fc2d",
   "metadata": {},
   "outputs": [],
   "source": [
    "greeting = \"Hello\"\n",
    "to = \"World!\"\n",
    "full_greeting = 'Hello world'\n",
    "sentence = 'Python is easy and powerful.'"
   ]
  },
  {
   "cell_type": "markdown",
   "id": "0964b5af-c417-4f54-8704-60c4e07471a8",
   "metadata": {},
   "source": [
    "### 1.2 Enclosing Strings"
   ]
  },
  {
   "cell_type": "markdown",
   "id": "106a5d03-dad7-49d8-9481-35964b98096e",
   "metadata": {},
   "source": [
    "In Python, strings can be enclosed in either single quotes (**' '**) or double quotes (**\" \"**). Using single or double quotes is a matter of personal preference, but there are situations where one may be more suitable than the other."
   ]
  },
  {
   "cell_type": "code",
   "execution_count": null,
   "id": "9aa9483f",
   "metadata": {},
   "outputs": [],
   "source": [
    "to = \"World!\"\n",
    "full_greeting = 'Hello world'"
   ]
  },
  {
   "cell_type": "markdown",
   "id": "6838e102-7039-4af1-9f4e-e69c1049a79f",
   "metadata": {},
   "source": [
    "### 1.3 Multiline Strings"
   ]
  },
  {
   "cell_type": "markdown",
   "id": "20bdc29c-9306-4498-b400-4bfed5abfdc9",
   "metadata": {},
   "source": [
    "Multiline strings are simply text that **extends across multiple lines**. In Python, multiline strings provide a convenient way to work with large blocks of text or to preserve the formatting of a string across multiple lines. They are enclosed within *triple single quotes* (**''' '''**) or *triple double quotes* (**\"\"\" \"\"\"**)."
   ]
  },
  {
   "cell_type": "code",
   "execution_count": 11,
   "id": "ea3f91e2-452e-4035-987a-8aebe4bff787",
   "metadata": {},
   "outputs": [],
   "source": [
    "# Example of Multiline String\n",
    "message = \"\"\"\n",
    "Python 2 is discontinued.\n",
    "It is recommended to use Python 3.\n",
    "This is a multiline string that extends across multiple lines.\n",
    "\"\"\""
   ]
  },
  {
   "cell_type": "markdown",
   "id": "55b48d69-5dad-42a3-acb1-88991ddbf7e9",
   "metadata": {},
   "source": [
    "# 2. Basic String Manipulation in Python"
   ]
  },
  {
   "cell_type": "markdown",
   "id": "e317083e-d7a1-42c3-b4a7-bd4c20cbd818",
   "metadata": {},
   "source": [
    "In Python, you can manipulate strings in numerous ways, such as combining them (concatenation), repeating, slicing, and much more."
   ]
  },
  {
   "cell_type": "markdown",
   "id": "4fc32d38-0773-4334-bbf8-442a98085c86",
   "metadata": {},
   "source": [
    "### 2.1 Concatenation"
   ]
  },
  {
   "cell_type": "markdown",
   "id": "e8b4c5cf-9e2e-4aef-851a-47079a8cddf6",
   "metadata": {},
   "source": [
    "You can concatenate (combine) strings using the **+** operator."
   ]
  },
  {
   "cell_type": "code",
   "execution_count": 27,
   "id": "7437ea8b",
   "metadata": {},
   "outputs": [
    {
     "data": {
      "text/plain": [
       "'JohnDoe'"
      ]
     },
     "execution_count": 27,
     "metadata": {},
     "output_type": "execute_result"
    }
   ],
   "source": [
    "first_name = \"John\"\n",
    "last_name = 'Doe'\n",
    "full_name = first_name + last_name\n",
    "full_name"
   ]
  },
  {
   "cell_type": "code",
   "execution_count": 31,
   "id": "3fda66f5",
   "metadata": {},
   "outputs": [
    {
     "data": {
      "text/plain": [
       "'John     Doe'"
      ]
     },
     "execution_count": 31,
     "metadata": {},
     "output_type": "execute_result"
    }
   ],
   "source": [
    "full_name = first_name +\"     \"+last_name\n",
    "full_name"
   ]
  },
  {
   "cell_type": "markdown",
   "id": "3864c045-e0f8-4320-9424-2fa642313e4a",
   "metadata": {},
   "source": [
    "### 2.2 String Repetition"
   ]
  },
  {
   "cell_type": "markdown",
   "id": "af356d3e-c360-4fc7-85c7-f1852706d8e9",
   "metadata": {},
   "source": [
    "You can repeat a string using the * operator:"
   ]
  },
  {
   "cell_type": "code",
   "execution_count": 2,
   "id": "a696652c",
   "metadata": {},
   "outputs": [
    {
     "name": "stdout",
     "output_type": "stream",
     "text": [
      "Hello\n",
      "Hello\n",
      "Hello\n",
      "Hello\n",
      "Hello\n",
      "Hello\n",
      "Hello\n",
      "Hello\n",
      "\n"
     ]
    }
   ],
   "source": [
    "say_hello = \"Hello\\n\" *8\n",
    "print(say_hello)"
   ]
  },
  {
   "cell_type": "markdown",
   "id": "81682c39-38e6-4bbb-bd1e-327eabc8c500",
   "metadata": {},
   "source": [
    "### 2.3 String Indexing"
   ]
  },
  {
   "cell_type": "markdown",
   "id": "3fa4b2bf-83da-4205-8bd6-d210bad4e6c4",
   "metadata": {},
   "source": [
    "Strings are indexed, meaning each character has a unique position starting from 0. You can access individual characters using indexing."
   ]
  },
  {
   "cell_type": "code",
   "execution_count": 3,
   "id": "5bbc977e",
   "metadata": {},
   "outputs": [
    {
     "name": "stdout",
     "output_type": "stream",
     "text": [
      "G A\n"
     ]
    }
   ],
   "source": [
    "full_name = \"Glen Anum\"\n",
    "fst =full_name[0]\n",
    "lst =full_name[-4]\n",
    "print(fst +\" \"+lst)"
   ]
  },
  {
   "cell_type": "code",
   "execution_count": 44,
   "id": "5f2d3aa4",
   "metadata": {},
   "outputs": [
    {
     "ename": "TypeError",
     "evalue": "string indices must be integers",
     "output_type": "error",
     "traceback": [
      "\u001b[1;31m---------------------------------------------------------------------------\u001b[0m",
      "\u001b[1;31mTypeError\u001b[0m                                 Traceback (most recent call last)",
      "\u001b[1;32m~\\AppData\\Local\\Temp\\ipykernel_21176\\1680577412.py\u001b[0m in \u001b[0;36m<module>\u001b[1;34m\u001b[0m\n\u001b[1;32m----> 1\u001b[1;33m \u001b[0mfull_name\u001b[0m\u001b[1;33m[\u001b[0m\u001b[1;33m[\u001b[0m\u001b[1;36m0\u001b[0m\u001b[1;33m,\u001b[0m\u001b[1;36m5\u001b[0m \u001b[1;33m]\u001b[0m\u001b[1;33m]\u001b[0m\u001b[1;33m\u001b[0m\u001b[1;33m\u001b[0m\u001b[0m\n\u001b[0m\u001b[0;32m      2\u001b[0m \u001b[1;33m\u001b[0m\u001b[0m\n",
      "\u001b[1;31mTypeError\u001b[0m: string indices must be integers"
     ]
    }
   ],
   "source": [
    "full_name[]\n",
    "\n"
   ]
  },
  {
   "cell_type": "markdown",
   "id": "6d1c0242-7115-4fc8-b59e-57840f802f6f",
   "metadata": {},
   "source": [
    "### 2.4 String Slicing"
   ]
  },
  {
   "cell_type": "markdown",
   "id": "814b2a23-572b-4367-8c4d-9ac645a108b2",
   "metadata": {},
   "source": [
    "In Python, slicing a string means **extracting a portion of the string** to create a new substring. This is achieved by specifying a range that includes the start and end indices."
   ]
  },
  {
   "cell_type": "code",
   "execution_count": 9,
   "id": "5067fa7f",
   "metadata": {},
   "outputs": [
    {
     "data": {
      "text/plain": [
       "'fun!'"
      ]
     },
     "execution_count": 9,
     "metadata": {},
     "output_type": "execute_result"
    }
   ],
   "source": [
    "feedback=\"Python is fun!\"\n",
    "feedback[10:14]\n",
    "feedback[10:]\n",
    "feedback[-4:]"
   ]
  },
  {
   "cell_type": "code",
   "execution_count": 65,
   "id": "280c55d2-eae2-4e51-ac0c-52a804f8f036",
   "metadata": {},
   "outputs": [
    {
     "data": {
      "text/plain": [
       "'fun!'"
      ]
     },
     "execution_count": 65,
     "metadata": {},
     "output_type": "execute_result"
    }
   ],
   "source": [
    "# String Slices To Note\n",
    "\n",
    "# Extracts characters from the beginning up to index 6 (exclusive)\n",
    "feedback[:6]\n",
    "feedback[0:6]\n",
    "# Full slice, creates a copy of the entire string\n",
    "feedback[:]\n",
    "\n",
    "# Starts from index 1 and goes up to the end of the string\n",
    "feedback[1:]\n",
    "\n",
    "# Takes every second character in the entire string\n",
    "#[start:stop:skip]\n",
    "feedback[::2]\n",
    "#slice12\n",
    "# Starts from index 0, goes up to index 6 (exclusive), taking every second character\n",
    "feedback[:6:2]\n",
    "feedback[0:6:2]\n",
    "# Reverses the entire string\n",
    "feedback[::-1]\n",
    "feedback[-1::-1]\n",
    "# Extracts the last 4 characters\n",
    "feedback[10::]\n",
    "feedback[-4:]"
   ]
  },
  {
   "cell_type": "markdown",
   "id": "b2acda51-f1c6-4817-aae7-f76972ec69e6",
   "metadata": {},
   "source": [
    "### 2.5 Strings are Immutable"
   ]
  },
  {
   "cell_type": "markdown",
   "id": "9c520f52-368c-4810-859d-805799562311",
   "metadata": {},
   "source": [
    "In Python, **strings are immutable**, meaning their values cannot be changed after creation. However, their **reference variables** can be reassigned to a new string to create a new string object."
   ]
  },
  {
   "cell_type": "code",
   "execution_count": 54,
   "id": "b7064757",
   "metadata": {},
   "outputs": [
    {
     "ename": "TypeError",
     "evalue": "'str' object does not support item assignment",
     "output_type": "error",
     "traceback": [
      "\u001b[1;31m---------------------------------------------------------------------------\u001b[0m",
      "\u001b[1;31mTypeError\u001b[0m                                 Traceback (most recent call last)",
      "\u001b[1;32m~\\AppData\\Local\\Temp\\ipykernel_32588\\3444289303.py\u001b[0m in \u001b[0;36m<module>\u001b[1;34m\u001b[0m\n\u001b[0;32m      1\u001b[0m \u001b[0mstr_original\u001b[0m \u001b[1;33m=\u001b[0m \u001b[1;34m\"Hello\"\u001b[0m\u001b[1;33m\u001b[0m\u001b[1;33m\u001b[0m\u001b[0m\n\u001b[1;32m----> 2\u001b[1;33m \u001b[0mstr_original\u001b[0m\u001b[1;33m[\u001b[0m\u001b[1;36m2\u001b[0m\u001b[1;33m]\u001b[0m \u001b[1;33m=\u001b[0m \u001b[1;34m\"Y\"\u001b[0m\u001b[1;33m\u001b[0m\u001b[1;33m\u001b[0m\u001b[0m\n\u001b[0m\u001b[0;32m      3\u001b[0m \u001b[1;33m\u001b[0m\u001b[0m\n\u001b[0;32m      4\u001b[0m \u001b[0mstr_original\u001b[0m \u001b[1;33m=\u001b[0m \u001b[1;34m\"HeYlo\"\u001b[0m\u001b[1;33m\u001b[0m\u001b[1;33m\u001b[0m\u001b[0m\n",
      "\u001b[1;31mTypeError\u001b[0m: 'str' object does not support item assignment"
     ]
    }
   ],
   "source": [
    "str_original = \"Hello\"\n",
    "str_original[2] = \"Y\"\n",
    "\n",
    "str_original = \"HeYlo\""
   ]
  },
  {
   "cell_type": "code",
   "execution_count": 15,
   "id": "6dfc9303",
   "metadata": {},
   "outputs": [
    {
     "data": {
      "text/plain": [
       "'HeYlo'"
      ]
     },
     "execution_count": 15,
     "metadata": {},
     "output_type": "execute_result"
    }
   ],
   "source": [
    "str_original"
   ]
  },
  {
   "cell_type": "markdown",
   "id": "c4c23462-822a-41b7-8520-cb039dddcea2",
   "metadata": {},
   "source": [
    "# 3. String Methods in Python"
   ]
  },
  {
   "cell_type": "markdown",
   "id": "a64c8163-b9cd-47fb-a422-28b2096c2dc9",
   "metadata": {},
   "source": [
    "Python provides several built-in functions in its standard library that enable you to perform a wide range of operations on strings. These operations include *finding the length of a string*, *removing whitespaces*, *changing case*, and more."
   ]
  },
  {
   "cell_type": "markdown",
   "id": "3bbd835a-4219-4137-94b5-739894120b7d",
   "metadata": {},
   "source": [
    "### 3.1 Length of a String"
   ]
  },
  {
   "cell_type": "markdown",
   "id": "203fc8e3-4146-4a82-9aee-e40c4b3f511e",
   "metadata": {},
   "source": [
    "You can find the length of a string using the **len()** function:"
   ]
  },
  {
   "cell_type": "code",
   "execution_count": 16,
   "id": "edd814bf",
   "metadata": {},
   "outputs": [
    {
     "data": {
      "text/plain": [
       "13"
      ]
     },
     "execution_count": 16,
     "metadata": {},
     "output_type": "execute_result"
    }
   ],
   "source": [
    "string = \"Hello, World!\"\n",
    "len(string)"
   ]
  },
  {
   "cell_type": "markdown",
   "id": "53437f4f-67fe-455b-8dc9-63610161fa4c",
   "metadata": {},
   "source": [
    "### 3.2 Removing Whitespaces"
   ]
  },
  {
   "cell_type": "markdown",
   "id": "ee590d8d-99f7-4088-9fed-ea87ee8e2aa2",
   "metadata": {},
   "source": [
    "The **strip()** method is used to remove leading and trailing whitespaces from a string."
   ]
  },
  {
   "cell_type": "code",
   "execution_count": 42,
   "id": "489e3125",
   "metadata": {},
   "outputs": [
    {
     "data": {
      "text/plain": [
       "'   PYTHON IS AWESOME!    '"
      ]
     },
     "execution_count": 42,
     "metadata": {},
     "output_type": "execute_result"
    }
   ],
   "source": [
    "string = \"   Python Is awesoMe!    \"\n",
    "stripped_string = string.title().upper()\n",
    "stripped_string"
   ]
  },
  {
   "cell_type": "code",
   "execution_count": 31,
   "id": "8b135fbd",
   "metadata": {},
   "outputs": [
    {
     "name": "stdout",
     "output_type": "stream",
     "text": [
      "['__add__', '__class__', '__contains__', '__delattr__', '__dir__', '__doc__', '__eq__', '__format__', '__ge__', '__getattribute__', '__getitem__', '__getnewargs__', '__gt__', '__hash__', '__init__', '__init_subclass__', '__iter__', '__le__', '__len__', '__lt__', '__mod__', '__mul__', '__ne__', '__new__', '__reduce__', '__reduce_ex__', '__repr__', '__rmod__', '__rmul__', '__setattr__', '__sizeof__', '__str__', '__subclasshook__', 'capitalize', 'casefold', 'center', 'count', 'encode', 'endswith', 'expandtabs', 'find', 'format', 'format_map', 'index', 'isalnum', 'isalpha', 'isascii', 'isdecimal', 'isdigit', 'isidentifier', 'islower', 'isnumeric', 'isprintable', 'isspace', 'istitle', 'isupper', 'join', 'ljust', 'lower', 'lstrip', 'maketrans', 'partition', 'removeprefix', 'removesuffix', 'replace', 'rfind', 'rindex', 'rjust', 'rpartition', 'rsplit', 'rstrip', 'split', 'splitlines', 'startswith', 'strip', 'swapcase', 'title', 'translate', 'upper', 'zfill']\n"
     ]
    }
   ],
   "source": [
    "print(dir(string))"
   ]
  },
  {
   "cell_type": "markdown",
   "id": "39db2239-fd66-4ef2-8a48-724a1e69a01a",
   "metadata": {},
   "source": [
    "### 3.3 Changing Case"
   ]
  },
  {
   "cell_type": "markdown",
   "id": "bb130ddb-9e30-457f-92cb-c096c347fa28",
   "metadata": {},
   "source": [
    "In Python, you can easily change the case of strings using the following methods:"
   ]
  },
  {
   "cell_type": "markdown",
   "id": "e7648407-c2bc-469f-9b8f-00bab6681331",
   "metadata": {},
   "source": [
    "**The lower() Method**: The lower() method converts all characters in a string to lowercase."
   ]
  },
  {
   "cell_type": "code",
   "execution_count": 37,
   "id": "f86c0dec",
   "metadata": {},
   "outputs": [
    {
     "data": {
      "text/plain": [
       "'   python is awesome!    '"
      ]
     },
     "execution_count": 37,
     "metadata": {},
     "output_type": "execute_result"
    }
   ],
   "source": [
    "string.lower()"
   ]
  },
  {
   "cell_type": "markdown",
   "id": "d1eceaf5-43eb-4048-a630-ca40a4e14da6",
   "metadata": {},
   "source": [
    "**The upper() Method**: The upper() method converts all characters in a string to uppercase."
   ]
  },
  {
   "cell_type": "code",
   "execution_count": 38,
   "id": "e3f94f1c",
   "metadata": {},
   "outputs": [
    {
     "data": {
      "text/plain": [
       "'   PYTHON IS AWESOME!    '"
      ]
     },
     "execution_count": 38,
     "metadata": {},
     "output_type": "execute_result"
    }
   ],
   "source": [
    "string.upper()"
   ]
  },
  {
   "cell_type": "markdown",
   "id": "73ad2930-d28f-4d95-a44d-ced30fa5920e",
   "metadata": {},
   "source": [
    "**The title() Method**: The title() method converts the first character of each word to uppercase and the rest to lowercase."
   ]
  },
  {
   "cell_type": "code",
   "execution_count": 39,
   "id": "0b7ff0e0",
   "metadata": {},
   "outputs": [
    {
     "data": {
      "text/plain": [
       "'   Python Is Awesome!    '"
      ]
     },
     "execution_count": 39,
     "metadata": {},
     "output_type": "execute_result"
    }
   ],
   "source": [
    "string.title()"
   ]
  },
  {
   "cell_type": "markdown",
   "id": "d32d66c7-5900-46d1-a557-f0caa9b25166",
   "metadata": {},
   "source": [
    "### 3.4 Replacing a Substring"
   ]
  },
  {
   "cell_type": "markdown",
   "id": "d8b7b0ca-1fda-427f-b456-ed9079cedfd1",
   "metadata": {},
   "source": [
    "The **replace()** method is used to replace occurrences of a specified substring with another substring in a string."
   ]
  },
  {
   "cell_type": "code",
   "execution_count": 45,
   "id": "9efbbc1c",
   "metadata": {},
   "outputs": [
    {
     "data": {
      "text/plain": [
       "'I like bananas.'"
      ]
     },
     "execution_count": 45,
     "metadata": {},
     "output_type": "execute_result"
    }
   ],
   "source": [
    "string=\"I like bananas.\"\n",
    "string.replace(\"b\", \"a\")\n",
    "string"
   ]
  },
  {
   "cell_type": "markdown",
   "id": "f55c3918-f374-416e-a6c1-0facb403c1c3",
   "metadata": {},
   "source": [
    "# 4. Writing Comments in Python"
   ]
  },
  {
   "cell_type": "markdown",
   "id": "953bfce2-01dd-48e7-9510-bc325006b070",
   "metadata": {},
   "source": [
    "Comments are simply **notes written in your code** to explain its functionality to other developers or to yourself when reviewing the code later. They make the code more understandable and provide additional information about it. Writing comments in your Python code is a good practice to make your code more readable and understandable.  It's important to note that **comments are ignored by the Python interpreter** and are intended solely for human readers."
   ]
  },
  {
   "cell_type": "markdown",
   "id": "28a8bbab-d9a5-431c-93a6-57538c18e4d1",
   "metadata": {},
   "source": [
    "### 4.1 Single-Line Comments"
   ]
  },
  {
   "cell_type": "markdown",
   "id": "8f88a35d-058b-45c3-b1a0-8389079e0744",
   "metadata": {},
   "source": [
    "Single-line comments are created using the **#** symbol. Everything after the # **on the same line** is treated as a comment."
   ]
  },
  {
   "cell_type": "code",
   "execution_count": 47,
   "id": "4902b039-f57d-4670-ac59-971d28c8c13d",
   "metadata": {},
   "outputs": [],
   "source": [
    " #This is a single-line comment, use it to explain the code below\n"
   ]
  },
  {
   "cell_type": "markdown",
   "id": "80bc08df-fcc7-43bc-9a05-f9698ba020b5",
   "metadata": {},
   "source": [
    "### 4.2 Multi-Line Comments"
   ]
  },
  {
   "cell_type": "code",
   "execution_count": 51,
   "id": "60ca6739",
   "metadata": {},
   "outputs": [
    {
     "data": {
      "text/plain": [
       "4"
      ]
     },
     "execution_count": 51,
     "metadata": {},
     "output_type": "execute_result"
    }
   ],
   "source": [
    " #adding two values\n",
    "2+2"
   ]
  },
  {
   "cell_type": "markdown",
   "id": "d9eb1067-135e-408a-8464-7b1eb3f49f75",
   "metadata": {},
   "source": [
    "Multi-line comments are enclosed within **triple quotes (\"\"\")** — *either single or double quotes* — and can span multiple lines. They are used to provide more detailed explanations or annotations for a block of code."
   ]
  },
  {
   "cell_type": "code",
   "execution_count": 14,
   "id": "3b900335-69ef-4e54-83e3-22db89077b79",
   "metadata": {},
   "outputs": [
    {
     "data": {
      "text/plain": [
       "'\\nAnother way to create a multi-line comment.\\nUse triple double-quotes as well.\\n'"
      ]
     },
     "execution_count": 14,
     "metadata": {},
     "output_type": "execute_result"
    }
   ],
   "source": [
    "'''\n",
    "This is a multi-line comment.\n",
    "It spans multiple lines.\n",
    "\n",
    "'''\n",
    "\n",
    "\"\"\"\n",
    "Another way to create a multi-line comment.\n",
    "Use triple double-quotes as well.\n",
    "\"\"\""
   ]
  },
  {
   "cell_type": "markdown",
   "id": "1c9e652a-d9fa-4ff0-9610-45adafdcbc9f",
   "metadata": {},
   "source": [
    "### 4.3 Inline Comments"
   ]
  },
  {
   "cell_type": "markdown",
   "id": "48b26220-9257-41c7-b866-f59ad13978b8",
   "metadata": {},
   "source": [
    "Inline comments are **short comments placed on the same line** as the code. Use them sparingly and ensure they add value to the understanding of the code."
   ]
  },
  {
   "cell_type": "code",
   "execution_count": 52,
   "id": "b44b11f6-0f42-40c8-8091-44a05d6175b1",
   "metadata": {},
   "outputs": [
    {
     "data": {
      "text/plain": [
       "11"
      ]
     },
     "execution_count": 52,
     "metadata": {},
     "output_type": "execute_result"
    }
   ],
   "source": [
    "x=5\n",
    "y=6\n",
    "x + y # this is for multiplication"
   ]
  },
  {
   "cell_type": "markdown",
   "id": "e3e48778-acaf-4671-a031-343b98c32fc4",
   "metadata": {},
   "source": [
    "### 4.4 Commenting Out Code"
   ]
  },
  {
   "cell_type": "markdown",
   "id": "df1ca0ca-9eb9-4d18-aa40-485eac81497a",
   "metadata": {},
   "source": [
    "You can use comments to **temporarily disable or \"comment out\"** lines of code for testing or debugging purposes."
   ]
  },
  {
   "cell_type": "code",
   "execution_count": null,
   "id": "dab1a53f-1869-4809-844f-2e08a8ff506d",
   "metadata": {},
   "outputs": [],
   "source": [
    "#print(\"This line is commented out for now.\")"
   ]
  },
  {
   "cell_type": "markdown",
   "id": "aef25997-4720-44b0-b64d-30ed38c38949",
   "metadata": {},
   "source": [
    "# 5. Best Practices in Python"
   ]
  },
  {
   "cell_type": "markdown",
   "id": "22b95ad2-bc0f-4c3a-a89d-b7c5b1cd3a23",
   "metadata": {},
   "source": [
    "Now that we've covered some basics in Pythoon, let's discuss best practices:\n",
    "\n",
    "- **Readability**: Write code that is easy to read. Use descriptive or meaningful variable names and add comments where necessary.\n",
    "\n",
    "- **Consistency**: Stick to a consistent coding style. This makes your code more predictable.\n",
    "\n",
    "- **Testing**: Test your code frequently to catch errors early.\n",
    "\n",
    "Remember, the journey of learning Python is both exciting and rewarding. Keep practicing and exploring!"
   ]
  },
  {
   "cell_type": "markdown",
   "id": "c399b3bb-348a-476e-aa50-3e0f28ac4c9a",
   "metadata": {},
   "source": [
    "# 6. Practice Exercises"
   ]
  },
  {
   "cell_type": "markdown",
   "id": "8b601fe5-4193-4119-bc03-0caa2e043ac3",
   "metadata": {},
   "source": [
    "#### Exercise 1:"
   ]
  },
  {
   "cell_type": "markdown",
   "id": "5f575228-a5b4-4d61-9a48-9cba2a3f0e86",
   "metadata": {},
   "source": [
    "Write a Python program that converts a username entered by a user from uppercase to lowercase. Begin by creating a variable to store the username in its original uppercase format."
   ]
  },
  {
   "cell_type": "code",
   "execution_count": 55,
   "id": "75d84388-2e3a-4e03-8a29-829e3760884f",
   "metadata": {},
   "outputs": [
    {
     "data": {
      "text/plain": [
       "'glen anum'"
      ]
     },
     "execution_count": 55,
     "metadata": {},
     "output_type": "execute_result"
    }
   ],
   "source": [
    "# Answer Exercise 1 Here\n",
    "username = \"GLEN ANUM\"\n",
    "username.lower()"
   ]
  },
  {
   "cell_type": "markdown",
   "id": "d3a0a7e2-1fa8-4168-9b90-0a027edd67ce",
   "metadata": {},
   "source": [
    "#### Exercise 2:"
   ]
  },
  {
   "cell_type": "markdown",
   "id": "c9299a3c-578b-4bb3-899d-0c2794915ea2",
   "metadata": {},
   "source": [
    "Write a Python program to count the number of characters in the string below. Print the final output in the format: *The string contains ___ characters.*"
   ]
  },
  {
   "cell_type": "code",
   "execution_count": 58,
   "id": "d8bc2b7d-cb03-4c11-ab2b-7b1cb48361af",
   "metadata": {},
   "outputs": [
    {
     "name": "stdout",
     "output_type": "stream",
     "text": [
      "The string contains 57 characters.\n"
     ]
    }
   ],
   "source": [
    "# Answer Exercise 2 Here\n",
    "string = \"Lorem ipsum dolor sit amett, consectetur adipiscing elit.\"\n",
    "print(f\"The string contains {len(string)} characters.\")"
   ]
  },
  {
   "cell_type": "markdown",
   "id": "aaa93dfe-cda4-4437-b652-133ab43aa149",
   "metadata": {},
   "source": [
    "#### Exercise 3:"
   ]
  },
  {
   "cell_type": "markdown",
   "id": "ab2ae0ad-6028-47c5-9937-a2f33a467000",
   "metadata": {},
   "source": [
    "Create a Python program to extract and print the substring *\"Python\"* from the given string below."
   ]
  },
  {
   "cell_type": "code",
   "execution_count": 61,
   "id": "22b2b6fc-8cca-4c46-9f45-977591489ecc",
   "metadata": {},
   "outputs": [
    {
     "data": {
      "text/plain": [
       "'Python'"
      ]
     },
     "execution_count": 61,
     "metadata": {},
     "output_type": "execute_result"
    }
   ],
   "source": [
    "# Answer Exercise 3 Here\n",
    "string = \"Many programmers enjoy using Python for its simplicity and power.\"\n",
    "string[29:35]"
   ]
  },
  {
   "cell_type": "markdown",
   "id": "e4642f12",
   "metadata": {},
   "source": [
    "# 1. Understanding Containers in Python"
   ]
  },
  {
   "cell_type": "markdown",
   "id": "dd01f208",
   "metadata": {},
   "source": [
    "Containers are a fundamental concept in Python programming that allow you to **store and organize data effectively**. These containers help you keep your data organized and make it easier to work with different types of data in Python. Python offers several built-in container types, such as **lists, tuples, sets, and dictionaries**, each with distinct characteristics and use cases. These containers are commonly referred to as **data structures**."
   ]
  },
  {
   "cell_type": "markdown",
   "id": "2aacfd30",
   "metadata": {},
   "source": [
    "### 1.1 What are Data Structures?"
   ]
  },
  {
   "cell_type": "markdown",
   "id": "3241d737",
   "metadata": {},
   "source": [
    "In computer programming, data structures are systematic methods used to store and organize data in computer memory, aiming to optimize operations like access, insertion, and modification for efficient data manipulation.\n",
    "\n",
    "In Python, data structures are implemented through a variety of built-in data types and modules, providing developers with a rich set of tools to efficiently manage and manipulate data. Lists, tuples, sets, and dictionaries are fundamental data structures in Python, each serving different purposes."
   ]
  },
  {
   "cell_type": "markdown",
   "id": "649cf2cf",
   "metadata": {},
   "source": [
    "# 2. Lists in Python"
   ]
  },
  {
   "cell_type": "markdown",
   "id": "d589e2ba",
   "metadata": {},
   "source": [
    "In Python, a list is a versatile container that **can store a collection of items**. These items can be of various types, including integers, strings, or a combination of both. **Lists are mutable**, meaning that they can be modified after they are created.\n",
    "\n",
    "Think of a list as a flexible container that **allows you to store multiple values within a single variable**. Unlike other variables that can only store a single value, lists can hold a sequence of elements, such as numbers and names, and can accommodate elements of different data types within the same list."
   ]
  },
  {
   "cell_type": "code",
   "execution_count": 63,
   "id": "6dc3c9e0",
   "metadata": {},
   "outputs": [],
   "source": [
    "number =[1,2,3,4,5,6,7,8]\n",
    "fruits = [\"apples\",\"pine\",\"mango\", \"alunguntugui\"]\n",
    "mixed_type = [1,2,3.5,4.9,\"mango\", \"alunguntugui\"]"
   ]
  },
  {
   "cell_type": "code",
   "execution_count": 66,
   "id": "3198fe77",
   "metadata": {},
   "outputs": [
    {
     "data": {
      "text/plain": [
       "[1, 2, 3.5, 4.9, 'mango', 'alunguntugui']"
      ]
     },
     "execution_count": 66,
     "metadata": {},
     "output_type": "execute_result"
    }
   ],
   "source": [
    "mixed_type"
   ]
  },
  {
   "cell_type": "markdown",
   "id": "99946927",
   "metadata": {},
   "source": [
    "### 2.1 Creating a List"
   ]
  },
  {
   "cell_type": "code",
   "execution_count": null,
   "id": "e8a48dd9",
   "metadata": {},
   "outputs": [],
   "source": [
    "number =[1,2,3,4,5,6,7,8]\n",
    "fruits = [\"apples\",\"pine\",\"mango\", \"alunguntugui\"]\n",
    "mixed_type = [1,2,3.5,4.9,\"mango\", \"alunguntugui\"]"
   ]
  },
  {
   "cell_type": "markdown",
   "id": "c797acf2",
   "metadata": {},
   "source": [
    "To create a list, simply enclose its elements in **square brackets [ ]** and separate them with **commas**. Afterward, **assign the list to a variable**."
   ]
  },
  {
   "cell_type": "code",
   "execution_count": null,
   "id": "2dcb3a54",
   "metadata": {},
   "outputs": [],
   "source": [
    "# Creating a list\n",
    "my_list = [element1, element2, element3, ...]"
   ]
  },
  {
   "cell_type": "markdown",
   "id": "92e73b77",
   "metadata": {},
   "source": [
    "**NOTE:** When creating a Python list, you can directly include integers, floats, and Booleans without quotes. However, **strings should be enclosed in either single or double quotes**."
   ]
  },
  {
   "cell_type": "markdown",
   "id": "623b345e",
   "metadata": {},
   "source": [
    "#### Examples of valid Python lists"
   ]
  },
  {
   "cell_type": "code",
   "execution_count": 78,
   "id": "74b3555c",
   "metadata": {},
   "outputs": [],
   "source": [
    "number =[1,2,3,4,5,6,7,8]\n",
    "fruits = [\"apples\",\"pine\",[1,2,3,5],\"mango\", \"alunguntugui\"]\n",
    "mixed_type = [1,2,3.5,4.9,\"mango\", \"alunguntugui\"]"
   ]
  },
  {
   "cell_type": "markdown",
   "id": "d0f2d98c",
   "metadata": {},
   "source": [
    "### 2.2 Accessing List Elements\n"
   ]
  },
  {
   "cell_type": "markdown",
   "id": "d95b4423",
   "metadata": {},
   "source": [
    "You can access elements in a list using **indexing**. Indexing refers to the process of accessing individual elements within a list **by their position or index number**. Each element in a list has a **unique position index, starting from 0**. By specifying the index number in *square brackets* **[ ]**, you can retrieve the value of a specific element in the list."
   ]
  },
  {
   "cell_type": "markdown",
   "id": "011a0c30",
   "metadata": {},
   "source": [
    "**NOTE:** In Python, **negative indices** are used to access elements from the end of the list, allowing you to retrieve elements from the list **in reverse order**."
   ]
  },
  {
   "cell_type": "code",
   "execution_count": 67,
   "id": "1441269a",
   "metadata": {},
   "outputs": [
    {
     "data": {
      "text/plain": [
       "'pine'"
      ]
     },
     "execution_count": 67,
     "metadata": {},
     "output_type": "execute_result"
    }
   ],
   "source": [
    "fruits[1]"
   ]
  },
  {
   "cell_type": "code",
   "execution_count": 87,
   "id": "75a412d3",
   "metadata": {},
   "outputs": [],
   "source": [
    "list2 = fruits[2]"
   ]
  },
  {
   "cell_type": "code",
   "execution_count": 89,
   "id": "c63cb00b",
   "metadata": {},
   "outputs": [],
   "source": [
    "check =fruits +list2"
   ]
  },
  {
   "cell_type": "code",
   "execution_count": 92,
   "id": "ca11c3f8",
   "metadata": {},
   "outputs": [
    {
     "data": {
      "text/plain": [
       "['apples', 'pine', [1, 2, 3, 5], 'grapes', 'alunguntugui', 'kiwi', 1, 2, 3, 5]"
      ]
     },
     "execution_count": 92,
     "metadata": {},
     "output_type": "execute_result"
    }
   ],
   "source": [
    "check"
   ]
  },
  {
   "cell_type": "code",
   "execution_count": 91,
   "id": "2a0d6c1e",
   "metadata": {},
   "outputs": [
    {
     "data": {
      "text/plain": [
       "3"
      ]
     },
     "execution_count": 91,
     "metadata": {},
     "output_type": "execute_result"
    }
   ],
   "source": [
    "check[-2]"
   ]
  },
  {
   "cell_type": "markdown",
   "id": "a3f85cb4",
   "metadata": {},
   "source": [
    "### 2.3 Modifying a List\n"
   ]
  },
  {
   "cell_type": "markdown",
   "id": "83221cbf",
   "metadata": {},
   "source": [
    "In addition to accessing elements, you can also modify the contents of a list. **Lists are mutable**, meaning you can change, add, or remove elements after the list has been created. This flexibility makes lists a powerful and dynamic data structure in Python.\n",
    "\n",
    "To modify a specific element in a list, **you can use indexing to access the element and then assign a new value to it**."
   ]
  },
  {
   "cell_type": "code",
   "execution_count": 81,
   "id": "bb6d4220",
   "metadata": {},
   "outputs": [],
   "source": [
    "fruits[3]=\"grapes\""
   ]
  },
  {
   "cell_type": "code",
   "execution_count": 76,
   "id": "38975aa1",
   "metadata": {},
   "outputs": [
    {
     "data": {
      "text/plain": [
       "['apples', 'pine', [1, 2, 3, 5], 'grapes', 'alunguntugui']"
      ]
     },
     "execution_count": 76,
     "metadata": {},
     "output_type": "execute_result"
    }
   ],
   "source": [
    "fruits[3]= \"grapes\"\n",
    "fruits"
   ]
  },
  {
   "cell_type": "markdown",
   "id": "f878fcc3",
   "metadata": {},
   "source": [
    "#### Adding a New Element to the List"
   ]
  },
  {
   "cell_type": "markdown",
   "id": "10e7752a",
   "metadata": {},
   "source": [
    "You can add elements to the end of a list using the **append()** method. The *append()* method is a standard method in Python for adding a single element to the end of a list.\n"
   ]
  },
  {
   "cell_type": "code",
   "execution_count": 82,
   "id": "ec537393",
   "metadata": {},
   "outputs": [],
   "source": [
    "fruits.append('kiwi')"
   ]
  },
  {
   "cell_type": "code",
   "execution_count": 83,
   "id": "ae3e73b0",
   "metadata": {},
   "outputs": [
    {
     "data": {
      "text/plain": [
       "['apples', 'pine', [1, 2, 3, 5], 'grapes', 'alunguntugui', 'kiwi']"
      ]
     },
     "execution_count": 83,
     "metadata": {},
     "output_type": "execute_result"
    }
   ],
   "source": [
    "fruits"
   ]
  },
  {
   "cell_type": "markdown",
   "id": "4654de1a",
   "metadata": {},
   "source": [
    "#### Removing Elements from a List\n"
   ]
  },
  {
   "cell_type": "markdown",
   "id": "9ab1cb19",
   "metadata": {},
   "source": [
    "To remove elements from a list, you can use the **remove()** method by specifying the value of the element you want to delete. Alternatively, you can use the **pop()** method to remove an element at a specific index."
   ]
  },
  {
   "cell_type": "code",
   "execution_count": 97,
   "id": "353f9df0",
   "metadata": {},
   "outputs": [
    {
     "data": {
      "text/plain": [
       "['apples', 'pine', [1, 2, 3, 5], 'alunguntugui', 'kiwi']"
      ]
     },
     "execution_count": 97,
     "metadata": {},
     "output_type": "execute_result"
    }
   ],
   "source": [
    "fruits1 = fruits.copy()\n",
    "#fruits1.pop(1)\n",
    "fruits1.remove('grapes')\n",
    "fruits1"
   ]
  },
  {
   "cell_type": "markdown",
   "id": "ea185965",
   "metadata": {},
   "source": [
    "### 2.4 Slicing a List"
   ]
  },
  {
   "cell_type": "markdown",
   "id": "11b82c06",
   "metadata": {},
   "source": [
    "Slicing a list in Python refers to the technique of **extracting a portion of a list to create a new list**. This is achieved by specifying a range of indices using the **colon (:) operator** within square brackets."
   ]
  },
  {
   "cell_type": "code",
   "execution_count": null,
   "id": "ef2c3287",
   "metadata": {},
   "outputs": [],
   "source": [
    "# Syntax\n",
    "new_slice = my_list[start_index:end_index]"
   ]
  },
  {
   "cell_type": "markdown",
   "id": "81bd4b97",
   "metadata": {},
   "source": [
    "**NOTE**: It's important to understand that in Python slicing, **the element at the end index is not included in the selected range**. For example, **my_list[0:3]** selects elements **starting from index 0 up to index 2** *(but not including index 3)*, meaning Python will only select the elements at **indices 0, 1, and 2**. This is important for understanding how slicing works in Python."
   ]
  },
  {
   "cell_type": "code",
   "execution_count": 103,
   "id": "790c8025",
   "metadata": {},
   "outputs": [
    {
     "data": {
      "text/plain": [
       "['apples', 'pine', [1, 2, 3, 5], 'grapes', 'alunguntugui', 'kiwi']"
      ]
     },
     "execution_count": 103,
     "metadata": {},
     "output_type": "execute_result"
    }
   ],
   "source": [
    "fruits"
   ]
  },
  {
   "cell_type": "code",
   "execution_count": 107,
   "id": "a9e4c6b6",
   "metadata": {},
   "outputs": [
    {
     "data": {
      "text/plain": [
       "['apples', 'pine']"
      ]
     },
     "execution_count": 107,
     "metadata": {},
     "output_type": "execute_result"
    }
   ],
   "source": [
    "fruits[:-4:1]"
   ]
  },
  {
   "cell_type": "markdown",
   "id": "c7fb580a",
   "metadata": {},
   "source": [
    "#### Omitting Indices in Slicing\n"
   ]
  },
  {
   "cell_type": "markdown",
   "id": "f9edf267",
   "metadata": {},
   "source": [
    "You can omit one or both indices when slicing. If the starting index is omitted, it defaults to **the beginning of the list**. If the ending index is omitted, it defaults to **the end of the list**."
   ]
  },
  {
   "cell_type": "markdown",
   "id": "14c6af02",
   "metadata": {},
   "source": [
    "#### Negative Indices in Slicing\n"
   ]
  },
  {
   "cell_type": "markdown",
   "id": "3166259d",
   "metadata": {},
   "source": [
    "You can also use negative indices to extract elements from the end of the list."
   ]
  },
  {
   "cell_type": "markdown",
   "id": "6cda499a",
   "metadata": {},
   "source": [
    "### 2.5 Searching for List Elements"
   ]
  },
  {
   "cell_type": "markdown",
   "id": "0cff8815",
   "metadata": {},
   "source": [
    "Python provides a convenient way to check if a specific element exists in a list using the **in** keyword. This keyword returns a Boolean value, indicating whether the specified element is present in the list or not."
   ]
  },
  {
   "cell_type": "code",
   "execution_count": 109,
   "id": "9d637a92",
   "metadata": {},
   "outputs": [
    {
     "data": {
      "text/plain": [
       "True"
      ]
     },
     "execution_count": 109,
     "metadata": {},
     "output_type": "execute_result"
    }
   ],
   "source": [
    "\"apples\" in fruits"
   ]
  },
  {
   "cell_type": "markdown",
   "id": "e73c6efe",
   "metadata": {},
   "source": [
    "# 3. Tuples"
   ]
  },
  {
   "cell_type": "markdown",
   "id": "57870e83",
   "metadata": {},
   "source": [
    "A tuple is another type of container in Python. **It is mostly similar to a list**, but with a few differences. **Tuples are created with parentheses, and they are immutable**. This means that once a tuple is created, its elements cannot be changed or modified. This makes tuples suitable for situations where the data should remain constant throughout the program."
   ]
  },
  {
   "cell_type": "markdown",
   "id": "6b615e58",
   "metadata": {},
   "source": [
    "To create a tuple, use **parentheses ()** instead of square brackets, and separate the elements with commas. Assign the tuple to a variable."
   ]
  },
  {
   "cell_type": "markdown",
   "id": "d6a30c5d",
   "metadata": {},
   "source": [
    "# Creating a tuple\n",
    "my_tuple = (element1, element2, element3, ...)"
   ]
  },
  {
   "cell_type": "code",
   "execution_count": 110,
   "id": "3b041863",
   "metadata": {},
   "outputs": [],
   "source": [
    "number =(1,2,3,4,5,6,7,8)\n",
    "fruits = (\"apples\",\"pine\",\"mango\", \"alunguntugui\")\n",
    "mixed_type = (1,2,3.5,4.9,\"mango\", \"alunguntugui\")"
   ]
  },
  {
   "cell_type": "markdown",
   "id": "831c87f0",
   "metadata": {},
   "source": [
    "**NOTE:** Elements within a tuple can be of different data types, and when including strings, they should be enclosed in either single or double quotes to ensure proper formatting and interpretation."
   ]
  },
  {
   "cell_type": "markdown",
   "id": "dca1c6ec",
   "metadata": {},
   "source": [
    "### 3.2 Accessing Tuple Elements"
   ]
  },
  {
   "cell_type": "markdown",
   "id": "d196a613",
   "metadata": {},
   "source": [
    "Similar to lists, you can access elements in a tuple using indexing. Indexing starts from 0, and negative indices can be used to access elements from the end of the tuple.\n"
   ]
  },
  {
   "cell_type": "code",
   "execution_count": 111,
   "id": "d37f453b",
   "metadata": {},
   "outputs": [
    {
     "data": {
      "text/plain": [
       "'alunguntugui'"
      ]
     },
     "execution_count": 111,
     "metadata": {},
     "output_type": "execute_result"
    }
   ],
   "source": [
    "mixed_type[-1]"
   ]
  },
  {
   "cell_type": "code",
   "execution_count": 112,
   "id": "42eef333",
   "metadata": {},
   "outputs": [
    {
     "ename": "TypeError",
     "evalue": "'tuple' object does not support item assignment",
     "output_type": "error",
     "traceback": [
      "\u001b[1;31m---------------------------------------------------------------------------\u001b[0m",
      "\u001b[1;31mTypeError\u001b[0m                                 Traceback (most recent call last)",
      "\u001b[1;32m~\\AppData\\Local\\Temp\\ipykernel_32588\\3053616769.py\u001b[0m in \u001b[0;36m<module>\u001b[1;34m\u001b[0m\n\u001b[1;32m----> 1\u001b[1;33m \u001b[0mmixed_type\u001b[0m\u001b[1;33m[\u001b[0m\u001b[1;33m-\u001b[0m\u001b[1;36m1\u001b[0m\u001b[1;33m]\u001b[0m \u001b[1;33m=\u001b[0m \u001b[1;36m1\u001b[0m\u001b[1;33m\u001b[0m\u001b[1;33m\u001b[0m\u001b[0m\n\u001b[0m",
      "\u001b[1;31mTypeError\u001b[0m: 'tuple' object does not support item assignment"
     ]
    }
   ],
   "source": [
    "mixed_type[-1] = 1"
   ]
  },
  {
   "cell_type": "markdown",
   "id": "163b21fa",
   "metadata": {},
   "source": [
    "### 3.3 Searching for Tuple Elements"
   ]
  },
  {
   "cell_type": "markdown",
   "id": "186102bb",
   "metadata": {},
   "source": [
    "To check if a specific element exists in a tuple, you can use the **in** keyword, similar to lists."
   ]
  },
  {
   "cell_type": "code",
   "execution_count": 115,
   "id": "44958baf",
   "metadata": {},
   "outputs": [
    {
     "data": {
      "text/plain": [
       "True"
      ]
     },
     "execution_count": 115,
     "metadata": {},
     "output_type": "execute_result"
    }
   ],
   "source": [
    "\"alunguntugui\" in fruits"
   ]
  },
  {
   "cell_type": "code",
   "execution_count": 114,
   "id": "b4dd1104",
   "metadata": {
    "scrolled": true
   },
   "outputs": [
    {
     "data": {
      "text/plain": [
       "('apples', 'pine', 'mango', 'alunguntugui')"
      ]
     },
     "execution_count": 114,
     "metadata": {},
     "output_type": "execute_result"
    }
   ],
   "source": [
    "fruits"
   ]
  },
  {
   "cell_type": "markdown",
   "id": "19acc7e8",
   "metadata": {},
   "source": [
    "# 4. Sets"
   ]
  },
  {
   "cell_type": "markdown",
   "id": "791c6eae",
   "metadata": {},
   "source": [
    "In Python, a set is an **unordered collection of unique elements**. This means that **a set cannot contain duplicate values**, making it an ideal data structure when you need to store a collection of distinct items. Sets are mutable, allowing you to add or remove elements after creation."
   ]
  },
  {
   "cell_type": "markdown",
   "id": "f0f47fa1",
   "metadata": {},
   "source": [
    "### 4.1 Creating a Set"
   ]
  },
  {
   "cell_type": "markdown",
   "id": "6235ca8a",
   "metadata": {},
   "source": [
    "To create a set, use **curly braces {}** or the **set()** constructor, and separate the elements with commas."
   ]
  },
  {
   "cell_type": "code",
   "execution_count": null,
   "id": "38f560fa",
   "metadata": {},
   "outputs": [],
   "source": [
    "# Creating a set\n",
    "my_set = {element1, element2, element3, ...}\n",
    "\n",
    "# Creating a set using set() constructor\n",
    "my_set = set([element1, element2, element3, ...])"
   ]
  },
  {
   "cell_type": "markdown",
   "id": "5c7e686d",
   "metadata": {},
   "source": [
    "**NOTE**: Unlike lists and tuples, **sets do not support indexing** as they are unordered collections."
   ]
  },
  {
   "cell_type": "markdown",
   "id": "319b888d",
   "metadata": {},
   "source": [
    "#### Examples of Sets"
   ]
  },
  {
   "cell_type": "code",
   "execution_count": 131,
   "id": "e276179c",
   "metadata": {},
   "outputs": [],
   "source": [
    "# Set of integers\n",
    "number_set = {1, 2, 3, 4, 5}\n",
    "\n",
    "# Set of strings\n",
    "fruit_set = {\"apple\", \"banana\", \"orange\"}\n",
    "\n",
    "# Mixed-type set\n",
    "mixed_set = {1, 2, 3.5, \"apple\", \"banana\", True}"
   ]
  },
  {
   "cell_type": "code",
   "execution_count": 117,
   "id": "67d66e81",
   "metadata": {},
   "outputs": [
    {
     "data": {
      "text/plain": [
       "{1, 2, 3, 4, 5, 6, 7, 8}"
      ]
     },
     "execution_count": 117,
     "metadata": {},
     "output_type": "execute_result"
    }
   ],
   "source": [
    "number_set = {1, 2,8,6, 3, 4, 5,7,8,6,5,3,1,2}\n",
    "number_set"
   ]
  },
  {
   "cell_type": "markdown",
   "id": "8c3df8b7",
   "metadata": {},
   "source": [
    "### 4.2 Accessing Set Elements"
   ]
  },
  {
   "cell_type": "markdown",
   "id": "80c2ecea",
   "metadata": {},
   "source": [
    "Since sets are unordered, **they do not have indices**, and **you cannot access specific elements using indexing**. Instead, you can check for the existence of an element in the set."
   ]
  },
  {
   "cell_type": "code",
   "execution_count": 119,
   "id": "7929391d",
   "metadata": {},
   "outputs": [
    {
     "data": {
      "text/plain": [
       "True"
      ]
     },
     "execution_count": 119,
     "metadata": {},
     "output_type": "execute_result"
    }
   ],
   "source": [
    "1 in number_set"
   ]
  },
  {
   "cell_type": "markdown",
   "id": "25ded7d9",
   "metadata": {},
   "source": [
    "### 4.3 Modifying a Set"
   ]
  },
  {
   "cell_type": "markdown",
   "id": "96444e8f",
   "metadata": {},
   "source": [
    "Sets in Python are mutable, meaning **you can add or remove elements** after the set has been created. However, due to their unordered nature and lack of indices, **direct editing of specific elements in a set is not possible**. If you want to update an element within a set, the common approach is to remove the existing element and then add the updated element as a new entry to the set."
   ]
  },
  {
   "cell_type": "code",
   "execution_count": 123,
   "id": "cf86a495",
   "metadata": {},
   "outputs": [],
   "source": [
    "fruit_set .add(\"kiwi\")"
   ]
  },
  {
   "cell_type": "code",
   "execution_count": 135,
   "id": "4bf168b1",
   "metadata": {},
   "outputs": [
    {
     "data": {
      "text/plain": [
       "'apple'"
      ]
     },
     "execution_count": 135,
     "metadata": {},
     "output_type": "execute_result"
    }
   ],
   "source": [
    "fruit_set.pop()"
   ]
  },
  {
   "cell_type": "code",
   "execution_count": 133,
   "id": "cede2b9c",
   "metadata": {},
   "outputs": [
    {
     "data": {
      "text/plain": [
       "{'apple', 'orange'}"
      ]
     },
     "execution_count": 133,
     "metadata": {},
     "output_type": "execute_result"
    }
   ],
   "source": [
    "fruit_set"
   ]
  },
  {
   "cell_type": "markdown",
   "id": "a3370254",
   "metadata": {},
   "source": [
    "#### Adding Elements to a Set\n"
   ]
  },
  {
   "cell_type": "markdown",
   "id": "8ccf9b6d",
   "metadata": {},
   "source": [
    "To add *a single element* to a set, use the **add()** method.\n"
   ]
  },
  {
   "cell_type": "markdown",
   "id": "41f6f69a",
   "metadata": {},
   "source": [
    "#### Adding Multiple Elements to a Set\n"
   ]
  },
  {
   "cell_type": "markdown",
   "id": "a1a5abc0",
   "metadata": {},
   "source": [
    "To add multiple elements to a set, use the **update()** method.\n"
   ]
  },
  {
   "cell_type": "code",
   "execution_count": 126,
   "id": "e2af3037",
   "metadata": {},
   "outputs": [],
   "source": [
    "fruit_set.update([\"grapes\",\"watermelon\"])"
   ]
  },
  {
   "cell_type": "markdown",
   "id": "aaf2cf98",
   "metadata": {},
   "source": [
    "#### Removing Elements from a Set\n",
    "To remove an element from a set, use the **remove()** method.\n"
   ]
  },
  {
   "cell_type": "code",
   "execution_count": 128,
   "id": "b5a32f1d",
   "metadata": {},
   "outputs": [],
   "source": [
    "fruit_set.remove(\"kiwi\")"
   ]
  },
  {
   "cell_type": "markdown",
   "id": "d2e828a5",
   "metadata": {},
   "source": [
    "# 3. Python Dictionaries: Understanding Key-Value Pairs"
   ]
  },
  {
   "cell_type": "markdown",
   "id": "0d6ffa4b",
   "metadata": {},
   "source": [
    "In Python, dictionaries are a fundamental data structure that allows you to store and retrieve data values **in key-value pairs**. Each key in a dictionary is unique and is associated with a specific value. **Dictionaries are mutable**, enabling you to modify, add, or remove key-value pairs dynamically.\n",
    "\n",
    "Dictionaries are denoted with **curly brackets {}** and consist of keys and their corresponding values. **Each key-value pair is separated by a colon (:)**."
   ]
  },
  {
   "cell_type": "markdown",
   "id": "2549cba0",
   "metadata": {},
   "source": [
    "### 3.1 Creating a Dictionary"
   ]
  },
  {
   "cell_type": "markdown",
   "id": "d5140f0b",
   "metadata": {},
   "source": [
    "To create a dictionary, **use curly braces {}** and **separate key-value pairs with colons \":\"**. Each key-value pair is **separated by commas**."
   ]
  },
  {
   "cell_type": "markdown",
   "id": "0fefb416",
   "metadata": {},
   "source": [
    "Alternatively, you can use the **dict()** constructor to create a dictionary.\n"
   ]
  },
  {
   "cell_type": "code",
   "execution_count": null,
   "id": "2b5b97ed",
   "metadata": {},
   "outputs": [],
   "source": [
    "# Syntax\n",
    "my_dict = {key:value,   key:value,    key:value}\n",
    "\n",
    "\n",
    "my_dict = dict(key1=value1, key2=value2, key3=value3, ...)"
   ]
  },
  {
   "cell_type": "markdown",
   "id": "d25036a1",
   "metadata": {},
   "source": [
    "#### Examples of Dictionaries"
   ]
  },
  {
   "cell_type": "code",
   "execution_count": 137,
   "id": "6e530d27",
   "metadata": {},
   "outputs": [],
   "source": [
    "member_info = {'Name': 'Florentia', 'Age': 25, 'City': 'Accra'}\n",
    "\n",
    "# Example 2: Student Information\n",
    "student_info = {\n",
    "    \"name\": \"Glen Anum\",\n",
    "    \"age\": 20,\n",
    "    \"grade\": \"A\",\n",
    "    \"subjects\": [\"Math\", \"Science\", \"English\"]\n",
    "}\n",
    "\n",
    "# Example 1: Membership Information\n",
    "member_info = {'Name': 'Florentia', 'Age': 25, 'City': 'Accra'}\n",
    "\n",
    "# Example 2: Student Information\n",
    "student_info = {\n",
    "    \"name\": \"Glen Anum\",\n",
    "    \"age\": 20,\n",
    "    \"grade\": \"A\",\n",
    "    \"subjects\": [\"Math\", \"Science\", \"English\"]\n",
    "}\n",
    "\n",
    "# Example 2: Book Information\n",
    "book_info = {\n",
    "    \"title\": \"Python Programming for Beginners\",\n",
    "    \"author\": \"Marvin Lomo\",\n",
    "    \"published_year\": 2022,\n",
    "    \"isbn\": \"978-1-234567-89-0\",\n",
    "    \"is_available\": True\n",
    "}"
   ]
  },
  {
   "cell_type": "code",
   "execution_count": 138,
   "id": "0a2aa860",
   "metadata": {},
   "outputs": [
    {
     "data": {
      "text/plain": [
       "4"
      ]
     },
     "execution_count": 138,
     "metadata": {},
     "output_type": "execute_result"
    }
   ],
   "source": [
    "len(student_info)"
   ]
  },
  {
   "cell_type": "code",
   "execution_count": 139,
   "id": "beaad746",
   "metadata": {},
   "outputs": [
    {
     "data": {
      "text/plain": [
       "['Math', 'Science', 'English']"
      ]
     },
     "execution_count": 139,
     "metadata": {},
     "output_type": "execute_result"
    }
   ],
   "source": [
    "student_info[\"subjects\"]"
   ]
  },
  {
   "cell_type": "code",
   "execution_count": 140,
   "id": "37962110",
   "metadata": {},
   "outputs": [
    {
     "data": {
      "text/plain": [
       "'Science'"
      ]
     },
     "execution_count": 140,
     "metadata": {},
     "output_type": "execute_result"
    }
   ],
   "source": [
    "student_info[\"subjects\"][1]"
   ]
  },
  {
   "cell_type": "markdown",
   "id": "ab2b8d21",
   "metadata": {},
   "source": [
    "**Important Note**: In a dictionary, the values can be of any data type, but there are specific rules for the keys. Firstly, each key can only appear once in a dictionary; duplicates are not allowed. Secondly, a dictionary key must belong to an immutable type (*like strings, integers, or tuples*), and it cannot be a mutable type such as a *list*."
   ]
  },
  {
   "cell_type": "code",
   "execution_count": null,
   "id": "049f3fd8",
   "metadata": {},
   "outputs": [],
   "source": []
  },
  {
   "cell_type": "markdown",
   "id": "a0b170a3",
   "metadata": {},
   "source": [
    "### 3.2 Accessing Dictionary Elements"
   ]
  },
  {
   "cell_type": "markdown",
   "id": "19a19556",
   "metadata": {},
   "source": [
    "You can access the value associated with a specific key in a dictionary using **square brackets []**."
   ]
  },
  {
   "cell_type": "code",
   "execution_count": 141,
   "id": "d8139148",
   "metadata": {},
   "outputs": [
    {
     "data": {
      "text/plain": [
       "'978-1-234567-89-0'"
      ]
     },
     "execution_count": 141,
     "metadata": {},
     "output_type": "execute_result"
    }
   ],
   "source": [
    "book_info['isbn']"
   ]
  },
  {
   "cell_type": "markdown",
   "id": "abb9d359",
   "metadata": {},
   "source": [
    "### 3.3 Modifying a Dictionary"
   ]
  },
  {
   "cell_type": "markdown",
   "id": "b4b28f52",
   "metadata": {},
   "source": [
    "Dictionaries are mutable, so **you can modify, add, or remove key-value pairs**.\n"
   ]
  },
  {
   "cell_type": "markdown",
   "id": "63e5aa03",
   "metadata": {},
   "source": [
    "#### Modifying the Value of a Key\n"
   ]
  },
  {
   "cell_type": "code",
   "execution_count": 142,
   "id": "3a5d43fa",
   "metadata": {},
   "outputs": [],
   "source": [
    "book_info['isbn'] = \"123-9877-99-999-87\""
   ]
  },
  {
   "cell_type": "code",
   "execution_count": 143,
   "id": "133e63f0",
   "metadata": {},
   "outputs": [
    {
     "data": {
      "text/plain": [
       "{'title': 'Python Programming for Beginners',\n",
       " 'author': 'Marvin Lomo',\n",
       " 'published_year': 2022,\n",
       " 'isbn': '123-9877-99-999-87',\n",
       " 'is_available': True}"
      ]
     },
     "execution_count": 143,
     "metadata": {},
     "output_type": "execute_result"
    }
   ],
   "source": [
    "book_info"
   ]
  },
  {
   "cell_type": "markdown",
   "id": "b02cd55a",
   "metadata": {},
   "source": [
    "To modify the value associated with a key, **use the key within square brackets and assign a new value**.\n"
   ]
  },
  {
   "cell_type": "markdown",
   "id": "b29b4117",
   "metadata": {},
   "source": [
    "#### Adding a New Key-Value Pair\n"
   ]
  },
  {
   "cell_type": "markdown",
   "id": "79ee3d3f",
   "metadata": {},
   "source": [
    "To add a new key-value pair, **assign a value to a new key** within square brackets.\n"
   ]
  },
  {
   "cell_type": "code",
   "execution_count": 144,
   "id": "deb157c5",
   "metadata": {},
   "outputs": [],
   "source": [
    "member_info['gender'] = \"other\""
   ]
  },
  {
   "cell_type": "code",
   "execution_count": 145,
   "id": "bccc06b2",
   "metadata": {},
   "outputs": [
    {
     "data": {
      "text/plain": [
       "{'Name': 'Florentia', 'Age': 25, 'City': 'Accra', 'gender': 'other'}"
      ]
     },
     "execution_count": 145,
     "metadata": {},
     "output_type": "execute_result"
    }
   ],
   "source": [
    "member_info"
   ]
  },
  {
   "cell_type": "markdown",
   "id": "54117d9d",
   "metadata": {},
   "source": [
    "#### Removing a Key-Value Pair\n"
   ]
  },
  {
   "cell_type": "markdown",
   "id": "895665dd",
   "metadata": {},
   "source": [
    "To remove a key-value pair, use the **pop()** method. This method requires you to specify the key of the pair you want to remove. \n"
   ]
  },
  {
   "cell_type": "code",
   "execution_count": 146,
   "id": "7f5dd2a5",
   "metadata": {},
   "outputs": [
    {
     "data": {
      "text/plain": [
       "'Florentia'"
      ]
     },
     "execution_count": 146,
     "metadata": {},
     "output_type": "execute_result"
    }
   ],
   "source": [
    "member_info.pop('Name')\n",
    "# .popitem()\n",
    "#del member_info['age']\n",
    "#.clear()"
   ]
  },
  {
   "cell_type": "code",
   "execution_count": 147,
   "id": "17d6c54a",
   "metadata": {},
   "outputs": [
    {
     "data": {
      "text/plain": [
       "{'Age': 25, 'City': 'Accra', 'gender': 'other'}"
      ]
     },
     "execution_count": 147,
     "metadata": {},
     "output_type": "execute_result"
    }
   ],
   "source": [
    "member_info"
   ]
  },
  {
   "cell_type": "markdown",
   "id": "ac5b7134",
   "metadata": {},
   "source": [
    "# 4. Basic Dictionary Methods and Operations"
   ]
  },
  {
   "cell_type": "markdown",
   "id": "d09cac19",
   "metadata": {},
   "source": [
    "Python provides a set of built-in methods and operations that can be used on dictionaries."
   ]
  },
  {
   "cell_type": "markdown",
   "id": "ce9841dc",
   "metadata": {},
   "source": [
    "### 4.1 Dictionary Methods"
   ]
  },
  {
   "cell_type": "markdown",
   "id": "ec02505f",
   "metadata": {},
   "source": [
    " Below are some commonly used dictionary methods:\n",
    "\n",
    " - **clear()**: Removes all the elements from the dictionary.\n",
    " - **copy()**: Returns a copy of the dictionary.\n",
    " - **get()**: Returns the value of the specified key.\n",
    " - **keys()**: Returns a list containing the dictionary's keys."
   ]
  },
  {
   "cell_type": "code",
   "execution_count": 148,
   "id": "71c359d0",
   "metadata": {},
   "outputs": [
    {
     "data": {
      "text/plain": [
       "25"
      ]
     },
     "execution_count": 148,
     "metadata": {},
     "output_type": "execute_result"
    }
   ],
   "source": [
    "member_info.get('Age') "
   ]
  },
  {
   "cell_type": "code",
   "execution_count": 149,
   "id": "4723b783",
   "metadata": {
    "scrolled": true
   },
   "outputs": [
    {
     "data": {
      "text/plain": [
       "dict_keys(['Age', 'City', 'gender'])"
      ]
     },
     "execution_count": 149,
     "metadata": {},
     "output_type": "execute_result"
    }
   ],
   "source": [
    "member_info.keys()"
   ]
  },
  {
   "cell_type": "code",
   "execution_count": 150,
   "id": "8908e9ff",
   "metadata": {},
   "outputs": [
    {
     "data": {
      "text/plain": [
       "dict_values([25, 'Accra', 'other'])"
      ]
     },
     "execution_count": 150,
     "metadata": {},
     "output_type": "execute_result"
    }
   ],
   "source": [
    "member_info.values()"
   ]
  },
  {
   "cell_type": "code",
   "execution_count": null,
   "id": "f1b49dc6",
   "metadata": {},
   "outputs": [],
   "source": [
    "a= 5\n",
    "b = 5"
   ]
  },
  {
   "cell_type": "markdown",
   "id": "20b126ec",
   "metadata": {},
   "source": [
    "# 6. Practice Exercises"
   ]
  },
  {
   "cell_type": "markdown",
   "id": "b7d50dd1",
   "metadata": {},
   "source": [
    "1. Create a dictionary representing a library. Each book in the library should have an ISBN number as its key and a dictionary representing the book (with keys for 'title', 'author', and 'year') as its value.\n",
    "\n",
    "2. Add a new book to the library dictionary and print out the updated library."
   ]
  }
 ],
 "metadata": {
  "kernelspec": {
   "display_name": "Python 3 (ipykernel)",
   "language": "python",
   "name": "python3"
  },
  "language_info": {
   "codemirror_mode": {
    "name": "ipython",
    "version": 3
   },
   "file_extension": ".py",
   "mimetype": "text/x-python",
   "name": "python",
   "nbconvert_exporter": "python",
   "pygments_lexer": "ipython3",
   "version": "2022.10.undefined"
  }
 },
 "nbformat": 4,
 "nbformat_minor": 5
}
