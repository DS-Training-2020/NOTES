{
 "cells": [
  {
   "cell_type": "markdown",
   "id": "0691ace6-cec9-4a61-8b41-fc7dfa993b6d",
   "metadata": {},
   "source": [
    "![Quote](http://darlington.infinityfreeapp.com/images/quote5.png)"
   ]
  },
  {
   "cell_type": "markdown",
   "id": "7cbd3dbf-b178-4825-b374-beab8951d364",
   "metadata": {},
   "source": [
    "#  Creating and Using Functions in Python\n"
   ]
  },
  {
   "cell_type": "code",
   "execution_count": null,
   "id": "2138e86e",
   "metadata": {},
   "outputs": [],
   "source": [
    "print(dir(__builtins__))\n"
   ]
  },
  {
   "cell_type": "markdown",
   "id": "c41fd0f0-d8ee-4de1-a742-611dba2c77ff",
   "metadata": {},
   "source": [
    "In Python, a function is **a reusable block of code designed to perform a specific task or set of tasks**. Functions are created as separate components of a program and activated when conditions are met or explicitly called within the code. Functions are a fundamental building block in Python programming, and using functions promotes code reusability, modularity, and simplicity."
   ]
  },
  {
   "cell_type": "code",
   "execution_count": null,
   "id": "b01f5f6f-a752-4326-b3f1-c3f8d0d20150",
   "metadata": {},
   "outputs": [],
   "source": [
    "# Syntax\n",
    "def function_name(parameters):\n",
    "    \"\"\"\n",
    "    Optional Docstring: Description of the function.\n",
    "    \"\"\"\n",
    "    # Code block for the function\n",
    "    # ..."
   ]
  },
  {
   "cell_type": "markdown",
   "id": "65caab26-e50f-479b-be14-00ffc8346581",
   "metadata": {},
   "source": [
    "A function is a block of code defined to perform a specific task. However, **this function doesn't execute immediately upon definition**. Instead, it waits until you **explicitly call the function** within your code. Moreover, functions are designed to be reusable components, meaning they can be called multiple times throughout the program's execution.\n",
    "\n",
    "Using functions is a strategic approach to writing programs. It encourages clarity, organization, and ease of maintenance, making the codebase more manageable and scalable."
   ]
  },
  {
   "cell_type": "markdown",
   "id": "6be8a86f-0abb-4e2e-9fad-8242be533c1d",
   "metadata": {},
   "source": [
    "### 6.1 Creating a Function"
   ]
  },
  {
   "cell_type": "markdown",
   "id": "f02d11b3-b976-48d8-80db-c3b532f92f9b",
   "metadata": {},
   "source": [
    "To create a function in Python, you use the **def** keyword followed by the **function name and parentheses**. Any input parameters or arguments should be placed within these parentheses. The function body is indented and contains the code to be executed when the function is called."
   ]
  },
  {
   "cell_type": "markdown",
   "id": "3b8c9a2c-0003-42e4-ad4f-147685a7aad8",
   "metadata": {},
   "source": [
    "### 6.2 Calling a Function"
   ]
  },
  {
   "cell_type": "markdown",
   "id": "9548caf6-b9aa-4216-9aff-7fe009ec61eb",
   "metadata": {},
   "source": [
    "Once a function is defined, **you can call it by using its name followed by parentheses ( )**. If the function requires any arguments, you can provide them within the parentheses."
   ]
  },
  {
   "cell_type": "code",
   "execution_count": null,
   "id": "0d6c4557",
   "metadata": {},
   "outputs": [],
   "source": []
  },
  {
   "cell_type": "markdown",
   "id": "3ae7b8aa-5586-448b-bc54-c74a7c2e881c",
   "metadata": {},
   "source": [
    "### 6.3 Function Parameters and Arguments"
   ]
  },
  {
   "cell_type": "markdown",
   "id": "7c5c8974-0a2f-4dbe-a927-79c3dd7b9995",
   "metadata": {},
   "source": [
    "Parameters are **variables that are used to define a function** and receive input values. Arguments are **the actual values passed to the function** when it is called."
   ]
  },
  {
   "cell_type": "markdown",
   "id": "3950e4b3-4838-4966-89d0-c432952f0ad5",
   "metadata": {},
   "source": [
    "### 6.4 Returning Values from a Function"
   ]
  },
  {
   "cell_type": "markdown",
   "id": "3b5555ec-c7a6-44eb-ba53-6bd2bf5c4d3a",
   "metadata": {},
   "source": [
    "Functions can return values using the **return** statement. In Python, the return statement is used in a function **to specify the value or values that the function should output**. When a function encounters a return statement, it immediately stops executing, and the specified value is sent **back to the caller**. This returned value can then be assigned to a variable or used in expressions."
   ]
  },
  {
   "cell_type": "markdown",
   "id": "612f79ea-3e09-410e-aea3-f859e6332327",
   "metadata": {},
   "source": [
    "The return statement is an essential component of any function in Python. **It allows the function to communicate information back to the caller**. Without the return statement, a function would not be able to provide any output or result to the code that called it. Some functions may opt to **print values directly to the console** instead of returning them, which is useful for displaying information but does not allow the calling code to use these values for further operations."
   ]
  },
  {
   "cell_type": "markdown",
   "id": "f40c779e-c165-4b1b-ad32-4682285ddd86",
   "metadata": {},
   "source": [
    "### 6.4 Function Documentation"
   ]
  },
  {
   "cell_type": "markdown",
   "id": "5e0747d5-fe9f-4483-96bd-c558f66ee650",
   "metadata": {},
   "source": [
    "It's good practice to include documentation for your functions. This helps other programmers understand how to use your functions correctly. You can add documentation **using docstrings**, which are enclosed in triple quotes."
   ]
  },
  {
   "cell_type": "markdown",
   "id": "2964af45-695c-4ed8-b50e-ed3e2c09e75a",
   "metadata": {},
   "source": [
    "# 7. Practice Exercises"
   ]
  },
  {
   "cell_type": "markdown",
   "id": "288e4606-ad6d-4480-9558-0caa1b449999",
   "metadata": {},
   "source": [
    "#### Exercise 1:"
   ]
  },
  {
   "cell_type": "markdown",
   "id": "52a5606e-1691-4b15-9af1-5cf297436ecd",
   "metadata": {},
   "source": [
    "Write a Python function that asks the user to enter their name and prints a greeting message including their name when the function is called. For example, if the user enters \"Team\", the program should print \"*Hello, Team!*\"."
   ]
  },
  {
   "cell_type": "code",
   "execution_count": null,
   "id": "5d9de0ac-fc7f-42a2-9469-84104722b21b",
   "metadata": {},
   "outputs": [],
   "source": [
    "# Answer Exercise 1 Here\n"
   ]
  },
  {
   "cell_type": "markdown",
   "id": "acea8a16-a6d7-4b56-b422-09cc355ba2e1",
   "metadata": {},
   "source": [
    "#### Exercise 2:"
   ]
  },
  {
   "cell_type": "markdown",
   "id": "89eeeea1-5b3b-4835-9fb8-2f91ca883f99",
   "metadata": {},
   "source": [
    "Create a function that asks the user for two numbers, adds them together, and prints the result. Ensure the program handles the case where the user does not enter a valid number."
   ]
  },
  {
   "cell_type": "code",
   "execution_count": null,
   "id": "2ce93e09-00e3-4397-be8f-47bc93ff6b0d",
   "metadata": {},
   "outputs": [],
   "source": [
    "# Answer Exercise 2 Here\n"
   ]
  },
  {
   "cell_type": "markdown",
   "id": "f129a060",
   "metadata": {},
   "source": [
    "##### create and reference variables variables using the appropriate scope "
   ]
  },
  {
   "cell_type": "code",
   "execution_count": null,
   "id": "0bacc4be",
   "metadata": {},
   "outputs": [],
   "source": []
  },
  {
   "cell_type": "markdown",
   "id": "4b757aa7",
   "metadata": {},
   "source": [
    "##### Global Variables within a Function"
   ]
  },
  {
   "cell_type": "markdown",
   "id": "34c9051d",
   "metadata": {},
   "source": [
    "##### Modifying Global Variables within a Function"
   ]
  },
  {
   "cell_type": "code",
   "execution_count": null,
   "id": "92c4a3e0",
   "metadata": {},
   "outputs": [],
   "source": []
  },
  {
   "cell_type": "markdown",
   "id": "34c191d1",
   "metadata": {},
   "source": [
    "##### define lamda expressions to quickly create anonymous functions"
   ]
  },
  {
   "cell_type": "markdown",
   "id": "41ec0637",
   "metadata": {},
   "source": [
    "Lambda expressions in Python allow you to create anonymous functions quickly. They are often used for short, simple functions where defining a full function using the def keyword would be unnecessary overhead. Lambda expressions consist of the keyword lambda, followed by one or more arguments, a colon :, and an expression to evaluate. "
   ]
  }
 ],
 "metadata": {
  "kernelspec": {
   "display_name": "Python 3 (ipykernel)",
   "language": "python",
   "name": "python3"
  },
  "language_info": {
   "codemirror_mode": {
    "name": "ipython",
    "version": 3
   },
   "file_extension": ".py",
   "mimetype": "text/x-python",
   "name": "python",
   "nbconvert_exporter": "python",
   "pygments_lexer": "ipython3",
   "version": "3.9.13"
  }
 },
 "nbformat": 4,
 "nbformat_minor": 5
}
